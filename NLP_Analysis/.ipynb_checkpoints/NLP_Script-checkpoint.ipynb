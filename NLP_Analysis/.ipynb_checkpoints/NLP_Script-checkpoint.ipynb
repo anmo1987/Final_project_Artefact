{
 "cells": [
  {
   "cell_type": "code",
   "execution_count": 36,
   "id": "405a3406",
   "metadata": {},
   "outputs": [
    {
     "name": "stderr",
     "output_type": "stream",
     "text": [
      "[nltk_data] Downloading package punkt to\n",
      "[nltk_data]     /home/annemocoeur/nltk_data...\n",
      "[nltk_data]   Package punkt is already up-to-date!\n",
      "[nltk_data] Downloading package wordnet to\n",
      "[nltk_data]     /home/annemocoeur/nltk_data...\n",
      "[nltk_data]   Package wordnet is already up-to-date!\n",
      "[nltk_data] Downloading package averaged_perceptron_tagger to\n",
      "[nltk_data]     /home/annemocoeur/nltk_data...\n",
      "[nltk_data]   Package averaged_perceptron_tagger is already up-to-\n",
      "[nltk_data]       date!\n",
      "[nltk_data] Downloading package stopwords to\n",
      "[nltk_data]     /home/annemocoeur/nltk_data...\n",
      "[nltk_data]   Package stopwords is already up-to-date!\n"
     ]
    }
   ],
   "source": [
    "# TODO: import needed libraries\n",
    "import pandas as pd\n",
    "import numpy as np\n",
    "import re\n",
    "import nltk\n",
    "###FOR NLP FROM NLTK\n",
    "##from nltk I need\n",
    "nltk.download('punkt')\n",
    "nltk.download('wordnet')\n",
    "nltk.download('averaged_perceptron_tagger')\n",
    "##for stopworlds\n",
    "from nltk.corpus import stopwords\n",
    "nltk.download('stopwords')\n",
    "stop_words = stopwords.words(\"english\")\n",
    "#to transform to token\n",
    "from nltk.tokenize import word_tokenize\n",
    "##fromlemmatization & stem\n",
    "from nltk.stem import PorterStemmer\n",
    "from nltk.stem import WordNetLemmatizer\n",
    "##for tagging\n",
    "from nltk import pos_tag\n",
    "from nltk.corpus import wordnet\n",
    "##PorterStemmer\n",
    "from nltk.stem import PorterStemmer\n",
    "stemmer = PorterStemmer()\n",
    "\n",
    "# Librairies for modelling with Gensim\n",
    "from gensim.models import TfidfModel\n",
    "from gensim.models import LdaModel\n",
    "from gensim.models import LsiModel\n",
    "from gensim.corpora import Dictionary\n",
    "from gensim.models import LsiModel\n",
    "from pprint import pprint\n",
    "\n",
    "\n",
    "###FROM SKLEARN\n",
    "from sklearn.feature_extraction.text import TfidfVectorizer\n",
    "from sklearn.metrics import pairwise\n",
    "\n",
    "\n",
    "###for PCA\n",
    "import matplotlib.pyplot as plt\n",
    "from sklearn import decomposition\n",
    "from sklearn.manifold import TSNE\n",
    "\n",
    "\n",
    "##VISUALISATION\n",
    "import pyLDAvis\n",
    "from pyLDAvis import gensim\n",
    "import seaborn as sns\n",
    "import matplotlib.pyplot as plt\n",
    "from mpl_toolkits.mplot3d import Axes3D\n"
   ]
  },
  {
   "cell_type": "code",
   "execution_count": 37,
   "id": "7abbde62",
   "metadata": {},
   "outputs": [],
   "source": [
    "##Import data\n",
    "data = pd.read_csv('Description_diseases_raw_1.csv', encoding_errors=\"ignore\", delimiter=\";\")"
   ]
  },
  {
   "cell_type": "markdown",
   "id": "6b8021d8",
   "metadata": {},
   "source": [
    "# EDA : explore data and preprocess NLP"
   ]
  },
  {
   "cell_type": "markdown",
   "id": "41e4d18e",
   "metadata": {},
   "source": [
    "Exploring dataset by overlooking content in columns"
   ]
  },
  {
   "cell_type": "code",
   "execution_count": 8,
   "id": "00219664",
   "metadata": {},
   "outputs": [
    {
     "data": {
      "text/html": [
       "<div>\n",
       "<style scoped>\n",
       "    .dataframe tbody tr th:only-of-type {\n",
       "        vertical-align: middle;\n",
       "    }\n",
       "\n",
       "    .dataframe tbody tr th {\n",
       "        vertical-align: top;\n",
       "    }\n",
       "\n",
       "    .dataframe thead th {\n",
       "        text-align: right;\n",
       "    }\n",
       "</style>\n",
       "<table border=\"1\" class=\"dataframe\">\n",
       "  <thead>\n",
       "    <tr style=\"text-align: right;\">\n",
       "      <th></th>\n",
       "      <th>Disease</th>\n",
       "      <th>Overview</th>\n",
       "      <th>What</th>\n",
       "      <th>Causes</th>\n",
       "      <th>Clinical</th>\n",
       "      <th>Treatment</th>\n",
       "    </tr>\n",
       "  </thead>\n",
       "  <tbody>\n",
       "    <tr>\n",
       "      <th>0</th>\n",
       "      <td>Melanocytic nevi</td>\n",
       "      <td>Melanocytic nevus is the medical term for a mo...</td>\n",
       "      <td>Melanocytic nevi are benign tumors that that a...</td>\n",
       "      <td>Melanocytic nevi are a reflection of genetic f...</td>\n",
       "      <td>Tan to dark brown  pale pink  and occasionally...</td>\n",
       "      <td>The majority of melanocytic nevi do not requir...</td>\n",
       "    </tr>\n",
       "    <tr>\n",
       "      <th>1</th>\n",
       "      <td>Melanoma</td>\n",
       "      <td>Too much time in the sun or atanning booth in ...</td>\n",
       "      <td>As with other types of skin cancer  exposure t...</td>\n",
       "      <td>Family history of melanoma. Personal history o...</td>\n",
       "      <td>The most important warning sign for melanoma i...</td>\n",
       "      <td>Treatment options are based on the stage of th...</td>\n",
       "    </tr>\n",
       "    <tr>\n",
       "      <th>2</th>\n",
       "      <td>Benign keratosis-like lesions</td>\n",
       "      <td>Seborrheic keratosis is the most common type o...</td>\n",
       "      <td>Seborrheic keratosis is a type of benign (non-...</td>\n",
       "      <td>Doctors aren?t sure what causes seborrheic ker...</td>\n",
       "      <td>People with seborrheic keratosis may notice a ...</td>\n",
       "      <td>In most cases  no treatment is necessary for s...</td>\n",
       "    </tr>\n",
       "    <tr>\n",
       "      <th>3</th>\n",
       "      <td>basal cell carcinomas</td>\n",
       "      <td>If you finda suspicious spot or mole on your s...</td>\n",
       "      <td>Basal cell carcinoma is a type of skin cancer ...</td>\n",
       "      <td>People at the highest risk for basal cell carc...</td>\n",
       "      <td>A basal cell carcinoma is a stubborn  persiste...</td>\n",
       "      <td>Most of the time  basal cell carcinoma remains...</td>\n",
       "    </tr>\n",
       "    <tr>\n",
       "      <th>4</th>\n",
       "      <td>actinic keratosis</td>\n",
       "      <td>Unlike most skin conditions caused by the sun ...</td>\n",
       "      <td>Actinic keratoses are often referred to in the...</td>\n",
       "      <td>caused by the accumulation of sun exposure ove...</td>\n",
       "      <td>Patients will often notice a rough spot that i...</td>\n",
       "      <td>Topical destruction: AK primarily affects the ...</td>\n",
       "    </tr>\n",
       "    <tr>\n",
       "      <th>5</th>\n",
       "      <td>Dermatofibroma</td>\n",
       "      <td>A dermatofibroma is a commonbenignfibrousnodul...</td>\n",
       "      <td>It is not clear if dermatofibroma is a reactiv...</td>\n",
       "      <td>It is not clear if dermatofibroma is a reactiv...</td>\n",
       "      <td>A dermatofibroma usually presents as a solitar...</td>\n",
       "      <td>A dermatofibroma is harmless and seldom causes...</td>\n",
       "    </tr>\n",
       "  </tbody>\n",
       "</table>\n",
       "</div>"
      ],
      "text/plain": [
       "                         Disease  \\\n",
       "0               Melanocytic nevi   \n",
       "1                       Melanoma   \n",
       "2  Benign keratosis-like lesions   \n",
       "3          basal cell carcinomas   \n",
       "4              actinic keratosis   \n",
       "5                 Dermatofibroma   \n",
       "\n",
       "                                            Overview  \\\n",
       "0  Melanocytic nevus is the medical term for a mo...   \n",
       "1  Too much time in the sun or atanning booth in ...   \n",
       "2  Seborrheic keratosis is the most common type o...   \n",
       "3  If you finda suspicious spot or mole on your s...   \n",
       "4  Unlike most skin conditions caused by the sun ...   \n",
       "5  A dermatofibroma is a commonbenignfibrousnodul...   \n",
       "\n",
       "                                                What  \\\n",
       "0  Melanocytic nevi are benign tumors that that a...   \n",
       "1  As with other types of skin cancer  exposure t...   \n",
       "2  Seborrheic keratosis is a type of benign (non-...   \n",
       "3  Basal cell carcinoma is a type of skin cancer ...   \n",
       "4  Actinic keratoses are often referred to in the...   \n",
       "5  It is not clear if dermatofibroma is a reactiv...   \n",
       "\n",
       "                                              Causes  \\\n",
       "0  Melanocytic nevi are a reflection of genetic f...   \n",
       "1  Family history of melanoma. Personal history o...   \n",
       "2  Doctors aren?t sure what causes seborrheic ker...   \n",
       "3  People at the highest risk for basal cell carc...   \n",
       "4  caused by the accumulation of sun exposure ove...   \n",
       "5  It is not clear if dermatofibroma is a reactiv...   \n",
       "\n",
       "                                            Clinical  \\\n",
       "0  Tan to dark brown  pale pink  and occasionally...   \n",
       "1  The most important warning sign for melanoma i...   \n",
       "2  People with seborrheic keratosis may notice a ...   \n",
       "3  A basal cell carcinoma is a stubborn  persiste...   \n",
       "4  Patients will often notice a rough spot that i...   \n",
       "5  A dermatofibroma usually presents as a solitar...   \n",
       "\n",
       "                                           Treatment  \n",
       "0  The majority of melanocytic nevi do not requir...  \n",
       "1  Treatment options are based on the stage of th...  \n",
       "2  In most cases  no treatment is necessary for s...  \n",
       "3  Most of the time  basal cell carcinoma remains...  \n",
       "4  Topical destruction: AK primarily affects the ...  \n",
       "5  A dermatofibroma is harmless and seldom causes...  "
      ]
     },
     "execution_count": 8,
     "metadata": {},
     "output_type": "execute_result"
    }
   ],
   "source": [
    "data"
   ]
  },
  {
   "cell_type": "code",
   "execution_count": 11,
   "id": "58acaa64-7e2b-445c-84b6-149cbcbe665d",
   "metadata": {},
   "outputs": [
    {
     "name": "stdout",
     "output_type": "stream",
     "text": [
      "<class 'pandas.core.frame.DataFrame'>\n",
      "RangeIndex: 6 entries, 0 to 5\n",
      "Data columns (total 6 columns):\n",
      " #   Column     Non-Null Count  Dtype \n",
      "---  ------     --------------  ----- \n",
      " 0   Disease    6 non-null      object\n",
      " 1   Overview   6 non-null      object\n",
      " 2   What       6 non-null      object\n",
      " 3   Causes     6 non-null      object\n",
      " 4   Clinical   6 non-null      object\n",
      " 5   Treatment  6 non-null      object\n",
      "dtypes: object(6)\n",
      "memory usage: 416.0+ bytes\n"
     ]
    }
   ],
   "source": [
    "data.info()"
   ]
  },
  {
   "cell_type": "code",
   "execution_count": 5,
   "id": "e50da3fd",
   "metadata": {},
   "outputs": [
    {
     "data": {
      "text/plain": [
       "Disease\n",
       "Melanocytic nevi                 1\n",
       "Melanoma                         1\n",
       "Benign keratosis-like lesions    1\n",
       "basal cell carcinomas            1\n",
       "actinic keratosis                1\n",
       "Dermatofibroma                   1\n",
       "Name: count, dtype: int64"
      ]
     },
     "execution_count": 5,
     "metadata": {},
     "output_type": "execute_result"
    }
   ],
   "source": [
    "##Data variable response\n",
    "data[\"Disease\"].value_counts()"
   ]
  },
  {
   "cell_type": "markdown",
   "id": "ada937ba",
   "metadata": {},
   "source": [
    "# NLP on all the column merge"
   ]
  },
  {
   "cell_type": "code",
   "execution_count": 38,
   "id": "48df9cf2",
   "metadata": {},
   "outputs": [
    {
     "data": {
      "text/html": [
       "<div>\n",
       "<style scoped>\n",
       "    .dataframe tbody tr th:only-of-type {\n",
       "        vertical-align: middle;\n",
       "    }\n",
       "\n",
       "    .dataframe tbody tr th {\n",
       "        vertical-align: top;\n",
       "    }\n",
       "\n",
       "    .dataframe thead th {\n",
       "        text-align: right;\n",
       "    }\n",
       "</style>\n",
       "<table border=\"1\" class=\"dataframe\">\n",
       "  <thead>\n",
       "    <tr style=\"text-align: right;\">\n",
       "      <th></th>\n",
       "      <th>Disease</th>\n",
       "    </tr>\n",
       "  </thead>\n",
       "  <tbody>\n",
       "    <tr>\n",
       "      <th>0</th>\n",
       "      <td>Melanocytic nevi</td>\n",
       "    </tr>\n",
       "    <tr>\n",
       "      <th>1</th>\n",
       "      <td>Melanoma</td>\n",
       "    </tr>\n",
       "    <tr>\n",
       "      <th>2</th>\n",
       "      <td>Benign keratosis-like lesions</td>\n",
       "    </tr>\n",
       "    <tr>\n",
       "      <th>3</th>\n",
       "      <td>basal cell carcinomas</td>\n",
       "    </tr>\n",
       "    <tr>\n",
       "      <th>4</th>\n",
       "      <td>actinic keratosis</td>\n",
       "    </tr>\n",
       "    <tr>\n",
       "      <th>5</th>\n",
       "      <td>Dermatofibroma</td>\n",
       "    </tr>\n",
       "  </tbody>\n",
       "</table>\n",
       "</div>"
      ],
      "text/plain": [
       "                         Disease\n",
       "0               Melanocytic nevi\n",
       "1                       Melanoma\n",
       "2  Benign keratosis-like lesions\n",
       "3          basal cell carcinomas\n",
       "4              actinic keratosis\n",
       "5                 Dermatofibroma"
      ]
     },
     "execution_count": 38,
     "metadata": {},
     "output_type": "execute_result"
    }
   ],
   "source": [
    "##Data subset\n",
    "var = [\"Disease\"]\n",
    "data_subset =  data[var]\n",
    "data_subset"
   ]
  },
  {
   "cell_type": "code",
   "execution_count": 39,
   "id": "6f46ae8b-e5db-4296-9c75-c829992a7287",
   "metadata": {},
   "outputs": [
    {
     "name": "stderr",
     "output_type": "stream",
     "text": [
      "/tmp/ipykernel_190566/1030305694.py:2: SettingWithCopyWarning: \n",
      "A value is trying to be set on a copy of a slice from a DataFrame.\n",
      "Try using .loc[row_indexer,col_indexer] = value instead\n",
      "\n",
      "See the caveats in the documentation: https://pandas.pydata.org/pandas-docs/stable/user_guide/indexing.html#returning-a-view-versus-a-copy\n",
      "  data_subset[\"Description_all\"] = data[\"Overview\"] + \" What : \" + data[\"What\"] + \" Causes : \" + data[\"Causes\"] + \" Clinical : \" + data[\"Clinical\"] + \"Treatment : \" + data[\"Treatment\"]\n"
     ]
    },
    {
     "data": {
      "text/html": [
       "<div>\n",
       "<style scoped>\n",
       "    .dataframe tbody tr th:only-of-type {\n",
       "        vertical-align: middle;\n",
       "    }\n",
       "\n",
       "    .dataframe tbody tr th {\n",
       "        vertical-align: top;\n",
       "    }\n",
       "\n",
       "    .dataframe thead th {\n",
       "        text-align: right;\n",
       "    }\n",
       "</style>\n",
       "<table border=\"1\" class=\"dataframe\">\n",
       "  <thead>\n",
       "    <tr style=\"text-align: right;\">\n",
       "      <th></th>\n",
       "      <th>Disease</th>\n",
       "      <th>Description_all</th>\n",
       "    </tr>\n",
       "  </thead>\n",
       "  <tbody>\n",
       "    <tr>\n",
       "      <th>0</th>\n",
       "      <td>Melanocytic nevi</td>\n",
       "      <td>Melanocytic nevus is the medical term for a mo...</td>\n",
       "    </tr>\n",
       "    <tr>\n",
       "      <th>1</th>\n",
       "      <td>Melanoma</td>\n",
       "      <td>Too much time in the sun or atanning booth in ...</td>\n",
       "    </tr>\n",
       "    <tr>\n",
       "      <th>2</th>\n",
       "      <td>Benign keratosis-like lesions</td>\n",
       "      <td>Seborrheic keratosis is the most common type o...</td>\n",
       "    </tr>\n",
       "    <tr>\n",
       "      <th>3</th>\n",
       "      <td>basal cell carcinomas</td>\n",
       "      <td>If you finda suspicious spot or mole on your s...</td>\n",
       "    </tr>\n",
       "    <tr>\n",
       "      <th>4</th>\n",
       "      <td>actinic keratosis</td>\n",
       "      <td>Unlike most skin conditions caused by the sun ...</td>\n",
       "    </tr>\n",
       "    <tr>\n",
       "      <th>5</th>\n",
       "      <td>Dermatofibroma</td>\n",
       "      <td>A dermatofibroma is a commonbenignfibrousnodul...</td>\n",
       "    </tr>\n",
       "  </tbody>\n",
       "</table>\n",
       "</div>"
      ],
      "text/plain": [
       "                         Disease  \\\n",
       "0               Melanocytic nevi   \n",
       "1                       Melanoma   \n",
       "2  Benign keratosis-like lesions   \n",
       "3          basal cell carcinomas   \n",
       "4              actinic keratosis   \n",
       "5                 Dermatofibroma   \n",
       "\n",
       "                                     Description_all  \n",
       "0  Melanocytic nevus is the medical term for a mo...  \n",
       "1  Too much time in the sun or atanning booth in ...  \n",
       "2  Seborrheic keratosis is the most common type o...  \n",
       "3  If you finda suspicious spot or mole on your s...  \n",
       "4  Unlike most skin conditions caused by the sun ...  \n",
       "5  A dermatofibroma is a commonbenignfibrousnodul...  "
      ]
     },
     "execution_count": 39,
     "metadata": {},
     "output_type": "execute_result"
    }
   ],
   "source": [
    "##Merge all text to one column\n",
    "data_subset[\"Description_all\"] = data[\"Overview\"] + \" What : \" + data[\"What\"] + \" Causes : \" + data[\"Causes\"] + \" Clinical : \" + data[\"Clinical\"] + \"Treatment : \" + data[\"Treatment\"]\n",
    "data_subset"
   ]
  },
  {
   "cell_type": "markdown",
   "id": "746e62ec-de1a-4259-8099-ac11f20116f7",
   "metadata": {},
   "source": [
    "Preprocessing NLP text:\n",
    "- Tokenizing\n",
    "- Tagging word with wordnet\n",
    "- removing stopwords\n",
    "- Keeping Alphanumerical words\n",
    "- Lemmatizing based on tagging"
   ]
  },
  {
   "cell_type": "code",
   "execution_count": 40,
   "id": "21eeb6e7",
   "metadata": {},
   "outputs": [],
   "source": [
    "###Function to tag word for Lemmenizing\n",
    "def get_wordnet_pos(pos_tag):\n",
    "    output = np.asarray(pos_tag)\n",
    "    for i in range(len(pos_tag)):\n",
    "        if pos_tag[i][1].startswith('J'):\n",
    "            output[i][1] = wordnet.ADJ\n",
    "        elif pos_tag[i][1].startswith('V'):\n",
    "            output[i][1] = wordnet.VERB\n",
    "        elif pos_tag[i][1].startswith('R'):\n",
    "            output[i][1] = wordnet.ADV\n",
    "        else:\n",
    "            output[i][1] = wordnet.NOUN\n",
    "    return output"
   ]
  },
  {
   "cell_type": "code",
   "execution_count": 41,
   "id": "a2aa9e40",
   "metadata": {},
   "outputs": [
    {
     "name": "stderr",
     "output_type": "stream",
     "text": [
      "/tmp/ipykernel_190566/933410154.py:17: SettingWithCopyWarning: \n",
      "A value is trying to be set on a copy of a slice from a DataFrame.\n",
      "Try using .loc[row_indexer,col_indexer] = value instead\n",
      "\n",
      "See the caveats in the documentation: https://pandas.pydata.org/pandas-docs/stable/user_guide/indexing.html#returning-a-view-versus-a-copy\n",
      "  data_subset[\"Description_clean\"] = data_subset[\"Description_all\"].apply(lambda x: text_preprocessing(x))\n"
     ]
    },
    {
     "data": {
      "text/html": [
       "<div>\n",
       "<style scoped>\n",
       "    .dataframe tbody tr th:only-of-type {\n",
       "        vertical-align: middle;\n",
       "    }\n",
       "\n",
       "    .dataframe tbody tr th {\n",
       "        vertical-align: top;\n",
       "    }\n",
       "\n",
       "    .dataframe thead th {\n",
       "        text-align: right;\n",
       "    }\n",
       "</style>\n",
       "<table border=\"1\" class=\"dataframe\">\n",
       "  <thead>\n",
       "    <tr style=\"text-align: right;\">\n",
       "      <th></th>\n",
       "      <th>Disease</th>\n",
       "      <th>Description_all</th>\n",
       "      <th>Description_clean</th>\n",
       "    </tr>\n",
       "  </thead>\n",
       "  <tbody>\n",
       "    <tr>\n",
       "      <th>0</th>\n",
       "      <td>Melanocytic nevi</td>\n",
       "      <td>Melanocytic nevus is the medical term for a mo...</td>\n",
       "      <td>[melanocytic, nevus, medical, term, mole, nevu...</td>\n",
       "    </tr>\n",
       "    <tr>\n",
       "      <th>1</th>\n",
       "      <td>Melanoma</td>\n",
       "      <td>Too much time in the sun or atanning booth in ...</td>\n",
       "      <td>[much, time, sun, atanning, booth, youth, migh...</td>\n",
       "    </tr>\n",
       "    <tr>\n",
       "      <th>2</th>\n",
       "      <td>Benign keratosis-like lesions</td>\n",
       "      <td>Seborrheic keratosis is the most common type o...</td>\n",
       "      <td>[seborrheic, keratosis, common, type, benign, ...</td>\n",
       "    </tr>\n",
       "    <tr>\n",
       "      <th>3</th>\n",
       "      <td>basal cell carcinomas</td>\n",
       "      <td>If you finda suspicious spot or mole on your s...</td>\n",
       "      <td>[finda, suspicious, spot, mole, skin, spend, m...</td>\n",
       "    </tr>\n",
       "    <tr>\n",
       "      <th>4</th>\n",
       "      <td>actinic keratosis</td>\n",
       "      <td>Unlike most skin conditions caused by the sun ...</td>\n",
       "      <td>[unlike, skin, condition, cause, sun, actinic,...</td>\n",
       "    </tr>\n",
       "    <tr>\n",
       "      <th>5</th>\n",
       "      <td>Dermatofibroma</td>\n",
       "      <td>A dermatofibroma is a commonbenignfibrousnodul...</td>\n",
       "      <td>[dermatofibroma, commonbenignfibrousnoduleusua...</td>\n",
       "    </tr>\n",
       "  </tbody>\n",
       "</table>\n",
       "</div>"
      ],
      "text/plain": [
       "                         Disease  \\\n",
       "0               Melanocytic nevi   \n",
       "1                       Melanoma   \n",
       "2  Benign keratosis-like lesions   \n",
       "3          basal cell carcinomas   \n",
       "4              actinic keratosis   \n",
       "5                 Dermatofibroma   \n",
       "\n",
       "                                     Description_all  \\\n",
       "0  Melanocytic nevus is the medical term for a mo...   \n",
       "1  Too much time in the sun or atanning booth in ...   \n",
       "2  Seborrheic keratosis is the most common type o...   \n",
       "3  If you finda suspicious spot or mole on your s...   \n",
       "4  Unlike most skin conditions caused by the sun ...   \n",
       "5  A dermatofibroma is a commonbenignfibrousnodul...   \n",
       "\n",
       "                                   Description_clean  \n",
       "0  [melanocytic, nevus, medical, term, mole, nevu...  \n",
       "1  [much, time, sun, atanning, booth, youth, migh...  \n",
       "2  [seborrheic, keratosis, common, type, benign, ...  \n",
       "3  [finda, suspicious, spot, mole, skin, spend, m...  \n",
       "4  [unlike, skin, condition, cause, sun, actinic,...  \n",
       "5  [dermatofibroma, commonbenignfibrousnoduleusua...  "
      ]
     },
     "execution_count": 41,
     "metadata": {},
     "output_type": "execute_result"
    }
   ],
   "source": [
    "##Preprocessing NLP\n",
    "#Instanciate Lemmatizer\n",
    "lemmatizer = WordNetLemmatizer()\n",
    "\n",
    "def text_preprocessing(text):\n",
    "    text = text.lower()\n",
    "    tokens = word_tokenize(text)\n",
    "    tokens = [t for t in tokens if t.isalpha()]\n",
    "    tokens = [t for t in tokens if t not in stop_words]\n",
    "    pos_tag = nltk.pos_tag(tokens)\n",
    "    pos_tag = get_wordnet_pos(pos_tag)\n",
    "    tokens = [lemmatizer.lemmatize(t[0], t[1]) for t in pos_tag]\n",
    "    tokens = [t for t in tokens if len(t) > 1]\n",
    "    return tokens\n",
    "\n",
    "##Run Proprocessing function\n",
    "data_subset[\"Description_clean\"] = data_subset[\"Description_all\"].apply(lambda x: text_preprocessing(x))\n",
    "data_subset"
   ]
  },
  {
   "cell_type": "code",
   "execution_count": 42,
   "id": "372f1e75",
   "metadata": {},
   "outputs": [],
   "source": [
    "##Cleaned Dataset and write to csv cleaned data\n",
    "data_NLP  = data_subset.drop(\"Description_all\", axis=1)\n",
    "data_NLP.to_csv(\"Data_cleaned.csv\")"
   ]
  },
  {
   "cell_type": "code",
   "execution_count": 44,
   "id": "ab4eab11",
   "metadata": {},
   "outputs": [],
   "source": [
    "##Reset Index to Disease column\n",
    "data_NLP= data_NLP.set_index(['Disease'])"
   ]
  },
  {
   "cell_type": "markdown",
   "id": "127c2752",
   "metadata": {},
   "source": [
    "# BOW & TF-IDF using Gensim"
   ]
  },
  {
   "cell_type": "code",
   "execution_count": 45,
   "id": "118fa7fb",
   "metadata": {},
   "outputs": [],
   "source": [
    "##Building BOW & TF_IDF with GENSIM\n",
    "##create our corpus\n",
    "corpus = data_NLP[\"Description_clean\"]\n",
    "## Compute the dictionary: this is a dictionary mapping words and their corresponding numbers for later visualisation\n",
    "id2word = Dictionary(corpus)\n",
    "## Create a BOW\n",
    "bow = [id2word.doc2bow(line) for line in corpus]\n",
    "##Compute the TF-IDF\n",
    "tfidf_model = TfidfModel(bow)\n",
    "# Compute the TF-IDF\n",
    "tf_idf_gensim = tfidf_model[bow]"
   ]
  },
  {
   "cell_type": "code",
   "execution_count": 46,
   "id": "4b557cab",
   "metadata": {},
   "outputs": [],
   "source": [
    "##Corpus size\n",
    "len_corpus = []\n",
    "for i in range(5):\n",
    "    lent = len(corpus[i])\n",
    "    len_corpus.append(lent)"
   ]
  },
  {
   "cell_type": "code",
   "execution_count": 47,
   "id": "697576cf",
   "metadata": {},
   "outputs": [
    {
     "data": {
      "text/plain": [
       "[229, 485, 363, 543, 312]"
      ]
     },
     "execution_count": 47,
     "metadata": {},
     "output_type": "execute_result"
    }
   ],
   "source": [
    "##dataframe\n",
    "len_corpus"
   ]
  },
  {
   "cell_type": "markdown",
   "id": "0b6c71e4",
   "metadata": {},
   "source": [
    "# LDA analysis"
   ]
  },
  {
   "cell_type": "markdown",
   "id": "b601a005",
   "metadata": {},
   "source": [
    "Compute LDA Analysis from BOW"
   ]
  },
  {
   "cell_type": "code",
   "execution_count": 48,
   "id": "026b882b",
   "metadata": {},
   "outputs": [
    {
     "name": "stdout",
     "output_type": "stream",
     "text": [
      "[(0,\n",
      "  '0.028*\"dermatofibroma\" + 0.019*\"skin\" + 0.019*\"dermatofibromas\" + '\n",
      "  '0.013*\"cause\" + 0.013*\"lesion\" + 0.010*\"also\" + 0.010*\"develop\" + '\n",
      "  '0.010*\"usually\" + 0.010*\"sometimes\" + 0.007*\"patient\"'),\n",
      " (1,\n",
      "  '0.024*\"skin\" + 0.023*\"seborrheic\" + 0.023*\"keratosis\" + 0.022*\"growth\" + '\n",
      "  '0.015*\"nevus\" + 0.014*\"benign\" + 0.013*\"melanocytic\" + 0.013*\"nevi\" + '\n",
      "  '0.011*\"color\" + 0.011*\"people\"'),\n",
      " (2,\n",
      "  '0.002*\"melanoma\" + 0.002*\"skin\" + 0.002*\"cancer\" + 0.002*\"cell\" + '\n",
      "  '0.002*\"basal\" + 0.001*\"may\" + 0.001*\"carcinoma\" + 0.001*\"percent\" + '\n",
      "  '0.001*\"develop\" + 0.001*\"sun\"'),\n",
      " (3,\n",
      "  '0.038*\"skin\" + 0.038*\"cell\" + 0.035*\"basal\" + 0.031*\"cancer\" + '\n",
      "  '0.021*\"carcinoma\" + 0.013*\"may\" + 0.012*\"percent\" + 0.012*\"people\" + '\n",
      "  '0.010*\"spot\" + 0.009*\"surgery\"'),\n",
      " (4,\n",
      "  '0.029*\"skin\" + 0.029*\"melanoma\" + 0.024*\"cancer\" + 0.012*\"mole\" + '\n",
      "  '0.011*\"node\" + 0.010*\"people\" + 0.010*\"sun\" + 0.010*\"also\" + 0.009*\"spot\" + '\n",
      "  '0.009*\"cause\"')]\n",
      "CPU times: user 93.9 ms, sys: 1.15 ms, total: 95 ms\n",
      "Wall time: 93.5 ms\n"
     ]
    }
   ],
   "source": [
    "%%time\n",
    "# LDA analysis to define different topics\n",
    "# Compute the LDA with BOW\n",
    "lda1_bow = LdaModel(corpus=bow, num_topics=5, id2word=id2word, passes=10, random_state=0)\n",
    "\n",
    "# Print the main topics\n",
    "pprint(lda1_bow.print_topics())"
   ]
  },
  {
   "cell_type": "code",
   "execution_count": 49,
   "id": "6bbc7f82",
   "metadata": {},
   "outputs": [
    {
     "name": "stdout",
     "output_type": "stream",
     "text": [
      "CPU times: user 72.8 ms, sys: 728 µs, total: 73.5 ms\n",
      "Wall time: 71.3 ms\n"
     ]
    }
   ],
   "source": [
    "%%time\n",
    "##Looking for modelling coherence : Finding the most appropriate number of topics for our corpus\n",
    "# Train LDA model.\n",
    "# Setting training parameters.\n",
    "num_topics = 3\n",
    "chunksize = 2000\n",
    "passes = 20\n",
    "iterations = 100\n",
    "eval_every = None  \n",
    "\n",
    "# Make an index to word dictionary.\n",
    "model_bow = LdaModel(\n",
    "    corpus=bow,\n",
    "    id2word=id2word,\n",
    "    chunksize=chunksize,\n",
    "    alpha='auto',\n",
    "    eta='auto',\n",
    "    iterations=iterations,\n",
    "    num_topics=num_topics,\n",
    "    passes=passes,\n",
    "    eval_every=eval_every\n",
    ")"
   ]
  },
  {
   "cell_type": "code",
   "execution_count": 50,
   "id": "9e43a680",
   "metadata": {},
   "outputs": [
    {
     "name": "stdout",
     "output_type": "stream",
     "text": [
      "Average topic coherence: -0.8301.\n",
      "[([(0.02991606, 'skin'),\n",
      "   (0.023344953, 'growth'),\n",
      "   (0.02224991, 'keratosis'),\n",
      "   (0.018967438, 'seborrheic'),\n",
      "   (0.013497402, 'people'),\n",
      "   (0.012405285, 'cancer'),\n",
      "   (0.012403736, 'spot'),\n",
      "   (0.010215446, 'also'),\n",
      "   (0.010214325, 'cause'),\n",
      "   (0.009120572, 'sun'),\n",
      "   (0.006931318, 'time'),\n",
      "   (0.0069311904, 'often'),\n",
      "   (0.0069307955, 'genetic'),\n",
      "   (0.0069305883, 'condition'),\n",
      "   (0.005839355, 'may'),\n",
      "   (0.0058383886, 'remove'),\n",
      "   (0.0058376277, 'benign'),\n",
      "   (0.0058375704, 'appear'),\n",
      "   (0.005837373, 'treatment'),\n",
      "   (0.005837017, 'age')],\n",
      "  -0.19738186715259054),\n",
      " ([(0.024219962, 'nevus'),\n",
      "   (0.019946313, 'melanocytic'),\n",
      "   (0.01994628, 'nevi'),\n",
      "   (0.01780907, 'color'),\n",
      "   (0.013537255, 'benign'),\n",
      "   (0.011397589, 'within'),\n",
      "   (0.00926819, 'skin'),\n",
      "   (0.00926572, 'melanoma'),\n",
      "   (0.0092640435, 'mole'),\n",
      "   (0.0092610875, 'may'),\n",
      "   (0.0071264394, 'sun'),\n",
      "   (0.007126015, 'also'),\n",
      "   (0.007125624, 'tan'),\n",
      "   (0.007124354, 'elevate'),\n",
      "   (0.0071242284, 'appearance'),\n",
      "   (0.007124165, 'appear'),\n",
      "   (0.007124091, 'size'),\n",
      "   (0.0071237236, 'cutaneous'),\n",
      "   (0.007123558, 'become'),\n",
      "   (0.0071235257, 'round')],\n",
      "  -0.3984339044008222),\n",
      " ([(0.03202935, 'skin'),\n",
      "   (0.024422182, 'cancer'),\n",
      "   (0.021657074, 'cell'),\n",
      "   (0.020966753, 'melanoma'),\n",
      "   (0.017509354, 'basal'),\n",
      "   (0.010596731, 'carcinoma'),\n",
      "   (0.009908337, 'people'),\n",
      "   (0.00921737, 'may'),\n",
      "   (0.008526357, 'also'),\n",
      "   (0.00852613, 'cause'),\n",
      "   (0.00852536, 'mole'),\n",
      "   (0.008524264, 'percent'),\n",
      "   (0.007833674, 'spot'),\n",
      "   (0.00714387, 'sun'),\n",
      "   (0.007142698, 'common'),\n",
      "   (0.0071422365, 'node'),\n",
      "   (0.0064518116, 'remove'),\n",
      "   (0.006451789, 'dermatofibroma'),\n",
      "   (0.0064517767, 'develop'),\n",
      "   (0.0064511267, 'one')],\n",
      "  -1.8943750701369715)]\n",
      "CPU times: user 0 ns, sys: 8.37 ms, total: 8.37 ms\n",
      "Wall time: 7.7 ms\n"
     ]
    }
   ],
   "source": [
    "%%time\n",
    "##Look for the best number of topics\n",
    "top_topics_bow = model_bow.top_topics(bow)\n",
    "\n",
    "# Average topic coherence is the sum of topic coherences of all topics, divided by the number of topics.\n",
    "avg_topic_coherence_bow = sum([t[1] for t in top_topics_bow]) / num_topics\n",
    "print('Average topic coherence: %.4f.' % avg_topic_coherence_bow)\n",
    "\n",
    "pprint(top_topics_bow)"
   ]
  },
  {
   "cell_type": "markdown",
   "id": "569df73b-c71c-4f2f-9000-94ed97dada11",
   "metadata": {},
   "source": [
    "Topic visualization using PYLAVIS"
   ]
  },
  {
   "cell_type": "code",
   "execution_count": 51,
   "id": "0d79c072",
   "metadata": {},
   "outputs": [
    {
     "data": {
      "text/html": [
       "\n",
       "<link rel=\"stylesheet\" type=\"text/css\" href=\"https://cdn.jsdelivr.net/gh/bmabey/pyLDAvis@3.4.0/pyLDAvis/js/ldavis.v1.0.0.css\">\n",
       "\n",
       "\n",
       "<div id=\"ldavis_el1905661396577537717286986842083\" style=\"background-color:white;\"></div>\n",
       "<script type=\"text/javascript\">\n",
       "\n",
       "var ldavis_el1905661396577537717286986842083_data = {\"mdsDat\": {\"x\": [0.020469713223050395, -0.10214752112788894, 0.08167780790483853], \"y\": [-0.09875663817548677, 0.032882876868530586, 0.0658737613069562], \"topics\": [1, 2, 3], \"cluster\": [1, 1, 1], \"Freq\": [57.19650569892757, 31.96040769689454, 10.84308660417789]}, \"tinfo\": {\"Term\": [\"keratosis\", \"growth\", \"nevus\", \"seborrheic\", \"color\", \"melanoma\", \"nevi\", \"melanocytic\", \"benign\", \"mole\", \"basal\", \"within\", \"brown\", \"tan\", \"dark\", \"size\", \"appear\", \"become\", \"appearance\", \"round\", \"may\", \"carcinoma\", \"elevate\", \"cutaneous\", \"atypical\", \"pigment\", \"mutation\", \"sun\", \"age\", \"melanin\", \"basal\", \"carcinoma\", \"node\", \"dermatofibroma\", \"say\", \"lymph\", \"dermatofibromas\", \"procedure\", \"leffell\", \"excision\", \"mohs\", \"tissue\", \"melanoma\", \"percent\", \"diameter\", \"margin\", \"rate\", \"christensen\", \"cure\", \"cell\", \"surgery\", \"clear\", \"find\", \"millimeter\", \"concern\", \"sentinel\", \"red\", \"abnormality\", \"deep\", \"tendency\", \"risk\", \"spread\", \"cancer\", \"year\", \"mole\", \"skin\", \"call\", \"damage\", \"biopsy\", \"may\", \"one\", \"common\", \"develop\", \"people\", \"cause\", \"also\", \"spot\", \"remove\", \"sun\", \"type\", \"use\", \"treatment\", \"keratosis\", \"seborrheic\", \"growth\", \"mutation\", \"apply\", \"brand\", \"cream\", \"tool\", \"topical\", \"spent\", \"fluorouracil\", \"gel\", \"ak\", \"work\", \"rough\", \"actinic\", \"possible\", \"therefore\", \"cheek\", \"electrosurgery\", \"away\", \"wart\", \"reason\", \"destroy\", \"special\", \"vary\", \"link\", \"ingenol\", \"similar\", \"quarter\", \"name\", \"old\", \"genetic\", \"spot\", \"skin\", \"people\", \"affect\", \"therapy\", \"although\", \"less\", \"condition\", \"benign\", \"often\", \"cause\", \"also\", \"time\", \"sun\", \"age\", \"cancer\", \"appear\", \"use\", \"treatment\", \"know\", \"look\", \"common\", \"remove\", \"may\", \"develop\", \"size\", \"one\", \"occur\", \"melanocytic\", \"nevi\", \"within\", \"elevate\", \"cutaneous\", \"draw\", \"medical\", \"congenital\", \"uniform\", \"soft\", \"half\", \"line\", \"nevus\", \"compare\", \"range\", \"inner\", \"reflection\", \"childhood\", \"percentage\", \"bothersome\", \"suture\", \"attention\", \"firm\", \"possibility\", \"addition\", \"responsible\", \"darken\", \"receive\", \"oval\", \"clinician\", \"appearance\", \"round\", \"color\", \"benign\", \"arise\", \"dark\", \"melanin\", \"tan\", \"become\", \"brown\", \"two\", \"majority\", \"atypical\", \"pigment\", \"size\", \"mole\", \"appear\", \"may\", \"melanoma\", \"sun\", \"skin\", \"also\", \"treatment\", \"small\", \"factor\", \"exposure\", \"remove\", \"require\", \"body\", \"age\"], \"Freq\": [15.0, 17.0, 8.0, 13.0, 7.0, 27.0, 5.0, 5.0, 7.0, 12.0, 21.0, 3.0, 5.0, 4.0, 3.0, 6.0, 8.0, 5.0, 2.0, 2.0, 17.0, 13.0, 2.0, 2.0, 3.0, 3.0, 4.0, 16.0, 7.0, 2.0, 21.15112841213938, 12.800746915058063, 8.62775165972309, 7.793697684986177, 7.7923088372473, 6.9574133411586825, 5.288531934560127, 5.287491845670219, 4.452904326145812, 4.452721227750103, 4.452653444780263, 4.452710258721789, 25.327632631506397, 10.297227643907709, 3.6181803969103155, 3.6179534224013494, 3.6177641363486432, 3.6177264478923834, 3.6176595086939525, 26.16153303984691, 6.957553407212543, 2.7832353995657146, 2.7831490536248813, 2.783008706313885, 2.783006456256795, 2.7829563924865397, 2.782938392029819, 2.7829049224306033, 2.782895922202243, 2.7828818593454296, 7.792424715187441, 6.957529781613096, 29.501756290472063, 6.122139835478924, 10.298551802505244, 38.691140200345735, 7.792887664433734, 4.452779729234447, 5.288398056163265, 11.134493012626496, 7.792897789690639, 8.628309111367168, 7.793683059615091, 11.96917419077728, 10.299481076083465, 10.299755583048459, 9.463000977289129, 7.793725248185531, 8.629724959791124, 6.122774351578338, 6.12333517830805, 6.124123823318137, 15.018773459784398, 12.803093274369662, 15.757931992855097, 3.9394704252880226, 3.200688765666735, 3.2005495205140333, 2.462080612420822, 2.462127446569247, 2.4620241914165106, 2.462077626350956, 2.462008318097749, 2.4619921304558434, 2.4619883585781177, 2.4619646271807616, 2.4619727995825, 2.461912606700463, 1.7234688444587551, 1.7234988623189875, 1.7234611435417322, 1.7234845606159448, 1.7234482562928366, 1.7234317543277873, 1.7234726163364806, 1.7234471561618332, 1.723461300703304, 1.7234512423627026, 1.7234451130613986, 1.72339387838896, 1.723397021620398, 1.7234073942841432, 3.200911935098829, 3.200800350382782, 4.6783133779223505, 8.372569003102683, 20.193454002108417, 9.110797768314036, 3.201094871168518, 3.200947767937222, 3.2009147640071234, 3.2006387882868714, 4.678173504123362, 3.9404209384748587, 4.678579923948289, 6.8947083341660775, 6.895465224296336, 4.6786660484896885, 6.156421104849979, 3.9400088608333435, 8.373614441878946, 3.940382276728172, 3.940000688431605, 3.940249003715203, 3.2008915040944825, 3.2008427840071945, 3.939928394108532, 3.94093454249182, 3.9415867630151946, 3.2014632578930455, 3.2012444889849645, 3.2012152569325916, 3.201037978679491, 4.5678250361443204, 4.5678177846771, 2.6101161452289796, 1.631519766692961, 1.6313753771839046, 1.1420285604298321, 1.1419813192536785, 1.1419710818881914, 1.141960524605033, 1.1419558324791848, 1.141932798406839, 1.1418939817293674, 5.546516323589541, 0.6526576965307874, 0.652652577848044, 0.65264047429614, 0.6526354089330084, 0.6526339159838749, 0.6526319964778461, 0.6526298636933696, 0.6526269311147145, 0.6526265578774312, 0.652619999565166, 0.6526204794416732, 0.6526160005942726, 0.6526167470688394, 0.6526122682214388, 0.6526134412529009, 0.6526124814998865, 0.6526053366718904, 1.631490974102529, 1.6313300555137797, 4.078383843677164, 3.1001125014953588, 1.1419353577482108, 1.6311440767074323, 1.1420186429820165, 1.6318105718563267, 1.6313374136202237, 1.631266711814829, 1.1421104593537283, 1.1419819590890214, 1.1421553544669578, 1.142128694661002, 1.631459515531501, 2.1215214549205315, 1.631476471168089, 2.120844509127702, 2.1219053561262946, 1.631997297137241, 2.1224709705694527, 1.6319001488043383, 1.142346238677601, 1.1423251241112842, 1.1423099813415014, 1.1421929981129673, 1.142190225493148, 1.1421728432996647, 1.1421621793772825, 1.142157593890658], \"Total\": [15.0, 17.0, 8.0, 13.0, 7.0, 27.0, 5.0, 5.0, 7.0, 12.0, 21.0, 3.0, 5.0, 4.0, 3.0, 6.0, 8.0, 5.0, 2.0, 2.0, 17.0, 13.0, 2.0, 2.0, 3.0, 3.0, 4.0, 16.0, 7.0, 2.0, 21.56337221747369, 13.212874848814431, 9.03794500152575, 8.203210448394799, 8.20285243343826, 7.367764762310488, 5.698043552974275, 5.697804126347594, 4.86282245556703, 4.8627820549363525, 4.862775506893429, 4.862843694004589, 27.697955995963206, 11.446724278755234, 4.027862432727917, 4.0278226712011875, 4.027793335501735, 4.027805896429016, 4.027758248547857, 29.279686192247695, 7.8577513645495385, 3.1928348516621368, 3.192808547332455, 3.192762539138303, 3.1927886099677907, 3.192751619344557, 3.192760526337191, 3.1927367641294646, 3.192773574473994, 3.1927693696874897, 8.941508204097063, 8.106498490117756, 38.040362939450134, 7.2714831734309415, 12.667377579567432, 61.007065173023605, 10.170296061746123, 5.601539287776926, 6.926469181962574, 17.196924284769395, 11.158003217323559, 12.731994163867801, 11.648083515444565, 21.24395462598841, 17.847343299088777, 18.827120956149134, 17.999748770151417, 12.8768500161705, 16.418143361778345, 8.749232231025454, 10.226932379677379, 11.206719065710942, 15.464514248485582, 13.24801953969507, 17.037970493393654, 4.38196556860657, 3.643066241825502, 3.64300400593153, 2.9041961984015723, 2.90428413684639, 2.9041942747232388, 2.9042708337021215, 2.904198963784586, 2.9042160690053564, 2.904215698388944, 2.9042077887413766, 2.9042179506346626, 2.904170791871927, 2.1654067722895123, 2.1654532328117932, 2.1654104868953046, 2.1654525857090747, 2.1654128419194065, 2.1653991752421833, 2.165453353333198, 2.1654250917696234, 2.1654452380974254, 2.165445049448144, 2.165448716850801, 2.1653899615611314, 2.165404426938446, 2.1654217372780153, 4.132853492454598, 4.4779573566913875, 8.115635424185895, 17.999748770151417, 61.007065173023605, 21.24395462598841, 5.312899202070885, 5.312898692180043, 5.3130293748023, 5.312825794068844, 9.295775369417235, 7.321010421674888, 9.785589924688278, 17.847343299088777, 18.827120956149134, 10.130577093691338, 16.418143361778345, 7.866658792431684, 38.040362939450134, 8.356585091541316, 10.226932379677379, 11.206719065710942, 6.147958842678573, 6.147930177831055, 12.731994163867801, 12.8768500161705, 17.196924284769395, 11.648083515444565, 6.78275338886778, 11.158003217323559, 7.818084344568506, 5.096864947837544, 5.09691882822395, 3.1373078810601838, 2.157426755058198, 2.1575327787548813, 1.6676033319802368, 1.6676243962371138, 1.6676399680211003, 1.6676336341763573, 1.6676464153142503, 1.6676544576388983, 1.6676632704411323, 8.581668205909688, 1.177685131411729, 1.1776938334234375, 1.177697051213089, 1.1776943906339041, 1.1776987314997835, 1.1777022677550395, 1.177707878094554, 1.1777037714432748, 1.1777073408052874, 1.177706285508318, 1.1777119161761869, 1.177708067256956, 1.1777164364279828, 1.177712168514659, 1.1777173393727303, 1.177720954900514, 1.1777231694932446, 2.9923394792798144, 2.9924375121796034, 7.947022065722496, 7.321010421674888, 2.4063951497655562, 3.827655772570284, 2.50250454639255, 4.662216972219684, 5.305081341992911, 5.497686683705237, 3.241183810903512, 3.2412347261572356, 3.337449057365102, 3.337472143134739, 6.78275338886778, 12.667377579567432, 8.356585091541316, 17.196924284769395, 27.697955995963206, 16.418143361778345, 61.007065173023605, 18.827120956149134, 11.206719065710942, 8.058899609917288, 6.485076757028987, 8.155149056263229, 12.8768500161705, 4.815056704737151, 5.553915735750927, 7.866658792431684], \"Category\": [\"Default\", \"Default\", \"Default\", \"Default\", \"Default\", \"Default\", \"Default\", \"Default\", \"Default\", \"Default\", \"Default\", \"Default\", \"Default\", \"Default\", \"Default\", \"Default\", \"Default\", \"Default\", \"Default\", \"Default\", \"Default\", \"Default\", \"Default\", \"Default\", \"Default\", \"Default\", \"Default\", \"Default\", \"Default\", \"Default\", \"Topic1\", \"Topic1\", \"Topic1\", \"Topic1\", \"Topic1\", \"Topic1\", \"Topic1\", \"Topic1\", \"Topic1\", \"Topic1\", \"Topic1\", \"Topic1\", \"Topic1\", \"Topic1\", \"Topic1\", \"Topic1\", \"Topic1\", \"Topic1\", \"Topic1\", \"Topic1\", \"Topic1\", \"Topic1\", \"Topic1\", \"Topic1\", \"Topic1\", \"Topic1\", \"Topic1\", \"Topic1\", \"Topic1\", \"Topic1\", \"Topic1\", \"Topic1\", \"Topic1\", \"Topic1\", \"Topic1\", \"Topic1\", \"Topic1\", \"Topic1\", \"Topic1\", \"Topic1\", \"Topic1\", \"Topic1\", \"Topic1\", \"Topic1\", \"Topic1\", \"Topic1\", \"Topic1\", \"Topic1\", \"Topic1\", \"Topic1\", \"Topic1\", \"Topic1\", \"Topic2\", \"Topic2\", \"Topic2\", \"Topic2\", \"Topic2\", \"Topic2\", \"Topic2\", \"Topic2\", \"Topic2\", \"Topic2\", \"Topic2\", \"Topic2\", \"Topic2\", \"Topic2\", \"Topic2\", \"Topic2\", \"Topic2\", \"Topic2\", \"Topic2\", \"Topic2\", \"Topic2\", \"Topic2\", \"Topic2\", \"Topic2\", \"Topic2\", \"Topic2\", \"Topic2\", \"Topic2\", \"Topic2\", \"Topic2\", \"Topic2\", \"Topic2\", \"Topic2\", \"Topic2\", \"Topic2\", \"Topic2\", \"Topic2\", \"Topic2\", \"Topic2\", \"Topic2\", \"Topic2\", \"Topic2\", \"Topic2\", \"Topic2\", \"Topic2\", \"Topic2\", \"Topic2\", \"Topic2\", \"Topic2\", \"Topic2\", \"Topic2\", \"Topic2\", \"Topic2\", \"Topic2\", \"Topic2\", \"Topic2\", \"Topic2\", \"Topic2\", \"Topic2\", \"Topic2\", \"Topic2\", \"Topic3\", \"Topic3\", \"Topic3\", \"Topic3\", \"Topic3\", \"Topic3\", \"Topic3\", \"Topic3\", \"Topic3\", \"Topic3\", \"Topic3\", \"Topic3\", \"Topic3\", \"Topic3\", \"Topic3\", \"Topic3\", \"Topic3\", \"Topic3\", \"Topic3\", \"Topic3\", \"Topic3\", \"Topic3\", \"Topic3\", \"Topic3\", \"Topic3\", \"Topic3\", \"Topic3\", \"Topic3\", \"Topic3\", \"Topic3\", \"Topic3\", \"Topic3\", \"Topic3\", \"Topic3\", \"Topic3\", \"Topic3\", \"Topic3\", \"Topic3\", \"Topic3\", \"Topic3\", \"Topic3\", \"Topic3\", \"Topic3\", \"Topic3\", \"Topic3\", \"Topic3\", \"Topic3\", \"Topic3\", \"Topic3\", \"Topic3\", \"Topic3\", \"Topic3\", \"Topic3\", \"Topic3\", \"Topic3\", \"Topic3\", \"Topic3\", \"Topic3\", \"Topic3\", \"Topic3\"], \"logprob\": [30.0, 29.0, 28.0, 27.0, 26.0, 25.0, 24.0, 23.0, 22.0, 21.0, 20.0, 19.0, 18.0, 17.0, 16.0, 15.0, 14.0, 13.0, 12.0, 11.0, 10.0, 9.0, 8.0, 7.0, 6.0, 5.0, 4.0, 3.0, 2.0, 1.0, -4.045, -4.5472, -4.9417, -5.0434, -5.0436, -5.1569, -5.4312, -5.4314, -5.6032, -5.6032, -5.6032, -5.6032, -3.8648, -4.7648, -5.8107, -5.8108, -5.8109, -5.8109, -5.8109, -3.8324, -5.1569, -6.0731, -6.0731, -6.0732, -6.0732, -6.0732, -6.0732, -6.0732, -6.0732, -6.0732, -5.0436, -5.1569, -3.7123, -5.2848, -4.7647, -3.4411, -5.0435, -5.6032, -5.4312, -4.6867, -5.0435, -4.9417, -5.0434, -4.6144, -4.7646, -4.7646, -4.8493, -5.0434, -4.9415, -5.2847, -5.2846, -5.2845, -3.8054, -3.965, -3.7574, -5.1437, -5.3514, -5.3514, -5.6137, -5.6137, -5.6137, -5.6137, -5.6137, -5.6137, -5.6137, -5.6138, -5.6138, -5.6138, -5.9704, -5.9704, -5.9704, -5.9704, -5.9704, -5.9704, -5.9704, -5.9704, -5.9704, -5.9704, -5.9704, -5.9704, -5.9704, -5.9704, -5.3513, -5.3513, -4.9718, -4.3898, -3.5094, -4.3053, -5.3512, -5.3513, -5.3513, -5.3514, -4.9718, -5.1434, -4.9717, -4.584, -4.5839, -4.9717, -4.6972, -5.1435, -4.3896, -5.1434, -5.1435, -5.1435, -5.3513, -5.3513, -5.1436, -5.1433, -5.1431, -5.3511, -5.3512, -5.3512, -5.3512, -3.9147, -3.9147, -4.4744, -4.9442, -4.9443, -5.3009, -5.301, -5.301, -5.301, -5.301, -5.301, -5.3011, -3.7206, -5.8605, -5.8605, -5.8605, -5.8605, -5.8605, -5.8605, -5.8605, -5.8605, -5.8605, -5.8605, -5.8605, -5.8605, -5.8605, -5.8605, -5.8605, -5.8605, -5.8605, -4.9443, -4.9444, -4.028, -4.3023, -5.301, -4.9445, -5.301, -4.9441, -4.9443, -4.9444, -5.3009, -5.301, -5.3008, -5.3009, -4.9443, -4.6816, -4.9443, -4.6819, -4.6814, -4.9439, -4.6812, -4.944, -5.3007, -5.3007, -5.3007, -5.3008, -5.3008, -5.3008, -5.3008, -5.3008], \"loglift\": [30.0, 29.0, 28.0, 27.0, 26.0, 25.0, 24.0, 23.0, 22.0, 21.0, 20.0, 19.0, 18.0, 17.0, 16.0, 15.0, 14.0, 13.0, 12.0, 11.0, 10.0, 9.0, 8.0, 7.0, 6.0, 5.0, 4.0, 3.0, 2.0, 1.0, 0.5394, 0.527, 0.5122, 0.5075, 0.5073, 0.5014, 0.4841, 0.4839, 0.4706, 0.4706, 0.4706, 0.4706, 0.4692, 0.4528, 0.4514, 0.4514, 0.4513, 0.4513, 0.4513, 0.4461, 0.437, 0.4214, 0.4214, 0.4213, 0.4213, 0.4213, 0.4213, 0.4213, 0.4213, 0.4213, 0.4211, 0.4058, 0.3045, 0.3866, 0.3517, 0.1033, 0.2924, 0.3292, 0.2888, 0.124, 0.1997, 0.1696, 0.1568, -0.0151, 0.0089, -0.0445, -0.0843, 0.0566, -0.0845, 0.2017, 0.0458, -0.0456, 1.1114, 1.1065, 1.0626, 1.0342, 1.0112, 1.0112, 0.9755, 0.9755, 0.9755, 0.9755, 0.9755, 0.9755, 0.9755, 0.9755, 0.9755, 0.9755, 0.9124, 0.9124, 0.9124, 0.9124, 0.9124, 0.9124, 0.9124, 0.9124, 0.9124, 0.9124, 0.9124, 0.9124, 0.9124, 0.9124, 0.8851, 0.8049, 0.5898, 0.3753, 0.035, 0.2941, 0.634, 0.634, 0.6339, 0.6339, 0.454, 0.5212, 0.4028, 0.1896, 0.1362, 0.3681, 0.1598, 0.4492, -0.3729, 0.3889, 0.1868, 0.0954, 0.488, 0.488, -0.0323, -0.0433, -0.3325, -0.1509, 0.3898, -0.108, 0.2477, 2.1121, 2.112, 2.0377, 1.9422, 1.9421, 1.8431, 1.843, 1.843, 1.843, 1.843, 1.8429, 1.8429, 1.7852, 1.6314, 1.6314, 1.6314, 1.6313, 1.6313, 1.6313, 1.6313, 1.6313, 1.6313, 1.6313, 1.6313, 1.6313, 1.6313, 1.6313, 1.6313, 1.6313, 1.6313, 1.6151, 1.6149, 1.5545, 1.3623, 1.4762, 1.3687, 1.4371, 1.1718, 1.0424, 1.0067, 1.1786, 1.1785, 1.1494, 1.1493, 0.7967, 0.4347, 0.5881, 0.1287, -0.3474, -0.0869, -1.1368, -0.2239, -0.0618, 0.2679, 0.4852, 0.2559, -0.2008, 0.7828, 0.6401, 0.2919]}, \"token.table\": {\"Topic\": [1, 2, 3, 1, 2, 1, 2, 3, 2, 1, 2, 3, 1, 2, 1, 2, 3, 1, 3, 2, 2, 3, 3, 1, 3, 2, 1, 1, 2, 3, 2, 3, 1, 2, 3, 1, 2, 3, 3, 2, 1, 3, 1, 2, 3, 1, 2, 1, 1, 2, 3, 1, 2, 3, 2, 3, 1, 1, 3, 1, 3, 1, 2, 3, 1, 1, 2, 3, 2, 1, 3, 1, 2, 1, 3, 3, 1, 1, 1, 2, 1, 2, 3, 1, 3, 2, 3, 1, 1, 2, 3, 1, 2, 3, 1, 3, 2, 2, 1, 2, 3, 1, 2, 3, 2, 3, 2, 1, 2, 1, 1, 2, 3, 2, 1, 2, 1, 1, 2, 3, 1, 1, 2, 3, 3, 1, 3, 3, 1, 3, 1, 1, 1, 3, 2, 2, 3, 3, 1, 3, 1, 1, 2, 1, 2, 3, 1, 2, 1, 2, 3, 1, 2, 1, 2, 3, 1, 3, 3, 2, 1, 2, 3, 1, 2, 3, 1, 3, 1, 2, 3, 1, 2, 3, 3, 1, 2, 2, 1, 3, 1, 2, 1, 2, 1, 2, 3, 1, 2, 3, 1, 2, 3, 3, 2, 2, 1, 2, 1, 2, 1, 2, 3, 1, 3, 3, 1, 3, 1, 1, 2, 2, 1, 2, 1, 2, 2, 1, 2, 3, 1, 2, 3, 1, 2, 3, 1, 2, 2, 2, 3, 2, 1, 2], \"Freq\": [0.9396327419488915, 0.6886647319770302, 0.8491068608616543, 0.37644230088544334, 0.564663451328165, 0.3813563139265968, 0.5084750852354624, 0.1271187713088656, 0.6886540834792196, 0.5311486564138685, 0.37180405948970796, 0.1062297312827737, 0.3764330778002561, 0.5646496167003842, 0.35899831894689294, 0.47866442526252395, 0.23933221263126198, 0.33418668133225193, 0.6683733626645039, 0.8234821441228397, 0.41555934822151935, 0.41555934822151935, 0.8491073846208894, 0.5992600832622115, 0.29963004163110574, 0.9236114062329169, 0.973873649641072, 0.3769970469950756, 0.3769970469950756, 0.3769970469950756, 0.5463726684717499, 0.40977950135381247, 0.7218685117405345, 0.14437370234810687, 0.14437370234810687, 0.3601062916972014, 0.3601062916972014, 0.1800531458486007, 0.8491069972444504, 0.8234962122235956, 0.7275787490501638, 0.3637893745250819, 0.786604436235703, 0.19665110905892574, 0.09832555452946287, 0.7886360087508052, 0.21030293566688138, 0.9838888318212192, 0.5603074828795703, 0.39221523801569924, 0.05603074828795704, 0.8879876590645959, 0.0683067430049689, 0.03415337150248445, 0.9236124107201195, 0.8491135918321941, 0.9930965152879715, 0.9396038753580537, 0.8490959725537912, 0.5033331941096534, 0.5033331941096534, 0.7068806256243151, 0.31416916694414004, 0.8491233975258463, 0.9396174837989868, 0.4303029969032874, 0.5378787461291092, 0.5996498160131332, 0.6886587073906271, 0.9931082634967316, 0.9269847576333028, 0.7140894305121395, 0.17852235762803487, 0.5225130259445961, 0.5225130259445961, 0.849103903937079, 0.9396219086705034, 0.9752279367117098, 0.8774941703262502, 0.9236061813459291, 0.6868082624401297, 0.25755309841504864, 0.08585103280501621, 0.993082575884041, 0.5996629898865249, 0.9235944546645903, 0.9270303129925024, 0.8225743935900813, 0.6131095784398882, 0.24524383137595526, 0.12262191568797763, 0.6168007179968249, 0.30840035899841245, 0.15420017949920622, 0.9396116163953697, 0.849108145473116, 0.6886580516486771, 0.6886539955978431, 0.3696568220720609, 0.6160947034534349, 0.12321894069068698, 0.058692436425320876, 0.939078982805134, 0.5996446058830568, 0.9236211654727106, 0.8491148033103658, 0.9699625710176399, 0.4879668320442017, 0.4879668320442017, 0.8225675595909824, 0.37644750223746637, 0.5646712533561995, 0.599641437048307, 0.9235961047872738, 0.4879691071993238, 0.4879691071993238, 0.9500846221106605, 0.3085244002632252, 0.3085244002632252, 0.3085244002632252, 0.993092379314482, 0.6396492662203698, 0.23259973317104354, 0.11629986658552177, 0.5996554153659751, 0.3995996736315768, 0.3995996736315768, 0.9809951904104031, 0.902593678885315, 0.07220749431082521, 0.939625156341778, 0.822575501239906, 0.7894293777214053, 0.15788587554428107, 0.9128323665199332, 0.7258907206551448, 0.24196357355171494, 0.9809848201452087, 0.3495823804903197, 0.6991647609806394, 0.9958015896844532, 0.5116342858054401, 0.3837257143540801, 0.40876431883869496, 0.5109553985483687, 0.10219107970967374, 0.2233161060602119, 0.6699483181806357, 0.716974161432348, 0.26886531053713053, 0.8490975691983618, 0.5648665802232516, 0.42364993516743876, 0.8736123764734764, 0.08736123764734764, 0.8491110422214103, 0.5992559380949586, 0.2996279690474793, 0.8491040858674636, 0.9236139951134329, 0.8775310433854979, 0.9236076121199586, 0.849117123330009, 0.9930996123220228, 0.9235941272627636, 0.8491001758814342, 0.9396257487064555, 0.8491167215815144, 0.621269952663404, 0.310634976331702, 0.0776587440829255, 0.41536374805978077, 0.41536374805978077, 0.20768187402989038, 0.8491008268790089, 0.8947036470127425, 0.11183795587659282, 0.6886535494221215, 0.3341757333043287, 0.6683514666086574, 0.9752705007088329, 0.9812787459324068, 0.9396283700314505, 0.9236149954804042, 0.2948655045136253, 0.442298256770438, 0.2948655045136253, 0.6392702204144907, 0.3278308822638414, 0.03278308822638414, 0.4963456791393203, 0.24817283956966016, 0.12408641978483008, 0.599647497705058, 0.9235975885297443, 0.6886410099193702, 0.5000069787043083, 0.444450647737163, 0.8635047559107504, 0.12335782227296435, 0.5481740414663524, 0.36544936097756825, 0.12181645365918942, 0.8908400985529642, 0.12726287122185204, 0.8491099580792724, 0.643470695996308, 0.4289804639975387, 0.9396231461258481, 0.37644233701345803, 0.5646635055201871, 0.9235941786667192, 0.49355529835646517, 0.49355529835646517, 0.8225639670326252, 0.6886378555824415, 0.6886591635439382, 0.5353930945193518, 0.35692872967956785, 0.08923218241989196, 0.30852924682517163, 0.30852924682517163, 0.30852924682517163, 0.6857744590117903, 0.22859148633726345, 0.5996520935450543, 0.5866861906629012, 0.3911241271086008, 0.9235976689917359, 0.9236172355040799, 0.9562338519948563, 0.6886559590375448, 0.8251411516598461, 0.13752352527664102], \"Term\": [\"abnormality\", \"actinic\", \"addition\", \"affect\", \"affect\", \"age\", \"age\", \"age\", \"ak\", \"also\", \"also\", \"also\", \"although\", \"although\", \"appear\", \"appear\", \"appear\", \"appearance\", \"appearance\", \"apply\", \"arise\", \"arise\", \"attention\", \"atypical\", \"atypical\", \"away\", \"basal\", \"become\", \"become\", \"become\", \"benign\", \"benign\", \"biopsy\", \"biopsy\", \"biopsy\", \"body\", \"body\", \"body\", \"bothersome\", \"brand\", \"brown\", \"brown\", \"call\", \"call\", \"call\", \"cancer\", \"cancer\", \"carcinoma\", \"cause\", \"cause\", \"cause\", \"cell\", \"cell\", \"cell\", \"cheek\", \"childhood\", \"christensen\", \"clear\", \"clinician\", \"color\", \"color\", \"common\", \"common\", \"compare\", \"concern\", \"condition\", \"condition\", \"congenital\", \"cream\", \"cure\", \"cutaneous\", \"damage\", \"damage\", \"dark\", \"dark\", \"darken\", \"deep\", \"dermatofibroma\", \"dermatofibromas\", \"destroy\", \"develop\", \"develop\", \"develop\", \"diameter\", \"draw\", \"electrosurgery\", \"elevate\", \"excision\", \"exposure\", \"exposure\", \"exposure\", \"factor\", \"factor\", \"factor\", \"find\", \"firm\", \"fluorouracil\", \"gel\", \"genetic\", \"genetic\", \"genetic\", \"growth\", \"growth\", \"half\", \"ingenol\", \"inner\", \"keratosis\", \"know\", \"know\", \"leffell\", \"less\", \"less\", \"line\", \"link\", \"look\", \"look\", \"lymph\", \"majority\", \"majority\", \"majority\", \"margin\", \"may\", \"may\", \"may\", \"medical\", \"melanin\", \"melanin\", \"melanocytic\", \"melanoma\", \"melanoma\", \"millimeter\", \"mohs\", \"mole\", \"mole\", \"mutation\", \"name\", \"name\", \"nevi\", \"nevus\", \"nevus\", \"node\", \"occur\", \"occur\", \"often\", \"often\", \"often\", \"old\", \"old\", \"one\", \"one\", \"oval\", \"people\", \"people\", \"percent\", \"percent\", \"percentage\", \"pigment\", \"pigment\", \"possibility\", \"possible\", \"procedure\", \"quarter\", \"range\", \"rate\", \"reason\", \"receive\", \"red\", \"reflection\", \"remove\", \"remove\", \"remove\", \"require\", \"require\", \"require\", \"responsible\", \"risk\", \"risk\", \"rough\", \"round\", \"round\", \"say\", \"seborrheic\", \"sentinel\", \"similar\", \"size\", \"size\", \"size\", \"skin\", \"skin\", \"skin\", \"small\", \"small\", \"small\", \"soft\", \"special\", \"spent\", \"spot\", \"spot\", \"spread\", \"spread\", \"sun\", \"sun\", \"sun\", \"surgery\", \"surgery\", \"suture\", \"tan\", \"tan\", \"tendency\", \"therapy\", \"therapy\", \"therefore\", \"time\", \"time\", \"tissue\", \"tool\", \"topical\", \"treatment\", \"treatment\", \"treatment\", \"two\", \"two\", \"two\", \"type\", \"type\", \"uniform\", \"use\", \"use\", \"vary\", \"wart\", \"within\", \"work\", \"year\", \"year\"]}, \"R\": 30, \"lambda.step\": 0.01, \"plot.opts\": {\"xlab\": \"PC1\", \"ylab\": \"PC2\"}, \"topic.order\": [3, 1, 2]};\n",
       "\n",
       "function LDAvis_load_lib(url, callback){\n",
       "  var s = document.createElement('script');\n",
       "  s.src = url;\n",
       "  s.async = true;\n",
       "  s.onreadystatechange = s.onload = callback;\n",
       "  s.onerror = function(){console.warn(\"failed to load library \" + url);};\n",
       "  document.getElementsByTagName(\"head\")[0].appendChild(s);\n",
       "}\n",
       "\n",
       "if(typeof(LDAvis) !== \"undefined\"){\n",
       "   // already loaded: just create the visualization\n",
       "   !function(LDAvis){\n",
       "       new LDAvis(\"#\" + \"ldavis_el1905661396577537717286986842083\", ldavis_el1905661396577537717286986842083_data);\n",
       "   }(LDAvis);\n",
       "}else if(typeof define === \"function\" && define.amd){\n",
       "   // require.js is available: use it to load d3/LDAvis\n",
       "   require.config({paths: {d3: \"https://d3js.org/d3.v5\"}});\n",
       "   require([\"d3\"], function(d3){\n",
       "      window.d3 = d3;\n",
       "      LDAvis_load_lib(\"https://cdn.jsdelivr.net/gh/bmabey/pyLDAvis@3.4.0/pyLDAvis/js/ldavis.v3.0.0.js\", function(){\n",
       "        new LDAvis(\"#\" + \"ldavis_el1905661396577537717286986842083\", ldavis_el1905661396577537717286986842083_data);\n",
       "      });\n",
       "    });\n",
       "}else{\n",
       "    // require.js not available: dynamically load d3 & LDAvis\n",
       "    LDAvis_load_lib(\"https://d3js.org/d3.v5.js\", function(){\n",
       "         LDAvis_load_lib(\"https://cdn.jsdelivr.net/gh/bmabey/pyLDAvis@3.4.0/pyLDAvis/js/ldavis.v3.0.0.js\", function(){\n",
       "                 new LDAvis(\"#\" + \"ldavis_el1905661396577537717286986842083\", ldavis_el1905661396577537717286986842083_data);\n",
       "            })\n",
       "         });\n",
       "}\n",
       "</script>"
      ],
      "text/plain": [
       "PreparedData(topic_coordinates=              x         y  topics  cluster       Freq\n",
       "topic                                                \n",
       "2      0.020470 -0.098757       1        1  57.196506\n",
       "0     -0.102148  0.032883       2        1  31.960408\n",
       "1      0.081678  0.065874       3        1  10.843087, topic_info=           Term       Freq      Total Category  logprob  loglift\n",
       "400   keratosis  15.000000  15.000000  Default  30.0000  30.0000\n",
       "387      growth  17.000000  17.000000  Default  29.0000  29.0000\n",
       "70        nevus   8.000000   8.000000  Default  28.0000  28.0000\n",
       "433  seborrheic  13.000000  13.000000  Default  27.0000  27.0000\n",
       "31        color   7.000000   7.000000  Default  26.0000  26.0000\n",
       "..          ...        ...        ...      ...      ...      ...\n",
       "45     exposure   1.142193   8.155149   Topic3  -5.3008   0.2559\n",
       "94       remove   1.142190  12.876850   Topic3  -5.3008  -0.2008\n",
       "96      require   1.142173   4.815057   Topic3  -5.3008   0.7828\n",
       "21         body   1.142162   5.553916   Topic3  -5.3008   0.6401\n",
       "1           age   1.142158   7.866659   Topic3  -5.3008   0.2919\n",
       "\n",
       "[203 rows x 6 columns], token_table=      Topic      Freq         Term\n",
       "term                              \n",
       "129       1  0.939633  abnormality\n",
       "572       2  0.688665      actinic\n",
       "0         3  0.849107     addition\n",
       "350       1  0.376442       affect\n",
       "350       2  0.564663       affect\n",
       "...     ...       ...          ...\n",
       "457       2  0.923617         wart\n",
       "126       3  0.956234       within\n",
       "659       2  0.688656         work\n",
       "347       1  0.825141         year\n",
       "347       2  0.137524         year\n",
       "\n",
       "[234 rows x 3 columns], R=30, lambda_step=0.01, plot_opts={'xlab': 'PC1', 'ylab': 'PC2'}, topic_order=[3, 1, 2])"
      ]
     },
     "execution_count": 51,
     "metadata": {},
     "output_type": "execute_result"
    }
   ],
   "source": [
    "#Visualization of LDA from BOW\n",
    "# Visualize the topics\n",
    "pyLDAvis.enable_notebook()\n",
    "vis = pyLDAvis.gensim.prepare(topic_model=model_bow, corpus=bow, dictionary=id2word)\n",
    "vis"
   ]
  },
  {
   "cell_type": "code",
   "execution_count": 29,
   "id": "e25d3763",
   "metadata": {},
   "outputs": [
    {
     "data": {
      "text/plain": [
       "<gensim.models.ldamodel.LdaModel at 0x7ffad827cca0>"
      ]
     },
     "execution_count": 29,
     "metadata": {},
     "output_type": "execute_result"
    }
   ],
   "source": [
    "model_bow"
   ]
  },
  {
   "cell_type": "markdown",
   "id": "43035179",
   "metadata": {},
   "source": [
    "## DOING LDA ON TF-IDF"
   ]
  },
  {
   "cell_type": "code",
   "execution_count": 58,
   "id": "e9ddb029",
   "metadata": {},
   "outputs": [],
   "source": [
    "########DOING IT ON THE TFIDF\n",
    "# Train LDA model.\n",
    "# Set training parameters.\n",
    "num_topics = 5\n",
    "chunksize = 2000\n",
    "passes = 20\n",
    "iterations = 100\n",
    "eval_every = None  # Don't evaluate model perplexity, takes too much time.\n",
    "\n",
    "##initial model\n",
    "#lda1 = LdaModel(corpus=tf_idf_gensim, num_topics=5, id2word=id2word, passes=10, random_state=0)\n",
    "\n",
    "# Make an index to word dictionary.\n",
    "model_tf = LdaModel(\n",
    "    corpus=tf_idf_gensim,\n",
    "    id2word=id2word,\n",
    "    chunksize=chunksize,\n",
    "    alpha='auto',\n",
    "    eta='auto',\n",
    "    iterations=iterations,\n",
    "    num_topics=num_topics,\n",
    "    passes=passes,\n",
    "    eval_every=eval_every\n",
    ")"
   ]
  },
  {
   "cell_type": "code",
   "execution_count": 53,
   "id": "220c05d5",
   "metadata": {},
   "outputs": [
    {
     "name": "stdout",
     "output_type": "stream",
     "text": [
      "Average topic coherence: -1.9234.\n",
      "[([(0.0051223175, 'dermatofibroma'),\n",
      "   (0.0038579297, 'dermatofibromas'),\n",
      "   (0.002171984, 'autoimmune'),\n",
      "   (0.002171984, 'reactive'),\n",
      "   (0.002171984, 'consistently'),\n",
      "   (0.002171984, 'bite'),\n",
      "   (0.002171984, 'immunity'),\n",
      "   (0.002171984, 'injury'),\n",
      "   (0.002171984, 'compose'),\n",
      "   (0.0021719837, 'pinch'),\n",
      "   (0.0021719835, 'minor'),\n",
      "   (0.0021719835, 'dimple'),\n",
      "   (0.0021719835, 'immunosuppression'),\n",
      "   (0.0021719835, 'insect'),\n",
      "   (0.0021719835, 'injection'),\n",
      "   (0.0021719835, 'symptom'),\n",
      "   (0.0021719835, 'thelesionsare'),\n",
      "   (0.0021719835, 'attribute'),\n",
      "   (0.0021719835, 'hiv'),\n",
      "   (0.0021719835, 'thorn')],\n",
      "  6.000089314266194e-12),\n",
      " ([(0.0058582546, 'seborrheic'),\n",
      "   (0.004105452, 'keratosis'),\n",
      "   (0.002976984, 'growth'),\n",
      "   (0.0026598899, 'mutation'),\n",
      "   (0.0021267806, 'tool'),\n",
      "   (0.0018602264, 'however'),\n",
      "   (0.0018602264, 'special'),\n",
      "   (0.0018602262, 'hormone'),\n",
      "   (0.0018602262, 'reason'),\n",
      "   (0.0018602259, 'link'),\n",
      "   (0.0018602259, 'therefore'),\n",
      "   (0.0018602258, 'cosmetic'),\n",
      "   (0.0018602258, 'vary'),\n",
      "   (0.0018602258, 'electrosurgery'),\n",
      "   (0.0018174312, 'significant'),\n",
      "   (0.0018174307, 'growths'),\n",
      "   (0.0017493644, 'spot'),\n",
      "   (0.0017395974, 'benign'),\n",
      "   (0.0016890566, 'genetic'),\n",
      "   (0.0016540221, 'number')],\n",
      "  -0.17490789314750896),\n",
      " ([(0.0045086355, 'nevi'),\n",
      "   (0.004508634, 'melanocytic'),\n",
      "   (0.0030964098, 'within'),\n",
      "   (0.0030629318, 'color'),\n",
      "   (0.002833509, 'nevus'),\n",
      "   (0.0023902592, 'cutaneous'),\n",
      "   (0.0023902592, 'elevate'),\n",
      "   (0.0021505516, 'benign'),\n",
      "   (0.0020371685, 'line'),\n",
      "   (0.0020371685, 'uniform'),\n",
      "   (0.0020371685, 'soft'),\n",
      "   (0.0020371685, 'half'),\n",
      "   (0.0020371685, 'congenital'),\n",
      "   (0.002037168, 'medical'),\n",
      "   (0.002037168, 'draw'),\n",
      "   (0.0019804775, 'dark'),\n",
      "   (0.001980477, 'round'),\n",
      "   (0.0019804768, 'tan'),\n",
      "   (0.0019804768, 'appearance'),\n",
      "   (0.0018773654, 'mole')],\n",
      "  -0.20505856427719485),\n",
      " ([(0.0049601654, 'basal'),\n",
      "   (0.0034361016, 'carcinoma'),\n",
      "   (0.0025451914, 'mohs'),\n",
      "   (0.002483587, 'cancer'),\n",
      "   (0.002296604, 'christensen'),\n",
      "   (0.0020715846, 'percent'),\n",
      "   (0.002064354, 'damage'),\n",
      "   (0.0020480128, 'week'),\n",
      "   (0.0020480123, 'spend'),\n",
      "   (0.0020480123, 'stitch'),\n",
      "   (0.0020480123, 'deep'),\n",
      "   (0.001959923, 'cell'),\n",
      "   (0.0019119313, 'procedure'),\n",
      "   (0.0019119312, 'say'),\n",
      "   (0.0018792495, 'surgery'),\n",
      "   (0.0017994262, 'surround'),\n",
      "   (0.0017994262, 'point'),\n",
      "   (0.0017994262, 'tend'),\n",
      "   (0.0017994262, 'scalpel'),\n",
      "   (0.0017994262, 'sunburn')],\n",
      "  -0.4010579675477708),\n",
      " ([(0.0038617156, 'melanoma'),\n",
      "   (0.003657783, 'node'),\n",
      "   (0.003167508, 'lymph'),\n",
      "   (0.002813454, 'brand'),\n",
      "   (0.0027103615, 'cancer'),\n",
      "   (0.002432072, 'leffell'),\n",
      "   (0.0024116726, 'work'),\n",
      "   (0.0024116726, 'ak'),\n",
      "   (0.0024116724, 'topical'),\n",
      "   (0.0024116724, 'cream'),\n",
      "   (0.0024116724, 'actinic'),\n",
      "   (0.0024116724, 'fluorouracil'),\n",
      "   (0.0024116721, 'gel'),\n",
      "   (0.0023002764, 'new'),\n",
      "   (0.0022495263, 'mole'),\n",
      "   (0.002191727, 'name'),\n",
      "   (0.002009874, 'liquid'),\n",
      "   (0.002009874, 'ingenol'),\n",
      "   (0.0020098737, 'scaly'),\n",
      "   (0.0020098737, 'mebutate')],\n",
      "  -8.835726379270877)]\n",
      "CPU times: user 12.7 ms, sys: 220 µs, total: 12.9 ms\n",
      "Wall time: 12.2 ms\n"
     ]
    }
   ],
   "source": [
    "%%time\n",
    "##Look for the best number of topics\n",
    "top_topics_tf = model_tf.top_topics(tf_idf_gensim)\n",
    "\n",
    "# Average topic coherence is the sum of topic coherences of all topics, divided by the number of topics.\n",
    "avg_topic_coherence_tf = sum([t[1] for t in top_topics_tf]) / num_topics\n",
    "print('Average topic coherence: %.4f.' % avg_topic_coherence_tf)\n",
    "\n",
    "pprint(top_topics_tf)"
   ]
  },
  {
   "cell_type": "code",
   "execution_count": 54,
   "id": "892ffb8d",
   "metadata": {},
   "outputs": [
    {
     "data": {
      "text/html": [
       "\n",
       "<link rel=\"stylesheet\" type=\"text/css\" href=\"https://cdn.jsdelivr.net/gh/bmabey/pyLDAvis@3.4.0/pyLDAvis/js/ldavis.v1.0.0.css\">\n",
       "\n",
       "\n",
       "<div id=\"ldavis_el1905661396577537707204249970509\" style=\"background-color:white;\"></div>\n",
       "<script type=\"text/javascript\">\n",
       "\n",
       "var ldavis_el1905661396577537707204249970509_data = {\"mdsDat\": {\"x\": [-0.004700765958436987, 0.0008758907878836554, 0.0005977155049002513, 0.0022741944122577334, 0.0009529652533953488], \"y\": [0.0005747381091986297, -0.0028914361093189335, -0.00030737817135878623, 0.002208067280593982, 0.0004160088908851093], \"topics\": [1, 2, 3, 4, 5], \"cluster\": [1, 1, 1, 1, 1], \"Freq\": [41.218153989731235, 18.951489521774224, 13.677127734369945, 13.285760494351775, 12.867468259772814]}, \"tinfo\": {\"Term\": [\"seborrheic\", \"dermatofibroma\", \"nevi\", \"melanocytic\", \"basal\", \"dermatofibromas\", \"keratosis\", \"within\", \"nevus\", \"color\", \"carcinoma\", \"mutation\", \"cutaneous\", \"elevate\", \"growth\", \"dark\", \"benign\", \"bite\", \"injury\", \"compose\", \"immunity\", \"consistently\", \"reactive\", \"autoimmune\", \"pinch\", \"immunosuppression\", \"altered\", \"symptom\", \"insect\", \"thorn\", \"node\", \"melanoma\", \"lymph\", \"brand\", \"leffell\", \"work\", \"ak\", \"cream\", \"topical\", \"actinic\", \"fluorouracil\", \"gel\", \"new\", \"name\", \"cancer\", \"mole\", \"ingenol\", \"liquid\", \"feel\", \"mebutate\", \"scaly\", \"abnormality\", \"sentinel\", \"millimeter\", \"less\", \"like\", \"change\", \"diagnosis\", \"especially\", \"say\", \"growth\", \"keratosis\", \"color\", \"basal\", \"carcinoma\", \"mohs\", \"christensen\", \"week\", \"spend\", \"deep\", \"stitch\", \"damage\", \"effective\", \"gorlin\", \"manifest\", \"natural\", \"scalpel\", \"sunburn\", \"superficial\", \"tend\", \"surround\", \"high\", \"scar\", \"point\", \"allow\", \"artificial\", \"wound\", \"extremely\", \"little\", \"micrographic\", \"leave\", \"cumulative\", \"life\", \"cell\", \"percent\", \"cancer\", \"procedure\", \"surgery\", \"say\", \"seborrheic\", \"keratosis\", \"mutation\", \"growth\", \"tool\", \"special\", \"however\", \"hormone\", \"reason\", \"therefore\", \"link\", \"electrosurgery\", \"cosmetic\", \"vary\", \"significant\", \"growths\", \"number\", \"curettage\", \"genetic\", \"laser\", \"bacterial\", \"diagnose\", \"electrical\", \"equally\", \"estrogen\", \"frequently\", \"frozen\", \"gastrointestinal\", \"importantly\", \"inflamed\", \"rare\", \"amount\", \"location\", \"darker\", \"person\", \"benign\", \"sign\", \"spent\", \"spot\", \"old\", \"apply\", \"family\", \"dermatofibroma\", \"dermatofibromas\", \"compose\", \"consistently\", \"immunity\", \"reactive\", \"injury\", \"autoimmune\", \"bite\", \"pinch\", \"thelesionsare\", \"dimple\", \"immunosuppression\", \"altered\", \"insect\", \"symptom\", \"thorn\", \"hiv\", \"minor\", \"trueneoplasm\", \"attribute\", \"injection\", \"trauma\", \"mobile\", \"beyond\", \"low\", \"subcutaneous\", \"tether\", \"seldom\", \"hey\", \"clear\", \"dark\", \"multiple\", \"diameter\", \"nevi\", \"melanocytic\", \"within\", \"nevus\", \"color\", \"cutaneous\", \"elevate\", \"uniform\", \"half\", \"line\", \"soft\", \"congenital\", \"medical\", \"draw\", \"benign\", \"round\", \"appearance\", \"dark\", \"arise\", \"tan\", \"begin\", \"childhood\", \"compare\", \"darken\", \"inner\", \"normally\", \"oval\", \"range\", \"suture\", \"symmetric\", \"melanin\", \"become\", \"atypical\", \"pigment\", \"mole\", \"brown\", \"melanoma\", \"addition\", \"attention\"], \"Freq\": [0.0, 0.0, 0.0, 0.0, 0.0, 0.0, 0.0, 0.0, 0.0, 0.0, 0.0, 0.0, 0.0, 0.0, 0.0, 0.0, 0.0, 0.0, 0.0, 0.0, 0.0, 0.0, 0.0, 0.0, 0.0, 0.0, 0.0, 0.0, 0.0, 0.0, 0.08232838730882164, 0.08691844784135436, 0.07129341085730279, 0.06332446114615851, 0.054740419510872516, 0.05428127406060986, 0.05428127406060986, 0.054281268820120784, 0.054281268820120784, 0.054281268820120784, 0.054281268820120784, 0.054281263579631714, 0.05177399874633702, 0.04933079889197814, 0.06100408263423878, 0.05063172934276742, 0.045237699178869696, 0.045237699178869696, 0.04523769393838062, 0.04523769393838062, 0.04523769393838062, 0.04370444474618497, 0.04370444474618497, 0.04370443688545136, 0.043279289108059546, 0.04162388935602629, 0.040683792780461976, 0.039462161410348084, 0.039462156169859014, 0.04406720450114481, 0.04464321809825798, 0.04378567232683978, 0.04068381636266281, 0.05133134552876995, 0.03555924163007548, 0.026339464881324458, 0.02376690373680522, 0.021194304040312473, 0.021194299221315785, 0.021194299221315785, 0.021194299221315785, 0.021363414681591968, 0.01862175132903744, 0.01862175132903744, 0.01862175132903744, 0.01862175132903744, 0.01862175132903744, 0.01862175132903744, 0.01862175132903744, 0.01862175132903744, 0.01862175132903744, 0.01862175132903744, 0.01862175132903744, 0.01862175132903744, 0.01862175132903744, 0.018621748919539095, 0.018621748919539095, 0.018621748919539095, 0.018621748919539095, 0.018621748919539095, 0.018621747714789923, 0.018621747714789923, 0.018621747714789923, 0.02028268720831693, 0.021438241652667476, 0.025701938123961775, 0.0197860353858886, 0.019447820127075473, 0.019786034181139427, 0.04375284422256756, 0.030661897226410977, 0.019865600707825382, 0.022233843778585526, 0.015884031181550445, 0.013893249896241628, 0.013893249896241628, 0.013893248157327301, 0.013893248157327301, 0.013893246418412976, 0.013893246418412976, 0.013893245548955813, 0.013893245548955813, 0.013893245548955813, 0.013573630487472028, 0.013573627009643376, 0.012353196943137164, 0.012353195204222837, 0.01261485485959371, 0.012353196073680002, 0.011902879864170901, 0.011902879864170901, 0.011902879864170901, 0.011902879864170901, 0.011902879864170901, 0.011902879864170901, 0.011902879864170901, 0.011902879864170901, 0.011902879864170901, 0.011902879864170901, 0.012353193465308512, 0.012353196073680002, 0.012353196073680002, 0.012353195204222837, 0.012353194334765675, 0.012992322731245176, 0.012222374940566194, 0.012353195204222837, 0.013065268448305066, 0.012222374940566194, 0.012353193465308512, 0.01222237667948052, 0.0371617411638703, 0.027988773988167223, 0.01575745853336333, 0.01575745853336333, 0.01575745853336333, 0.01575745853336333, 0.01575745853336333, 0.01575745853336333, 0.01575745853336333, 0.015757456844207558, 0.015757455155051787, 0.015757455155051787, 0.015757455155051787, 0.015757455155051787, 0.015757455155051787, 0.015757455155051787, 0.015757455155051787, 0.015757455155051787, 0.015757455155051787, 0.015757455155051787, 0.015757455155051787, 0.015757455155051787, 0.013391492671413832, 0.01269955619138628, 0.01269955619138628, 0.01269955619138628, 0.01269955619138628, 0.01269955619138628, 0.012699554502230509, 0.012699554502230509, 0.013391488448524403, 0.01339149098225806, 0.013391488448524403, 0.01339149098225806, 0.03167972296782123, 0.03167971315197744, 0.02175678341130988, 0.01990952177222736, 0.021521551622737087, 0.01679504778728481, 0.01679504778728481, 0.014314072000990557, 0.014314072000990557, 0.014314072000990557, 0.014314072000990557, 0.014314072000990557, 0.014314068729042626, 0.014314068729042626, 0.015110753694772423, 0.013915731972086608, 0.013915730336112642, 0.01391573524403454, 0.012394620556720803, 0.013915730336112642, 0.011833303165402934, 0.011833303165402934, 0.011833303165402934, 0.011833303165402934, 0.011833303165402934, 0.011833303165402934, 0.011833303165402934, 0.011833303165402934, 0.011833303165402934, 0.011833303165402934, 0.012394618920746838, 0.012231556487686715, 0.012394617284772872, 0.01239461646678589, 0.013191222905765344, 0.01223155485171275, 0.013191186914338102, 0.011833303165402934, 0.011833303165402934], \"Total\": [0.0, 0.0, 0.0, 0.0, 0.0, 0.0, 0.0, 0.0, 0.0, 0.0, 0.0, 0.0, 0.0, 0.0, 0.0, 0.0, 0.0, 0.0, 0.0, 0.0, 0.0, 0.0, 0.0, 0.0, 0.0, 0.0, 0.0, 0.0, 0.0, 0.0, 0.12472617099980597, 0.13513814644351382, 0.11369119447022603, 0.10572223943780679, 0.09713819194007307, 0.09667904446707425, 0.09667904482724554, 0.09667904037986418, 0.09667904037986418, 0.09667904124932132, 0.0966790421187785, 0.09667903892761649, 0.0941717699707884, 0.09324689427039054, 0.1169708510791081, 0.09785758204895771, 0.08763546705331206, 0.08763546787129904, 0.08763546263080997, 0.08763546347538785, 0.08763546465354612, 0.08610221262062732, 0.08610221343861431, 0.08610220844519474, 0.08666957438396493, 0.0840216589179128, 0.08429954632575334, 0.08185993010277744, 0.08185992778107258, 0.09276936395589226, 0.10035200229698123, 0.10692999958235623, 0.09524748978470761, 0.11078428317813346, 0.09501216905296696, 0.08241699699422704, 0.07984443756374286, 0.07727183181893547, 0.07727182784451668, 0.07727182964677422, 0.07727183051623139, 0.08297625355256445, 0.07469927400686406, 0.07469927400686406, 0.07469927400686406, 0.07469927400686406, 0.07469927400686406, 0.07469927400686406, 0.07469927400686406, 0.07469927400686406, 0.07469927485144194, 0.0746992766271086, 0.0746992766271086, 0.07469927744509558, 0.07469927747168648, 0.07469927503559723, 0.07469927503559723, 0.07469927506218814, 0.07469927588017512, 0.07469927588017512, 0.07469927205518141, 0.07469927467542595, 0.07469927467542595, 0.08145245063317055, 0.08954195899663193, 0.1169708510791081, 0.08261995974665408, 0.08074327494645507, 0.09276936395589226, 0.10339673918158146, 0.10692999958235623, 0.07950942675594781, 0.10035200229698123, 0.07552785294686347, 0.07353706171517067, 0.07353706294651075, 0.07353706464582795, 0.07353706546381493, 0.07353706230940524, 0.0735370637249006, 0.07353706370002132, 0.07353706408678352, 0.07353706574934839, 0.07636749666068159, 0.07659283145913631, 0.07351534450924929, 0.07357082011188092, 0.07522442967678114, 0.07386885798114089, 0.07154668824486843, 0.07154668824486843, 0.07154668824486843, 0.07154668824486843, 0.07154668824486843, 0.07154668824486843, 0.07154668824486843, 0.07154668824486843, 0.07154668824486843, 0.07154668824486843, 0.07514706445751476, 0.07537239323335682, 0.07537239323335682, 0.07537239498414418, 0.07537239411468702, 0.08188170948263654, 0.07517518117866255, 0.07753232020158075, 0.08994915228042227, 0.07634916497980065, 0.08307619457365213, 0.07921748837833213, 0.09707587014067726, 0.08790288677482569, 0.07567153855908122, 0.0756715397638304, 0.0756715397638304, 0.07567153981530057, 0.07567154063328756, 0.07567154096857956, 0.07567154150274472, 0.07567154014888094, 0.07567153725497601, 0.07567153845972517, 0.07567153899389034, 0.07567153927771215, 0.07567153932918234, 0.07567153932918234, 0.07567153932918234, 0.07567153971594454, 0.07567154048246134, 0.0756715407446777, 0.07567154228471888, 0.07567154228471888, 0.07452355644647331, 0.07261363157412348, 0.07261363196088566, 0.07261363277887264, 0.07261363277887264, 0.07261363277887264, 0.07261363027172989, 0.07261363108971687, 0.07668095646011387, 0.07786565682558422, 0.07884088113151223, 0.08006197581102331, 0.0918832774499802, 0.09188328130869239, 0.08196031864426499, 0.084228060168151, 0.09524748978470761, 0.07699856405528692, 0.07699856648966454, 0.07451758568550045, 0.07451758655495762, 0.07451758655495762, 0.07451758655495762, 0.07451758775970678, 0.07451758533233674, 0.07451758707125107, 0.08188170948263654, 0.07569305585142058, 0.07749463251577998, 0.07786565682558422, 0.07381611678582312, 0.0842583844845098, 0.07203680751076963, 0.07203681013101418, 0.07203681013101418, 0.07203681013101418, 0.07203681013101418, 0.07203681013101418, 0.07203681013101418, 0.07203681013101418, 0.07203681013101418, 0.07203681013101418, 0.07597351646759491, 0.07595881494831509, 0.07935453456758096, 0.07935453112934943, 0.09785758204895771, 0.07905812861835308, 0.13513814644351382, 0.07203681097559206, 0.07203681133576334], \"Category\": [\"Default\", \"Default\", \"Default\", \"Default\", \"Default\", \"Default\", \"Default\", \"Default\", \"Default\", \"Default\", \"Default\", \"Default\", \"Default\", \"Default\", \"Default\", \"Default\", \"Default\", \"Default\", \"Default\", \"Default\", \"Default\", \"Default\", \"Default\", \"Default\", \"Default\", \"Default\", \"Default\", \"Default\", \"Default\", \"Default\", \"Topic1\", \"Topic1\", \"Topic1\", \"Topic1\", \"Topic1\", \"Topic1\", \"Topic1\", \"Topic1\", \"Topic1\", \"Topic1\", \"Topic1\", \"Topic1\", \"Topic1\", \"Topic1\", \"Topic1\", \"Topic1\", \"Topic1\", \"Topic1\", \"Topic1\", \"Topic1\", \"Topic1\", \"Topic1\", \"Topic1\", \"Topic1\", \"Topic1\", \"Topic1\", \"Topic1\", \"Topic1\", \"Topic1\", \"Topic1\", \"Topic1\", \"Topic1\", \"Topic1\", \"Topic2\", \"Topic2\", \"Topic2\", \"Topic2\", \"Topic2\", \"Topic2\", \"Topic2\", \"Topic2\", \"Topic2\", \"Topic2\", \"Topic2\", \"Topic2\", \"Topic2\", \"Topic2\", \"Topic2\", \"Topic2\", \"Topic2\", \"Topic2\", \"Topic2\", \"Topic2\", \"Topic2\", \"Topic2\", \"Topic2\", \"Topic2\", \"Topic2\", \"Topic2\", \"Topic2\", \"Topic2\", \"Topic2\", \"Topic2\", \"Topic2\", \"Topic2\", \"Topic2\", \"Topic2\", \"Topic2\", \"Topic2\", \"Topic3\", \"Topic3\", \"Topic3\", \"Topic3\", \"Topic3\", \"Topic3\", \"Topic3\", \"Topic3\", \"Topic3\", \"Topic3\", \"Topic3\", \"Topic3\", \"Topic3\", \"Topic3\", \"Topic3\", \"Topic3\", \"Topic3\", \"Topic3\", \"Topic3\", \"Topic3\", \"Topic3\", \"Topic3\", \"Topic3\", \"Topic3\", \"Topic3\", \"Topic3\", \"Topic3\", \"Topic3\", \"Topic3\", \"Topic3\", \"Topic3\", \"Topic3\", \"Topic3\", \"Topic3\", \"Topic3\", \"Topic3\", \"Topic3\", \"Topic3\", \"Topic3\", \"Topic3\", \"Topic3\", \"Topic3\", \"Topic4\", \"Topic4\", \"Topic4\", \"Topic4\", \"Topic4\", \"Topic4\", \"Topic4\", \"Topic4\", \"Topic4\", \"Topic4\", \"Topic4\", \"Topic4\", \"Topic4\", \"Topic4\", \"Topic4\", \"Topic4\", \"Topic4\", \"Topic4\", \"Topic4\", \"Topic4\", \"Topic4\", \"Topic4\", \"Topic4\", \"Topic4\", \"Topic4\", \"Topic4\", \"Topic4\", \"Topic4\", \"Topic4\", \"Topic4\", \"Topic4\", \"Topic4\", \"Topic4\", \"Topic4\", \"Topic5\", \"Topic5\", \"Topic5\", \"Topic5\", \"Topic5\", \"Topic5\", \"Topic5\", \"Topic5\", \"Topic5\", \"Topic5\", \"Topic5\", \"Topic5\", \"Topic5\", \"Topic5\", \"Topic5\", \"Topic5\", \"Topic5\", \"Topic5\", \"Topic5\", \"Topic5\", \"Topic5\", \"Topic5\", \"Topic5\", \"Topic5\", \"Topic5\", \"Topic5\", \"Topic5\", \"Topic5\", \"Topic5\", \"Topic5\", \"Topic5\", \"Topic5\", \"Topic5\", \"Topic5\", \"Topic5\", \"Topic5\", \"Topic5\", \"Topic5\", \"Topic5\"], \"logprob\": [30.0, 29.0, 28.0, 27.0, 26.0, 25.0, 24.0, 23.0, 22.0, 21.0, 20.0, 19.0, 18.0, 17.0, 16.0, 15.0, 14.0, 13.0, 12.0, 11.0, 10.0, 9.0, 8.0, 7.0, 6.0, 5.0, 4.0, 3.0, 2.0, 1.0, -5.6109, -5.5566, -5.7548, -5.8733, -6.019, -6.0274, -6.0274, -6.0274, -6.0274, -6.0274, -6.0274, -6.0274, -6.0747, -6.1231, -5.9107, -6.097, -6.2097, -6.2097, -6.2097, -6.2097, -6.2097, -6.2442, -6.2442, -6.2442, -6.2539, -6.2929, -6.3158, -6.3463, -6.3463, -6.2359, -6.2229, -6.2423, -6.3158, -5.3063, -5.6734, -5.9735, -6.0763, -6.1909, -6.1909, -6.1909, -6.1909, -6.1829, -6.3203, -6.3203, -6.3203, -6.3203, -6.3203, -6.3203, -6.3203, -6.3203, -6.3203, -6.3203, -6.3203, -6.3203, -6.3203, -6.3203, -6.3203, -6.3203, -6.3203, -6.3203, -6.3203, -6.3203, -6.3203, -6.2349, -6.1794, -5.9981, -6.2596, -6.2769, -6.2596, -5.1399, -5.4954, -5.9295, -5.8168, -6.1531, -6.2871, -6.2871, -6.2871, -6.2871, -6.2871, -6.2871, -6.2871, -6.2871, -6.2871, -6.3103, -6.3103, -6.4045, -6.4045, -6.3836, -6.4045, -6.4417, -6.4417, -6.4417, -6.4417, -6.4417, -6.4417, -6.4417, -6.4417, -6.4417, -6.4417, -6.4045, -6.4045, -6.4045, -6.4045, -6.4045, -6.3541, -6.4152, -6.4045, -6.3485, -6.4152, -6.4045, -6.4152, -5.2741, -5.5576, -6.1321, -6.1321, -6.1321, -6.1321, -6.1321, -6.1321, -6.1321, -6.1321, -6.1321, -6.1321, -6.1321, -6.1321, -6.1321, -6.1321, -6.1321, -6.1321, -6.1321, -6.1321, -6.1321, -6.1321, -6.2948, -6.3479, -6.3479, -6.3479, -6.3479, -6.3479, -6.3479, -6.3479, -6.2948, -6.2948, -6.2948, -6.2948, -5.4018, -5.4018, -5.7775, -5.8662, -5.7884, -6.0364, -6.0364, -6.1962, -6.1962, -6.1962, -6.1962, -6.1962, -6.1962, -6.1962, -6.142, -6.2244, -6.2244, -6.2244, -6.3402, -6.2244, -6.3865, -6.3865, -6.3865, -6.3865, -6.3865, -6.3865, -6.3865, -6.3865, -6.3865, -6.3865, -6.3402, -6.3534, -6.3402, -6.3402, -6.2779, -6.3534, -6.2779, -6.3865, -6.3865], \"loglift\": [30.0, 29.0, 28.0, 27.0, 26.0, 25.0, 24.0, 23.0, 22.0, 21.0, 20.0, 19.0, 18.0, 17.0, 16.0, 15.0, 14.0, 13.0, 12.0, 11.0, 10.0, 9.0, 8.0, 7.0, 6.0, 5.0, 4.0, 3.0, 2.0, 1.0, 0.4709, 0.445, 0.4196, 0.3737, 0.3128, 0.3091, 0.3091, 0.3091, 0.3091, 0.3091, 0.3091, 0.3091, 0.2881, 0.2496, 0.2353, 0.2274, 0.225, 0.225, 0.225, 0.225, 0.225, 0.2082, 0.2082, 0.2082, 0.1919, 0.1839, 0.1577, 0.1566, 0.1566, 0.1419, 0.0763, -0.0066, 0.0356, 0.894, 0.6805, 0.5226, 0.4515, 0.3697, 0.3697, 0.3697, 0.3697, 0.3064, 0.2741, 0.2741, 0.2741, 0.2741, 0.2741, 0.2741, 0.2741, 0.2741, 0.2741, 0.2741, 0.2741, 0.2741, 0.2741, 0.2741, 0.2741, 0.2741, 0.2741, 0.2741, 0.2741, 0.2741, 0.2741, 0.273, 0.2338, 0.1479, 0.234, 0.2397, 0.1181, 1.1294, 0.7403, 0.6026, 0.4824, 0.4303, 0.3231, 0.3231, 0.3231, 0.3231, 0.3231, 0.3231, 0.3231, 0.3231, 0.3231, 0.262, 0.2591, 0.2059, 0.2051, 0.2038, 0.2011, 0.1959, 0.1959, 0.1959, 0.1959, 0.1959, 0.1959, 0.1959, 0.1959, 0.1959, 0.1959, 0.1839, 0.1809, 0.1809, 0.1809, 0.1809, 0.1485, 0.1729, 0.1527, 0.0602, 0.1574, 0.0836, 0.1205, 1.0583, 0.874, 0.4494, 0.4494, 0.4494, 0.4494, 0.4494, 0.4494, 0.4494, 0.4494, 0.4494, 0.4494, 0.4494, 0.4494, 0.4494, 0.4494, 0.4494, 0.4494, 0.4494, 0.4494, 0.4494, 0.4494, 0.302, 0.2749, 0.2749, 0.2749, 0.2749, 0.2749, 0.2749, 0.2749, 0.2734, 0.2581, 0.2457, 0.2303, 0.9856, 0.9856, 0.7242, 0.6081, 0.563, 0.5278, 0.5278, 0.4007, 0.4007, 0.4007, 0.4007, 0.4007, 0.4007, 0.4007, 0.3606, 0.3568, 0.3333, 0.3285, 0.2662, 0.2496, 0.2442, 0.2442, 0.2442, 0.2442, 0.2442, 0.2442, 0.2442, 0.2442, 0.2442, 0.2442, 0.2373, 0.2243, 0.1938, 0.1938, 0.0465, 0.1843, -0.2763, 0.2442, 0.2442]}, \"token.table\": {\"Topic\": [], \"Freq\": [], \"Term\": []}, \"R\": 30, \"lambda.step\": 0.01, \"plot.opts\": {\"xlab\": \"PC1\", \"ylab\": \"PC2\"}, \"topic.order\": [1, 3, 5, 2, 4]};\n",
       "\n",
       "function LDAvis_load_lib(url, callback){\n",
       "  var s = document.createElement('script');\n",
       "  s.src = url;\n",
       "  s.async = true;\n",
       "  s.onreadystatechange = s.onload = callback;\n",
       "  s.onerror = function(){console.warn(\"failed to load library \" + url);};\n",
       "  document.getElementsByTagName(\"head\")[0].appendChild(s);\n",
       "}\n",
       "\n",
       "if(typeof(LDAvis) !== \"undefined\"){\n",
       "   // already loaded: just create the visualization\n",
       "   !function(LDAvis){\n",
       "       new LDAvis(\"#\" + \"ldavis_el1905661396577537707204249970509\", ldavis_el1905661396577537707204249970509_data);\n",
       "   }(LDAvis);\n",
       "}else if(typeof define === \"function\" && define.amd){\n",
       "   // require.js is available: use it to load d3/LDAvis\n",
       "   require.config({paths: {d3: \"https://d3js.org/d3.v5\"}});\n",
       "   require([\"d3\"], function(d3){\n",
       "      window.d3 = d3;\n",
       "      LDAvis_load_lib(\"https://cdn.jsdelivr.net/gh/bmabey/pyLDAvis@3.4.0/pyLDAvis/js/ldavis.v3.0.0.js\", function(){\n",
       "        new LDAvis(\"#\" + \"ldavis_el1905661396577537707204249970509\", ldavis_el1905661396577537707204249970509_data);\n",
       "      });\n",
       "    });\n",
       "}else{\n",
       "    // require.js not available: dynamically load d3 & LDAvis\n",
       "    LDAvis_load_lib(\"https://d3js.org/d3.v5.js\", function(){\n",
       "         LDAvis_load_lib(\"https://cdn.jsdelivr.net/gh/bmabey/pyLDAvis@3.4.0/pyLDAvis/js/ldavis.v3.0.0.js\", function(){\n",
       "                 new LDAvis(\"#\" + \"ldavis_el1905661396577537707204249970509\", ldavis_el1905661396577537707204249970509_data);\n",
       "            })\n",
       "         });\n",
       "}\n",
       "</script>"
      ],
      "text/plain": [
       "PreparedData(topic_coordinates=              x         y  topics  cluster       Freq\n",
       "topic                                                \n",
       "0     -0.004701  0.000575       1        1  41.218154\n",
       "2      0.000876 -0.002891       2        1  18.951490\n",
       "4      0.000598 -0.000307       3        1  13.677128\n",
       "1      0.002274  0.002208       4        1  13.285760\n",
       "3      0.000953  0.000416       5        1  12.867468, topic_info=               Term      Freq     Total Category  logprob  loglift\n",
       "433      seborrheic  0.000000  0.000000  Default  30.0000  30.0000\n",
       "673  dermatofibroma  0.000000  0.000000  Default  29.0000  29.0000\n",
       "69             nevi  0.000000  0.000000  Default  28.0000  28.0000\n",
       "65      melanocytic  0.000000  0.000000  Default  27.0000  27.0000\n",
       "141           basal  0.000000  0.000000  Default  26.0000  26.0000\n",
       "..              ...       ...       ...      ...      ...      ...\n",
       "67             mole  0.013191  0.097858   Topic5  -6.2779   0.0465\n",
       "24            brown  0.012232  0.079058   Topic5  -6.3534   0.1843\n",
       "66         melanoma  0.013191  0.135138   Topic5  -6.2779  -0.2763\n",
       "0          addition  0.011833  0.072037   Topic5  -6.3865   0.2442\n",
       "9         attention  0.011833  0.072037   Topic5  -6.3865   0.2442\n",
       "\n",
       "[214 rows x 6 columns], token_table=Empty DataFrame\n",
       "Columns: [Topic, Freq, Term]\n",
       "Index: [], R=30, lambda_step=0.01, plot_opts={'xlab': 'PC1', 'ylab': 'PC2'}, topic_order=[1, 3, 5, 2, 4])"
      ]
     },
     "execution_count": 54,
     "metadata": {},
     "output_type": "execute_result"
    }
   ],
   "source": [
    "#TODO: visualize your different topics\n",
    "# TODO: show visualization results of the LDA\n",
    "pyLDAvis.enable_notebook()\n",
    "vis = pyLDAvis.gensim.prepare(topic_model=model_tf, corpus=tf_idf_gensim, dictionary=id2word)\n",
    "vis"
   ]
  },
  {
   "cell_type": "markdown",
   "id": "0cda82b0",
   "metadata": {},
   "source": [
    "# Looking for text similarities"
   ]
  },
  {
   "cell_type": "code",
   "execution_count": 31,
   "id": "d7c2eb4f",
   "metadata": {},
   "outputs": [],
   "source": [
    "##Reset index\n",
    "#data_subset = data_subset.set_index(['Disease'])\n",
    "#data_subset = data_subset.drop(\"Description_all\", axis =1)\n",
    "#data_subset = data_subset.set_index(['Disease'])\n"
   ]
  },
  {
   "cell_type": "code",
   "execution_count": 55,
   "id": "42d525fd",
   "metadata": {},
   "outputs": [],
   "source": [
    "def jaquard_similarities_all(Text, data):\n",
    "    token = list(data_NLP.loc[Text])\n",
    "    tokens = set(word_tokenize(str(token)))\n",
    "    ##Struct sources\n",
    "    Asour = list(data_NLP.loc[\"Melanocytic nevi\"])\n",
    "    Asourtokens = set(word_tokenize(str(Asour)))\n",
    "    Bsour = list(data_NLP.loc[\"Melanoma\"])\n",
    "    Bsourtokens = set(word_tokenize(str(Bsour)))\n",
    "    Csour = list(data_NLP.loc[\"Benign keratosis-like lesions\"])\n",
    "    Csourtokens = set(word_tokenize(str(Csour)))\n",
    "    Dsour = list(data_NLP.loc[\"basal cell carcinomas\"])\n",
    "    Dsourtokens = set(word_tokenize(str(Dsour)))\n",
    "    Esour = list(data_NLP.loc[\"actinic keratosis\"])\n",
    "    Esourtokens = set(word_tokenize(str(Esour)))\n",
    "    Fsour = list(data_NLP.loc[\"Dermatofibroma\"])\n",
    "    Fsourtokens = set(word_tokenize(str(Fsour)))\n",
    "    ##calculate Jaccard\n",
    "    intercepA = Asourtokens.intersection(tokens)\n",
    "    unionA = Asourtokens.union(tokens)\n",
    "    JA = len(intercepA)/len(unionA)\n",
    "    ##B\n",
    "    intercepB = Bsourtokens.intersection(tokens)\n",
    "    unionB = Bsourtokens.union(tokens)\n",
    "    JB = len(intercepB)/len(unionB)\n",
    "    ##C\n",
    "    intercepC = Csourtokens.intersection(tokens)\n",
    "    unionC = Csourtokens.union(tokens)\n",
    "    JC = len(intercepC)/len(unionC)\n",
    "    ##D\n",
    "    intercepD = Dsourtokens.intersection(tokens)\n",
    "    unionD = Dsourtokens.union(tokens)\n",
    "    JD = len(intercepD)/len(unionD)\n",
    "    ##E\n",
    "    intercepE = Esourtokens.intersection(tokens)\n",
    "    unionE = Esourtokens.union(tokens)\n",
    "    JE = len(intercepE)/len(unionE)\n",
    "    ##F\n",
    "    intercepF = Dsourtokens.intersection(tokens)\n",
    "    unionF = Dsourtokens.union(tokens)\n",
    "    JF = len(intercepF)/len(unionF)\n",
    "    res = pd.DataFrame([JA, JB, JC, JD, JE, JF], index = [\"Melanocytic nevi\", \"Melanoma\", \"Benign keratosis-like lesions\", \"basal cell carcinomas\", \"actinic keratosis\", \"Dermatofibroma\"], columns=[Text])\n",
    "    return res"
   ]
  },
  {
   "cell_type": "code",
   "execution_count": 56,
   "id": "68492ba5",
   "metadata": {},
   "outputs": [],
   "source": [
    "##Calcul Jacquard similarities\n",
    "JacML = jaquard_similarities_all(\"Melanocytic nevi\", data_NLP)\n",
    "JacM = jaquard_similarities_all(\"Melanoma\", data_NLP)\n",
    "JacJKLL = jaquard_similarities_all(\"Benign keratosis-like lesions\", data_NLP)\n",
    "JaBCC = jaquard_similarities_all(\"basal cell carcinomas\", data_NLP)\n",
    "JaBAK = jaquard_similarities_all(\"actinic keratosis\", data_NLP)\n",
    "JaD = jaquard_similarities_all(\"Dermatofibroma\", data_NLP)"
   ]
  },
  {
   "cell_type": "code",
   "execution_count": 57,
   "id": "6cab550f",
   "metadata": {},
   "outputs": [],
   "source": [
    "###Create a dataframe\n",
    "simil = pd.concat([JacML, JacM, JacJKLL, JaBCC, JaBAK, JaD], axis=1)\n"
   ]
  },
  {
   "cell_type": "code",
   "execution_count": 29,
   "id": "b9be962d",
   "metadata": {},
   "outputs": [
    {
     "data": {
      "text/plain": [
       "<Axes: >"
      ]
     },
     "execution_count": 29,
     "metadata": {},
     "output_type": "execute_result"
    },
    {
     "data": {
      "image/png": "[encoded data removed]",
      "text/plain": [
       "<Figure size 640x480 with 2 Axes>"
      ]
     },
     "metadata": {},
     "output_type": "display_data"
    }
   ],
   "source": [
    "##heatmap\n",
    "sns.heatmap(simil, annot=True)"
   ]
  },
  {
   "cell_type": "markdown",
   "id": "9cda3932",
   "metadata": {},
   "source": [
    "# COSINE SIMILARITIES COMPUTATION"
   ]
  },
  {
   "cell_type": "code",
   "execution_count": 34,
   "id": "46c6f1e4",
   "metadata": {},
   "outputs": [
    {
     "name": "stderr",
     "output_type": "stream",
     "text": [
      "/home/annemocoeur/.pyenv/versions/3.10.4/envs/artefact/lib/python3.10/site-packages/sklearn/feature_extraction/text.py:550: UserWarning: The parameter 'stop_words' will not be used since 'analyzer' != 'word'\n",
      "  warnings.warn(\n"
     ]
    }
   ],
   "source": [
    "# TODO: compute the TF-IDF of A, B and C and the cosine similarities of all possibilities\n",
    "###TD-IDF\n",
    "\n",
    "vectorizer = TfidfVectorizer(stop_words='english', lowercase=False, analyzer=lambda x: x)\n",
    "tf_idf = vectorizer.fit_transform(data_subset[\"Description_clean\"]).toarray()\n",
    "token = vectorizer.get_feature_names_out()\n",
    "idf = pd.DataFrame(data = tf_idf, columns=token, index=data_subset.index)\n",
    "\n",
    "##Compute cosine similarities\n",
    "cos = pd.DataFrame(pairwise.cosine_similarity(idf), columns=data_subset.index, index=data_subset.index)\n",
    "cos.to_csv(\"Cosine_similarities.csv\", header=True, index_label=True)"
   ]
  },
  {
   "cell_type": "code",
   "execution_count": 13,
   "id": "fba800b3",
   "metadata": {},
   "outputs": [
    {
     "data": {
      "text/plain": [
       "(6, 716)"
      ]
     },
     "execution_count": 13,
     "metadata": {},
     "output_type": "execute_result"
    }
   ],
   "source": [
    "idf.shape"
   ]
  },
  {
   "cell_type": "code",
   "execution_count": 31,
   "id": "0d0cd57c",
   "metadata": {},
   "outputs": [
    {
     "data": {
      "text/plain": [
       "<Axes: xlabel='Disease', ylabel='Disease'>"
      ]
     },
     "execution_count": 31,
     "metadata": {},
     "output_type": "execute_result"
    },
    {
     "data": {
      "image/png": "[encoded data removed]",
      "text/plain": [
       "<Figure size 640x480 with 2 Axes>"
      ]
     },
     "metadata": {},
     "output_type": "display_data"
    }
   ],
   "source": [
    "##heatmap\n",
    "\n",
    "sns.heatmap(cos, annot=True)"
   ]
  },
  {
   "cell_type": "markdown",
   "id": "0c663e6e",
   "metadata": {},
   "source": [
    "# PCA on TD-IDF"
   ]
  },
  {
   "cell_type": "code",
   "execution_count": 32,
   "id": "9a6d98b6",
   "metadata": {},
   "outputs": [
    {
     "data": {
      "text/html": [
       "<div>\n",
       "<style scoped>\n",
       "    .dataframe tbody tr th:only-of-type {\n",
       "        vertical-align: middle;\n",
       "    }\n",
       "\n",
       "    .dataframe tbody tr th {\n",
       "        vertical-align: top;\n",
       "    }\n",
       "\n",
       "    .dataframe thead th {\n",
       "        text-align: right;\n",
       "    }\n",
       "</style>\n",
       "<table border=\"1\" class=\"dataframe\">\n",
       "  <thead>\n",
       "    <tr style=\"text-align: right;\">\n",
       "      <th></th>\n",
       "      <th>abdomen</th>\n",
       "      <th>able</th>\n",
       "      <th>abnormal</th>\n",
       "      <th>abnormality</th>\n",
       "      <th>accord</th>\n",
       "      <th>account</th>\n",
       "      <th>accumulation</th>\n",
       "      <th>actinic</th>\n",
       "      <th>actual</th>\n",
       "      <th>acutaneousfibrous</th>\n",
       "      <th>...</th>\n",
       "      <th>woman</th>\n",
       "      <th>work</th>\n",
       "      <th>workup</th>\n",
       "      <th>worry</th>\n",
       "      <th>would</th>\n",
       "      <th>wound</th>\n",
       "      <th>year</th>\n",
       "      <th>young</th>\n",
       "      <th>youth</th>\n",
       "      <th>zyclara</th>\n",
       "    </tr>\n",
       "    <tr>\n",
       "      <th>Disease</th>\n",
       "      <th></th>\n",
       "      <th></th>\n",
       "      <th></th>\n",
       "      <th></th>\n",
       "      <th></th>\n",
       "      <th></th>\n",
       "      <th></th>\n",
       "      <th></th>\n",
       "      <th></th>\n",
       "      <th></th>\n",
       "      <th></th>\n",
       "      <th></th>\n",
       "      <th></th>\n",
       "      <th></th>\n",
       "      <th></th>\n",
       "      <th></th>\n",
       "      <th></th>\n",
       "      <th></th>\n",
       "      <th></th>\n",
       "      <th></th>\n",
       "      <th></th>\n",
       "    </tr>\n",
       "  </thead>\n",
       "  <tbody>\n",
       "    <tr>\n",
       "      <th>Melanocytic nevi</th>\n",
       "      <td>0.000000</td>\n",
       "      <td>0.000000</td>\n",
       "      <td>0.000000</td>\n",
       "      <td>0.000000</td>\n",
       "      <td>0.000000</td>\n",
       "      <td>0.000000</td>\n",
       "      <td>0.000000</td>\n",
       "      <td>0.000000</td>\n",
       "      <td>0.000000</td>\n",
       "      <td>0.000000</td>\n",
       "      <td>...</td>\n",
       "      <td>0.000000</td>\n",
       "      <td>0.000000</td>\n",
       "      <td>0.000000</td>\n",
       "      <td>0.000000</td>\n",
       "      <td>0.000000</td>\n",
       "      <td>0.000000</td>\n",
       "      <td>0.000000</td>\n",
       "      <td>0.000000</td>\n",
       "      <td>0.000000</td>\n",
       "      <td>0.000000</td>\n",
       "    </tr>\n",
       "    <tr>\n",
       "      <th>Melanoma</th>\n",
       "      <td>0.029013</td>\n",
       "      <td>0.029013</td>\n",
       "      <td>0.000000</td>\n",
       "      <td>0.087038</td>\n",
       "      <td>0.029013</td>\n",
       "      <td>0.029013</td>\n",
       "      <td>0.000000</td>\n",
       "      <td>0.000000</td>\n",
       "      <td>0.000000</td>\n",
       "      <td>0.000000</td>\n",
       "      <td>...</td>\n",
       "      <td>0.034424</td>\n",
       "      <td>0.000000</td>\n",
       "      <td>0.029013</td>\n",
       "      <td>0.029013</td>\n",
       "      <td>0.029013</td>\n",
       "      <td>0.000000</td>\n",
       "      <td>0.040172</td>\n",
       "      <td>0.051636</td>\n",
       "      <td>0.029013</td>\n",
       "      <td>0.000000</td>\n",
       "    </tr>\n",
       "    <tr>\n",
       "      <th>Benign keratosis-like lesions</th>\n",
       "      <td>0.000000</td>\n",
       "      <td>0.000000</td>\n",
       "      <td>0.000000</td>\n",
       "      <td>0.000000</td>\n",
       "      <td>0.000000</td>\n",
       "      <td>0.000000</td>\n",
       "      <td>0.000000</td>\n",
       "      <td>0.000000</td>\n",
       "      <td>0.000000</td>\n",
       "      <td>0.000000</td>\n",
       "      <td>...</td>\n",
       "      <td>0.018844</td>\n",
       "      <td>0.000000</td>\n",
       "      <td>0.000000</td>\n",
       "      <td>0.000000</td>\n",
       "      <td>0.000000</td>\n",
       "      <td>0.000000</td>\n",
       "      <td>0.000000</td>\n",
       "      <td>0.018844</td>\n",
       "      <td>0.000000</td>\n",
       "      <td>0.000000</td>\n",
       "    </tr>\n",
       "    <tr>\n",
       "      <th>basal cell carcinomas</th>\n",
       "      <td>0.000000</td>\n",
       "      <td>0.000000</td>\n",
       "      <td>0.020229</td>\n",
       "      <td>0.000000</td>\n",
       "      <td>0.000000</td>\n",
       "      <td>0.000000</td>\n",
       "      <td>0.000000</td>\n",
       "      <td>0.000000</td>\n",
       "      <td>0.000000</td>\n",
       "      <td>0.000000</td>\n",
       "      <td>...</td>\n",
       "      <td>0.000000</td>\n",
       "      <td>0.000000</td>\n",
       "      <td>0.000000</td>\n",
       "      <td>0.000000</td>\n",
       "      <td>0.000000</td>\n",
       "      <td>0.049338</td>\n",
       "      <td>0.085393</td>\n",
       "      <td>0.014635</td>\n",
       "      <td>0.000000</td>\n",
       "      <td>0.000000</td>\n",
       "    </tr>\n",
       "    <tr>\n",
       "      <th>actinic keratosis</th>\n",
       "      <td>0.000000</td>\n",
       "      <td>0.000000</td>\n",
       "      <td>0.082798</td>\n",
       "      <td>0.000000</td>\n",
       "      <td>0.000000</td>\n",
       "      <td>0.000000</td>\n",
       "      <td>0.050486</td>\n",
       "      <td>0.151457</td>\n",
       "      <td>0.050486</td>\n",
       "      <td>0.000000</td>\n",
       "      <td>...</td>\n",
       "      <td>0.029951</td>\n",
       "      <td>0.151457</td>\n",
       "      <td>0.000000</td>\n",
       "      <td>0.000000</td>\n",
       "      <td>0.000000</td>\n",
       "      <td>0.000000</td>\n",
       "      <td>0.034952</td>\n",
       "      <td>0.029951</td>\n",
       "      <td>0.000000</td>\n",
       "      <td>0.050486</td>\n",
       "    </tr>\n",
       "    <tr>\n",
       "      <th>Dermatofibroma</th>\n",
       "      <td>0.000000</td>\n",
       "      <td>0.000000</td>\n",
       "      <td>0.000000</td>\n",
       "      <td>0.000000</td>\n",
       "      <td>0.000000</td>\n",
       "      <td>0.000000</td>\n",
       "      <td>0.000000</td>\n",
       "      <td>0.000000</td>\n",
       "      <td>0.000000</td>\n",
       "      <td>0.057733</td>\n",
       "      <td>...</td>\n",
       "      <td>0.034251</td>\n",
       "      <td>0.000000</td>\n",
       "      <td>0.000000</td>\n",
       "      <td>0.000000</td>\n",
       "      <td>0.000000</td>\n",
       "      <td>0.000000</td>\n",
       "      <td>0.000000</td>\n",
       "      <td>0.000000</td>\n",
       "      <td>0.000000</td>\n",
       "      <td>0.000000</td>\n",
       "    </tr>\n",
       "  </tbody>\n",
       "</table>\n",
       "<p>6 rows × 716 columns</p>\n",
       "</div>"
      ],
      "text/plain": [
       "                                abdomen      able  abnormal  abnormality  \\\n",
       "Disease                                                                    \n",
       "Melanocytic nevi               0.000000  0.000000  0.000000     0.000000   \n",
       "Melanoma                       0.029013  0.029013  0.000000     0.087038   \n",
       "Benign keratosis-like lesions  0.000000  0.000000  0.000000     0.000000   \n",
       "basal cell carcinomas          0.000000  0.000000  0.020229     0.000000   \n",
       "actinic keratosis              0.000000  0.000000  0.082798     0.000000   \n",
       "Dermatofibroma                 0.000000  0.000000  0.000000     0.000000   \n",
       "\n",
       "                                 accord   account  accumulation   actinic  \\\n",
       "Disease                                                                     \n",
       "Melanocytic nevi               0.000000  0.000000      0.000000  0.000000   \n",
       "Melanoma                       0.029013  0.029013      0.000000  0.000000   \n",
       "Benign keratosis-like lesions  0.000000  0.000000      0.000000  0.000000   \n",
       "basal cell carcinomas          0.000000  0.000000      0.000000  0.000000   \n",
       "actinic keratosis              0.000000  0.000000      0.050486  0.151457   \n",
       "Dermatofibroma                 0.000000  0.000000      0.000000  0.000000   \n",
       "\n",
       "                                 actual  acutaneousfibrous  ...     woman  \\\n",
       "Disease                                                     ...             \n",
       "Melanocytic nevi               0.000000           0.000000  ...  0.000000   \n",
       "Melanoma                       0.000000           0.000000  ...  0.034424   \n",
       "Benign keratosis-like lesions  0.000000           0.000000  ...  0.018844   \n",
       "basal cell carcinomas          0.000000           0.000000  ...  0.000000   \n",
       "actinic keratosis              0.050486           0.000000  ...  0.029951   \n",
       "Dermatofibroma                 0.000000           0.057733  ...  0.034251   \n",
       "\n",
       "                                   work    workup     worry     would  \\\n",
       "Disease                                                                 \n",
       "Melanocytic nevi               0.000000  0.000000  0.000000  0.000000   \n",
       "Melanoma                       0.000000  0.029013  0.029013  0.029013   \n",
       "Benign keratosis-like lesions  0.000000  0.000000  0.000000  0.000000   \n",
       "basal cell carcinomas          0.000000  0.000000  0.000000  0.000000   \n",
       "actinic keratosis              0.151457  0.000000  0.000000  0.000000   \n",
       "Dermatofibroma                 0.000000  0.000000  0.000000  0.000000   \n",
       "\n",
       "                                  wound      year     young     youth  \\\n",
       "Disease                                                                 \n",
       "Melanocytic nevi               0.000000  0.000000  0.000000  0.000000   \n",
       "Melanoma                       0.000000  0.040172  0.051636  0.029013   \n",
       "Benign keratosis-like lesions  0.000000  0.000000  0.018844  0.000000   \n",
       "basal cell carcinomas          0.049338  0.085393  0.014635  0.000000   \n",
       "actinic keratosis              0.000000  0.034952  0.029951  0.000000   \n",
       "Dermatofibroma                 0.000000  0.000000  0.000000  0.000000   \n",
       "\n",
       "                                zyclara  \n",
       "Disease                                  \n",
       "Melanocytic nevi               0.000000  \n",
       "Melanoma                       0.000000  \n",
       "Benign keratosis-like lesions  0.000000  \n",
       "basal cell carcinomas          0.000000  \n",
       "actinic keratosis              0.050486  \n",
       "Dermatofibroma                 0.000000  \n",
       "\n",
       "[6 rows x 716 columns]"
      ]
     },
     "execution_count": 32,
     "metadata": {},
     "output_type": "execute_result"
    }
   ],
   "source": [
    "##write idf\n",
    "idf.to_csv(\"TD_IDF_data.csv\")\n",
    "##data_pca\n",
    "data_pca = pd.read_csv(\"TD_IDF_data.csv\", index_col=0)\n",
    "data_pca"
   ]
  },
  {
   "cell_type": "code",
   "execution_count": 33,
   "id": "9f9a3eb3",
   "metadata": {},
   "outputs": [
    {
     "data": {
      "text/plain": [
       "array([0.24545606, 0.2393926 ])"
      ]
     },
     "execution_count": 33,
     "metadata": {},
     "output_type": "execute_result"
    }
   ],
   "source": [
    "# TODO: Perform PCA and keep only two dimensions\n",
    "### STRIP_START ###\n",
    "pca = decomposition.PCA(n_components=2)\n",
    "X_pca = pca.fit_transform(data_pca)\n",
    "explained_variance = pca.explained_variance_ratio_\n",
    "explained_variance\n",
    "### STRIP_END ###"
   ]
  },
  {
   "cell_type": "code",
   "execution_count": 34,
   "id": "55b0b7d4",
   "metadata": {},
   "outputs": [
    {
     "data": {
      "image/png": "[encoded data removed]",
      "text/plain": [
       "<Figure size 640x480 with 1 Axes>"
      ]
     },
     "metadata": {},
     "output_type": "display_data"
    }
   ],
   "source": [
    "# TODO: plot your results!\n",
    "### STRIP_START ###\n",
    "plt.scatter(X_pca[:,0],X_pca[:,1])\n",
    "\n",
    "for i, txt in enumerate(data_pca.index):\n",
    "    plt.annotate(txt, (X_pca[i, 0], X_pca[i, 1]))"
   ]
  },
  {
   "cell_type": "markdown",
   "id": "782c15df",
   "metadata": {},
   "source": [
    "# RUN TSNE"
   ]
  },
  {
   "cell_type": "code",
   "execution_count": 35,
   "id": "38ce8da4",
   "metadata": {},
   "outputs": [],
   "source": [
    "from sklearn.manifold import TSNE\n",
    "tsne = TSNE(n_components=2, perplexity=5)\n",
    "# Here we perform the t-SNE\n",
    "X_tsne = tsne.fit_transform(data_pca)"
   ]
  },
  {
   "cell_type": "code",
   "execution_count": null,
   "id": "863448ca",
   "metadata": {},
   "outputs": [],
   "source": [
    "\n"
   ]
  },
  {
   "cell_type": "code",
   "execution_count": 36,
   "id": "f931298a",
   "metadata": {},
   "outputs": [
    {
     "data": {
      "image/png": "[encoded data removed]",
      "text/plain": [
       "<Figure size 640x480 with 1 Axes>"
      ]
     },
     "metadata": {},
     "output_type": "display_data"
    }
   ],
   "source": [
    "### STRIP_START ###\n",
    "plt.scatter(X_tsne[:,0],X_tsne[:,1])\n",
    "\n",
    "for i, txt in enumerate(data_pca.index):\n",
    "    plt.annotate(txt, (X_tsne[i, 0], X_tsne[i, 1]))"
   ]
  },
  {
   "cell_type": "markdown",
   "id": "4fa74255",
   "metadata": {},
   "source": [
    "# deployed with Streamlit"
   ]
  },
  {
   "cell_type": "code",
   "execution_count": 37,
   "id": "6c24ce16",
   "metadata": {},
   "outputs": [
    {
     "name": "stderr",
     "output_type": "stream",
     "text": [
      "2023-08-28 16:51:04.141 \n",
      "  \u001b[33m\u001b[1mWarning:\u001b[0m to view this Streamlit app on a browser, run it with the following\n",
      "  command:\n",
      "\n",
      "    streamlit run /home/annemocoeur/.pyenv/versions/3.10.4/envs/artefact/lib/python3.10/site-packages/ipykernel_launcher.py [ARGUMENTS]\n"
     ]
    }
   ],
   "source": [
    "import streamlit as st\n",
    "#!streamlit run /home/annemocoeur/.pyenv/versions/3.10.4/envs/artefact/lib/python3.10/site-packages/ipykernel_launcher.py\n",
    "st.title(\"Data Visualization web application\")\n",
    "st.header(\"Part 1: Data Exploration\")\n",
    "st.write(\"In this section, we will explore the Altair cars dataset.\")\n",
    "\n"
   ]
  },
  {
   "cell_type": "code",
   "execution_count": null,
   "id": "97ace708",
   "metadata": {},
   "outputs": [
    {
     "name": "stdout",
     "output_type": "stream",
     "text": [
      "\r\n",
      "      👋 \u001b[1mWelcome to Streamlit!\u001b[0m\r\n",
      "\r\n",
      "      If you’d like to receive helpful onboarding emails, news, offers, promotions,\r\n",
      "      and the occasional swag, please enter your email address below. Otherwise,\r\n",
      "      leave this field blank.\r\n",
      "\r\n",
      "      \u001b[34mEmail: \u001b[0m "
     ]
    }
   ],
   "source": [
    "\n"
   ]
  }
 ],
 "metadata": {
  "kernelspec": {
   "display_name": "Python 3 (ipykernel)",
   "language": "python",
   "name": "python3"
  },
  "language_info": {
   "codemirror_mode": {
    "name": "ipython",
    "version": 3
   },
   "file_extension": ".py",
   "mimetype": "text/x-python",
   "name": "python",
   "nbconvert_exporter": "python",
   "pygments_lexer": "ipython3",
   "version": "3.10.4"
  }
 },
 "nbformat": 4,
 "nbformat_minor": 5
}
