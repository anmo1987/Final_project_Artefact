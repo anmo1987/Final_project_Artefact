{
  "nbformat": 4,
  "nbformat_minor": 0,
  "metadata": {
    "colab": {
      "provenance": [],
      "authorship_tag": "ABX9TyNh5AaVO/nusVCAz+ioIGgE",
      "include_colab_link": true
    },
    "kernelspec": {
      "name": "python3",
      "display_name": "Python 3"
    },
    "language_info": {
      "name": "python"
    }
  },
  "cells": [
    {
      "cell_type": "markdown",
      "metadata": {
        "id": "view-in-github",
        "colab_type": "text"
      },
      "source": [
        "<a href=\"https://colab.research.google.com/github/anmo1987/Final_project_Artefact/blob/main/IMAGE_PREDICTION_MODEL.ipynb\" target=\"_parent\"><img src=\"https://colab.research.google.com/assets/colab-badge.svg\" alt=\"Open In Colab\"/></a>"
      ]
    },
    {
      "cell_type": "markdown",
      "source": [
        "####IMPORTING LIBRAIRIES"
      ],
      "metadata": {
        "id": "IMgqB7YXda9O"
      }
    },
    {
      "cell_type": "code",
      "execution_count": 2,
      "metadata": {
        "id": "EgQxiorydTwz"
      },
      "outputs": [],
      "source": [
        "import os\n",
        "import pandas as pd\n",
        "from PIL import Image\n",
        "import numpy as np\n",
        "import random\n",
        "import seaborn as sns\n",
        "##from sklearn\n",
        "from sklearn.model_selection import train_test_split\n",
        "\n",
        "from sklearn.preprocessing import LabelEncoder\n",
        "from matplotlib import pyplot as plt\n",
        "import os\n",
        "import cv2\n",
        "import numpy as np\n",
        "import matplotlib.pyplot as plt\n",
        "from tensorflow.keras.utils import to_categorical\n",
        "\n",
        "### sklearn\n",
        "from sklearn.model_selection import train_test_split\n",
        "from sklearn.preprocessing import StandardScaler\n",
        "from sklearn.linear_model import Perceptron\n",
        "from sklearn.metrics import classification_report, accuracy_score\n",
        "from sklearn.datasets import load_iris\n",
        "from sklearn.model_selection import train_test_split\n",
        "from sklearn.linear_model import LogisticRegression\n",
        "from sklearn.tree import DecisionTreeClassifier\n",
        "from sklearn.ensemble import RandomForestClassifier, GradientBoostingClassifier, AdaBoostClassifier\n",
        "from sklearn.discriminant_analysis import LinearDiscriminantAnalysis\n",
        "from sklearn.svm import SVC\n",
        "from sklearn.linear_model import RidgeClassifier\n",
        "\n",
        "### tensorflow\n",
        "from tensorflow.keras.callbacks import EarlyStopping\n",
        "\n",
        "from tensorflow.keras import layers, models\n",
        "import tensorflow as tf\n",
        "from tensorflow.keras.layers import Dense\n",
        "from tensorflow.keras.models import Sequential\n",
        "from tensorflow.keras.models import Sequential\n",
        "from tensorflow.keras.layers import MaxPooling2D, Conv2D, Flatten, Dense\n",
        "from tensorflow.keras.preprocessing.image import ImageDataGenerator\n",
        "\n",
        "##MODEL SAVING\n",
        "import pickle\n",
        "\n",
        "##from google collab"
      ]
    },
    {
      "cell_type": "markdown",
      "source": [
        "###1. IMPORTING SELECTED MODELS"
      ],
      "metadata": {
        "id": "z8c017aXdjn_"
      }
    },
    {
      "cell_type": "markdown",
      "source": [
        "####1.1 ML MODELS"
      ],
      "metadata": {
        "id": "Dnfr0Enfdo0V"
      }
    },
    {
      "cell_type": "code",
      "source": [
        "##Import linear models\n",
        "\n",
        "# LR model\n",
        "with open('/content/Image_predidctions_models/model_lr_Image_Analysis.pkl', 'rb') as file:\n",
        "    lr_model = pickle.load(file)\n",
        "\n",
        "##Random Forest Model\n",
        "\n",
        "with open('/content/Image_predidctions_models/model_rf_Image_Analysis.pkl', 'rb') as file:\n",
        "    rf_model = pickle.load(file)\n"
      ],
      "metadata": {
        "id": "MCJxsG3VeshL"
      },
      "execution_count": 4,
      "outputs": []
    },
    {
      "cell_type": "markdown",
      "source": [
        "####1.2 CNN Models"
      ],
      "metadata": {
        "id": "5P4fWkY1fZz5"
      }
    },
    {
      "cell_type": "code",
      "source": [
        "##Import CNN Models\n",
        "##Model 1\n",
        "# Load the saved model\n",
        "with open('/content/Image_predidctions_models/cnn_model1.pkl', 'rb') as model_file:\n",
        "    cnn1_model = pickle.load(model_file)\n",
        "\n",
        "with open('/content/Image_predidctions_models/cnn_model1_bal_train.pkl', 'rb') as model_file:\n",
        "    cnn1_model_bal = pickle.load(model_file)\n",
        "\n",
        "from tensorflow.keras.models import load_model\n",
        "cnn1_model_tensor = load_model('/content/Image_predidctions_models/cnn_mode1.h5')\n",
        "\n",
        "cnn1_modelbal_tensor = load_model('/content/Image_predidctions_models/cnn_model1_bal_train.h5')\n",
        "\n"
      ],
      "metadata": {
        "id": "qtJE2Z26fXu6"
      },
      "execution_count": 7,
      "outputs": []
    },
    {
      "cell_type": "markdown",
      "source": [
        "###1.3 Testing Models"
      ],
      "metadata": {
        "id": "jfkqk7aNgQil"
      }
    },
    {
      "cell_type": "code",
      "source": [
        "###Function to import pictures and run preduction\n",
        "\n",
        "# Define the class labels for the CNN models\n",
        "cnn_model_labels = ['akiec', 'bcc', 'bkl', 'df', 'mel', 'nv', 'vasc']\n",
        "\n",
        "# Define the class labels for the linear models\n",
        "linear_model_labels = ['Random Forest', 'Logistic Regression']\n",
        "linear_models = [lr_model, rf_model]\n",
        "cnn_models = [cnn1_model, cnn1_model_bal, cnn1_model_tensor, cnn1_modelbal_tensor]\n",
        "\n",
        "def import_and_predict(image_path):\n",
        "    try:\n",
        "        # Load and preprocess the image\n",
        "        image = cv2.imread(image_path)\n",
        "        image = cv2.resize(image, (28, 28))\n",
        "        image = image / 255.0\n",
        "        image = np.expand_dims(image, axis=0)  # Add a batch dimension\n",
        "\n",
        "        # Load and predict using the CNN models\n",
        "        cnn_predictions = []\n",
        "        for model_file in cnn_models:\n",
        "            cnn_model = pickle.load(file)\n",
        "            cnn_prediction = cnn_model.predict(image)\n",
        "            cnn_predictions.append(cnn_prediction[0])\n",
        "\n",
        "        # Load and predict using the linear models\n",
        "        linear_predictions = []\n",
        "        for model_file in linear_models:\n",
        "            image_flattened = image.reshape(1, -1)\n",
        "            linear_prediction = model_file.predict(image_flattened)\n",
        "            linear_predictions.append(linear_prediction[0])\n",
        "\n",
        "        return cnn_predictions + linear_predictions\n",
        "\n",
        "    except Exception as e:\n",
        "        return str(e)\n",
        "\n"
      ],
      "metadata": {
        "id": "d5FLn1ctgUzy"
      },
      "execution_count": 8,
      "outputs": []
    },
    {
      "cell_type": "code",
      "source": [
        "# Example usage:\n",
        "image_path = 'path_to_your_image.jpg'  # Replace with the path to your image\n",
        "results = import_and_predict(image_path)\n",
        "print(\"CNN Model 1 Prediction:\", cnn_model_labels[results[0]])\n",
        "print(\"CNN Model 1 balenced prediction:\", cnn_model_labels[results[1]])\n",
        "print(\"CNN Model 1 Prediction tensor:\", cnn_model_labels[results[2]])\n",
        "print(\"CNN Model 1 balenced prediction tensor\",  cnn_model_labels[results[3]])\n",
        "print(\"KNeighbors Prediction:\", linear_model_labels[results[0]])\n",
        "print(\"Logistic Regression:\", linear_model_labels[results[1]])\n"
      ],
      "metadata": {
        "id": "uo-fbmGSk11D"
      },
      "execution_count": null,
      "outputs": []
    },
    {
      "cell_type": "code",
      "source": [
        "# Example usage: Make predictions with the loaded model\n",
        "new_data = [[5.1, 3.5, 1.4, 0.2]]  # Replace with your own data\n",
        "predictions = loaded_model.predict(new_data)\n",
        "print(predictions)"
      ],
      "metadata": {
        "id": "MhHqpjgde4mx"
      },
      "execution_count": null,
      "outputs": []
    }
  ]
}