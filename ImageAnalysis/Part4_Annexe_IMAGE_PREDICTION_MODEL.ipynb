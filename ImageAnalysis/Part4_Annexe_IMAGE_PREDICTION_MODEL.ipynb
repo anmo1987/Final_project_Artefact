{
  "nbformat": 4,
  "nbformat_minor": 0,
  "metadata": {
    "colab": {
      "provenance": [],
      "authorship_tag": "ABX9TyO/mhKhPgZxStOAh5z9NvSo",
      "include_colab_link": true
    },
    "kernelspec": {
      "name": "python3",
      "display_name": "Python 3"
    },
    "language_info": {
      "name": "python"
    }
  },
  "cells": [
    {
      "cell_type": "markdown",
      "metadata": {
        "id": "view-in-github",
        "colab_type": "text"
      },
      "source": [
        "<a href=\"https://colab.research.google.com/github/anmo1987/Final_project_Artefact/blob/main/IMAGE_PREDICTION_MODEL.ipynb\" target=\"_parent\"><img src=\"https://colab.research.google.com/assets/colab-badge.svg\" alt=\"Open In Colab\"/></a>"
      ]
    },
    {
      "cell_type": "markdown",
      "source": [
        "####IMPORTING LIBRAIRIES"
      ],
      "metadata": {
        "id": "IMgqB7YXda9O"
      }
    },
    {
      "cell_type": "code",
      "execution_count": 2,
      "metadata": {
        "id": "EgQxiorydTwz"
      },
      "outputs": [],
      "source": [
        "import os\n",
        "import pandas as pd\n",
        "from PIL import Image\n",
        "import numpy as np\n",
        "import random\n",
        "import seaborn as sns\n",
        "##from sklearn\n",
        "from sklearn.model_selection import train_test_split\n",
        "\n",
        "from sklearn.preprocessing import LabelEncoder\n",
        "from matplotlib import pyplot as plt\n",
        "import os\n",
        "import cv2\n",
        "import numpy as np\n",
        "import matplotlib.pyplot as plt\n",
        "from tensorflow.keras.utils import to_categorical\n",
        "\n",
        "### sklearn\n",
        "from sklearn.model_selection import train_test_split\n",
        "from sklearn.preprocessing import StandardScaler\n",
        "from sklearn.linear_model import Perceptron\n",
        "from sklearn.metrics import classification_report, accuracy_score\n",
        "from sklearn.datasets import load_iris\n",
        "from sklearn.model_selection import train_test_split\n",
        "from sklearn.linear_model import LogisticRegression\n",
        "from sklearn.tree import DecisionTreeClassifier\n",
        "from sklearn.ensemble import RandomForestClassifier, GradientBoostingClassifier, AdaBoostClassifier\n",
        "from sklearn.discriminant_analysis import LinearDiscriminantAnalysis\n",
        "from sklearn.svm import SVC\n",
        "from sklearn.linear_model import RidgeClassifier\n",
        "\n",
        "### tensorflow\n",
        "from tensorflow.keras.callbacks import EarlyStopping\n",
        "\n",
        "from tensorflow.keras import layers, models\n",
        "import tensorflow as tf\n",
        "from tensorflow.keras.layers import Dense\n",
        "from tensorflow.keras.models import Sequential\n",
        "from tensorflow.keras.models import Sequential\n",
        "from tensorflow.keras.layers import MaxPooling2D, Conv2D, Flatten, Dense\n",
        "from tensorflow.keras.preprocessing.image import ImageDataGenerator\n",
        "\n",
        "##MODEL SAVING\n",
        "import pickle\n",
        "import tensorflow as tf\n",
        "from tensorflow import keras\n",
        "\n",
        "##from google collab"
      ]
    },
    {
      "cell_type": "markdown",
      "source": [
        "###1. IMPORTING SELECTED MODELS"
      ],
      "metadata": {
        "id": "z8c017aXdjn_"
      }
    },
    {
      "cell_type": "markdown",
      "source": [
        "####1.1 ML MODELS"
      ],
      "metadata": {
        "id": "Dnfr0Enfdo0V"
      }
    },
    {
      "cell_type": "markdown",
      "source": [
        "###1.3 Testing Models"
      ],
      "metadata": {
        "id": "jfkqk7aNgQil"
      }
    },
    {
      "cell_type": "code",
      "source": [
        "##READ IMAGE\n",
        "image = cv2.imread('/content/Image_predidctions_models/ISIC_0024402.jpg')\n",
        "image = cv2.resize(image, (28, 28))\n",
        "image = image / 255.0\n",
        "image_scaled = image/255.0\n",
        "original_df = np.array(image_scaled)  # Convert DataFrame to a NumPy array\n",
        "reshaped_df = original_df.reshape((1, 28, 28, 3))\n",
        "image_flattened = image_scaled.reshape(1, -1)\n"
      ],
      "metadata": {
        "id": "cfDfvxQgv9Je"
      },
      "execution_count": 71,
      "outputs": []
    },
    {
      "cell_type": "code",
      "source": [
        "# Step 1: Load and preprocess the images you want to make predictions on\n",
        "def preprocess_image_cnn(image_path):\n",
        "    # Load the image using OpenCV\n",
        "    image = cv2.imread(image_path)\n",
        "\n",
        "    # Resize the image to match the input size of your CNN model (28x28)\n",
        "    image = cv2.resize(image, (28, 28))\n",
        "\n",
        "    # Ensure the image has 3 color channels (RGB)\n",
        "    if image.shape[-1] != 3:\n",
        "        image = cv2.cvtColor(image, cv2.COLOR_BGR2RGB)\n",
        "\n",
        "    # Normalize pixel values to the range [0, 1]\n",
        "    image = image / 255.0\n",
        "    #Flatten for linear model\n",
        "    image_flattened = image.reshape(1, -1)\n",
        "    return image, image_flattened"
      ],
      "metadata": {
        "id": "6VwLAffi3cdN"
      },
      "execution_count": 124,
      "outputs": []
    },
    {
      "cell_type": "code",
      "source": [
        "##Import all models\n",
        "cnn_model_labels = ['akiec', 'bcc', 'bkl', 'df', 'mel', 'nv', 'vasc']\n",
        "\n",
        "###CNN MODELS\n",
        "\n",
        "model1 = keras.models.load_model('/content/Image_predidctions_models/cnn_mode1.h5')\n",
        "model1_bal_train = keras.models.load_model('/content/Image_predidctions_models/cnn_model1_bal_train.h5')\n",
        "model1_bal = keras.models.load_model('/content/Image_predidctions_models/cnn_model1_bal.h5')\n",
        "\n",
        "# Step 1: Preprocess the images you want to make predictions on\n",
        "image_path = '/content/Image_predidctions_models/ISIC_0024402.jpg'\n",
        "image, image_flatten = preprocess_image_cnn(image_path)\n",
        "\n",
        "# Step 2: Predictions on CNN models\n",
        "pred_cnn1 = model1.predict(np.expand_dims(image, axis=0))\n",
        "result_cnn1 = cnn_model_labels[np.argmax(pred_cnn1)]\n",
        "pred_cnn1_aug = model1_bal.predict(np.expand_dims(image, axis=0))\n",
        "result_cnn1_aug = cnn_model_labels[np.argmax(pred_cnn1_aug)]\n",
        "pred_cnn1_aug_train = model1_bal_train.predict(np.expand_dims(image, axis=0))\n",
        "result_cnn1_aug_train = cnn_model_labels[np.argmax(pred_cnn1_aug_train)]\n",
        "\n",
        "##LINEAR MODEL\n",
        "with open('/content/Image_predidctions_models/model_lr_Image_Analysis.pkl', 'rb') as file:\n",
        "    lr_model = pickle.load(file)\n",
        "with open('/content/Image_predidctions_models/model_rf_Image_Analysis.pkl', 'rb') as file:\n",
        "    rf_model = pickle.load(file)\n",
        "\n",
        "##Prediction on linear model\n",
        "predictions_rf = rf_model.predict(image_flatten)\n",
        "rf_pred = cnn_model_labels[predictions_rf[0]]\n",
        "\n",
        "predictions_lr = lr_model.predict(image_flattened)\n",
        "lr_pred = cnn_model_labels[predictions_lr[0]]\n",
        "\n",
        "\n",
        "##RESULTS\n",
        "\n",
        "print(f'RESULTS FOR YOUR PICTURE IN DIFFERENT MODELS:\\n CNN Model1 : {result_cnn1}\\n CNN Model1 balanced : {result_cnn1_aug}\\nCNN Model1 balanced train: {result_cnn1_aug_train} \\n Logistic regression : {lr_pred}\\n Random forest : {rf_pred}')\n"
      ],
      "metadata": {
        "colab": {
          "base_uri": "https://localhost:8080/"
        },
        "id": "pNxQpDkt3gy4",
        "outputId": "feb355e5-5bc2-4088-df2a-6a703be08c7b"
      },
      "execution_count": 144,
      "outputs": [
        {
          "output_type": "stream",
          "name": "stdout",
          "text": [
            "1/1 [==============================] - 0s 87ms/step\n",
            "1/1 [==============================] - 0s 90ms/step\n",
            "1/1 [==============================] - 0s 85ms/step\n",
            "RESULTS FOR YOUR PICTURE IN DIFFERENT MODELS:\n",
            " CNN Model1 : vasc\n",
            " CNN Model1 balanced : vasc\n",
            "CNN Model1 balanced train: vasc \n",
            " Logistic regression : bkl\n",
            " Random forest : nv\n"
          ]
        }
      ]
    },
    {
      "cell_type": "code",
      "source": [
        "##Write a function that return prediction from all model\n",
        "###########NOT WORKING FOR SHAPE REASON\n",
        "\n",
        "def import_and_predict(image_path):\n",
        "  img, image_flatten = preprocess_image_cnn(image_path)\n",
        "  cnn_model_labels = ['akiec', 'bcc', 'bkl', 'df', 'mel', 'nv', 'vasc']\n",
        "  cnn_predictions = []\n",
        "  linear_predictions = []\n",
        "\n",
        "  ##CNN predictions\n",
        "  for model_file in ['/content/Image_predidctions_models/cnn_mode1.h5', '/content/Image_predidctions_models/cnn_model1_bal_train.h5']:\n",
        "    model = keras.models.load_model(model_file)\n",
        "    cnn_pred = model.predict(np.expand_dims(img, axis=0))\n",
        "    pred = cnn_model_labels[np.argmax(cnn_pred)]\n",
        "    cnn_predictions.append(pred)\n",
        "\n",
        "  for model_linear in  ['/content/Image_predidctions_models/model_lr_Image_Analysis.pkl', '/content/Image_predidctions_models/cnn_model1_bal_train.pkl']:\n",
        "    with open(model_linear, 'rb') as file:\n",
        "      linear_model = pickle.load(file)\n",
        "    linear_prediction = linear_model.predict(image_flatten)\n",
        "    linear_pred = cnn_model_labels[linear_prediction[0]]\n",
        "    linear_predictions.append(linear_pred)\n",
        "\n",
        "  return cnn_predictions + linear_predictions\n",
        "\n",
        "\n",
        "\n",
        "\n"
      ],
      "metadata": {
        "id": "lF1MILVv9jXK"
      },
      "execution_count": 122,
      "outputs": []
    }
  ]
}