{
  "nbformat": 4,
  "nbformat_minor": 0,
  "metadata": {
    "colab": {
      "provenance": [],
      "toc_visible": true
    },
    "kernelspec": {
      "name": "python3",
      "display_name": "Python 3"
    },
    "language_info": {
      "name": "python"
    }
  },
  "cells": [
    {
      "cell_type": "code",
      "execution_count": null,
      "metadata": {
        "id": "NF4MXRQ57rgG"
      },
      "outputs": [],
      "source": [
        "from google.colab import drive"
      ]
    },
    {
      "cell_type": "markdown",
      "source": [
        "##Import librairies"
      ],
      "metadata": {
        "id": "rty6Oj90lNva"
      }
    },
    {
      "cell_type": "code",
      "source": [
        "###Import libraries\n",
        "import os\n",
        "import pandas as pd\n",
        "from PIL import Image\n",
        "import numpy as np\n",
        "import random\n",
        "import seaborn as sns\n",
        "##from sklearn\n",
        "from sklearn.model_selection import train_test_split\n",
        "\n",
        "from sklearn.preprocessing import LabelEncoder\n",
        "from matplotlib import pyplot as plt\n",
        "import os\n",
        "import cv2\n",
        "import numpy as np\n",
        "import matplotlib.pyplot as plt\n",
        "from tensorflow.keras.utils import to_categorical\n",
        "\n",
        "### sklearn\n",
        "from sklearn.model_selection import train_test_split\n",
        "from sklearn.preprocessing import StandardScaler\n",
        "from sklearn.linear_model import Perceptron\n",
        "from sklearn.metrics import classification_report, accuracy_score\n",
        "from sklearn.datasets import load_iris\n",
        "from sklearn.model_selection import train_test_split\n",
        "from sklearn.linear_model import LogisticRegression\n",
        "from sklearn.tree import DecisionTreeClassifier\n",
        "from sklearn.ensemble import RandomForestClassifier, GradientBoostingClassifier, AdaBoostClassifier\n",
        "from sklearn.discriminant_analysis import LinearDiscriminantAnalysis\n",
        "from sklearn.svm import SVC\n",
        "from sklearn.linear_model import RidgeClassifier\n",
        "\n",
        "### tensorflow\n",
        "from tensorflow.keras.callbacks import EarlyStopping\n",
        "\n",
        "from tensorflow.keras import layers, models\n",
        "import tensorflow as tf\n",
        "from tensorflow.keras.layers import Dense\n",
        "from tensorflow.keras.models import Sequential\n",
        "from tensorflow.keras.models import Sequential\n",
        "from tensorflow.keras.layers import MaxPooling2D, Conv2D, Flatten, Dense\n",
        "from tensorflow.keras.preprocessing.image import ImageDataGenerator\n",
        "\n"
      ],
      "metadata": {
        "id": "zY9LoA6CwoEn"
      },
      "execution_count": null,
      "outputs": []
    },
    {
      "cell_type": "markdown",
      "source": [
        "##1. IMPORT DATASET FROM KAGGLE\n",
        "SKIN CANCER DATASET (https://www.kaggle.com/datasets/farjanakabirsamanta/skin-cancer-dataset)"
      ],
      "metadata": {
        "id": "2XNpgATF1TPf"
      }
    },
    {
      "cell_type": "code",
      "source": [
        "###IMPORT DATASET TO GOOGLE COLLAB\n",
        "###Download API token from kaggle and store the .json file to content folder\n",
        "!pip install kaggle\n",
        "!mkdir -p ~/.kaggle\n",
        "!mv kaggle.json ~/.kaggle/\n",
        "!chmod 600 ~/.kaggle/kaggle.json\n",
        "!kaggle datasets download -d kmader/skin-cancer-mnist-ham10000\n",
        "##import data csv\n",
        "!unzip skin-cancer-mnist-ham10000.zip -d /content/skin_cancer_dataset\n"
      ],
      "metadata": {
        "id": "_T_PvTQh8CCN"
      },
      "execution_count": null,
      "outputs": []
    },
    {
      "cell_type": "code",
      "source": [
        "##MOVE ALL PICTURES IN THE SAME DIR\n",
        "!mv /content/skin_cancer_dataset/HAM10000_images_part_2/*.jpg /content/skin_cancer_dataset/HAM10000_images_part_1/\n",
        "#REMOVE FOLDERS\n",
        "!rm -r /content/skin_cancer_dataset/ham10000_images_part_2\n",
        "!rm -r /content/skin_cancer_dataset/ham10000_images_part_1\n",
        "!rm -r /content/skin_cancer_dataset/HAM10000_images_part_2/\n",
        "!mv /content/skin_cancer_dataset/HAM10000_images_part_1/ /content/skin_cancer_dataset/HAM10000_images/\n"
      ],
      "metadata": {
        "id": "wrUnLLiaZ53M"
      },
      "execution_count": null,
      "outputs": []
    },
    {
      "cell_type": "code",
      "source": [
        "###cHECK IMPORTED DATA\n",
        "project_dir = '/content/skin_cancer_dataset/'\n",
        "image_dir = '/content/skin_cancer_dataset/HAM10000_images'\n",
        "# Create lists to store image arrays and labels\n",
        "!ls -la $image_dir/*jpg | wc -l"
      ],
      "metadata": {
        "colab": {
          "base_uri": "https://localhost:8080/"
        },
        "id": "XIa_jIa1n69_",
        "outputId": "4c7fdede-d6ba-43f3-f4be-bf2d59237aba"
      },
      "execution_count": null,
      "outputs": [
        {
          "output_type": "stream",
          "name": "stdout",
          "text": [
            "10015\n"
          ]
        }
      ]
    },
    {
      "cell_type": "markdown",
      "source": [
        "###1.1 IMPORT DATA TO NOTEBOOK FOR ANALYSIS\n",
        "Two files to be imported, a csv file and 10015 images in .jpg"
      ],
      "metadata": {
        "id": "gHOWmwDj1dsn"
      }
    },
    {
      "cell_type": "markdown",
      "source": [
        "#### The CSV dataset"
      ],
      "metadata": {
        "id": "DTFJJJjElp6r"
      }
    },
    {
      "cell_type": "code",
      "source": [
        "###Import images into Dataframe\n",
        "data = pd.read_csv('/content/skin_cancer_dataset/HAM10000_metadata.csv')\n",
        "data['image_id_ext'] = data[\"image_id\"] + '.jpg'\n",
        "data"
      ],
      "metadata": {
        "id": "5ii9Srhswy0-",
        "colab": {
          "base_uri": "https://localhost:8080/",
          "height": 423
        },
        "outputId": "71ff5beb-4f96-45df-c557-e3860b2ef161"
      },
      "execution_count": null,
      "outputs": [
        {
          "output_type": "execute_result",
          "data": {
            "text/plain": [
              "         lesion_id      image_id     dx dx_type   age     sex localization  \\\n",
              "0      HAM_0000118  ISIC_0027419    bkl   histo  80.0    male        scalp   \n",
              "1      HAM_0000118  ISIC_0025030    bkl   histo  80.0    male        scalp   \n",
              "2      HAM_0002730  ISIC_0026769    bkl   histo  80.0    male        scalp   \n",
              "3      HAM_0002730  ISIC_0025661    bkl   histo  80.0    male        scalp   \n",
              "4      HAM_0001466  ISIC_0031633    bkl   histo  75.0    male          ear   \n",
              "...            ...           ...    ...     ...   ...     ...          ...   \n",
              "10010  HAM_0002867  ISIC_0033084  akiec   histo  40.0    male      abdomen   \n",
              "10011  HAM_0002867  ISIC_0033550  akiec   histo  40.0    male      abdomen   \n",
              "10012  HAM_0002867  ISIC_0033536  akiec   histo  40.0    male      abdomen   \n",
              "10013  HAM_0000239  ISIC_0032854  akiec   histo  80.0    male         face   \n",
              "10014  HAM_0003521  ISIC_0032258    mel   histo  70.0  female         back   \n",
              "\n",
              "           image_id_ext  \n",
              "0      ISIC_0027419.jpg  \n",
              "1      ISIC_0025030.jpg  \n",
              "2      ISIC_0026769.jpg  \n",
              "3      ISIC_0025661.jpg  \n",
              "4      ISIC_0031633.jpg  \n",
              "...                 ...  \n",
              "10010  ISIC_0033084.jpg  \n",
              "10011  ISIC_0033550.jpg  \n",
              "10012  ISIC_0033536.jpg  \n",
              "10013  ISIC_0032854.jpg  \n",
              "10014  ISIC_0032258.jpg  \n",
              "\n",
              "[10015 rows x 8 columns]"
            ],
            "text/html": [
              "\n",
              "  <div id=\"df-8e658cde-69e6-46df-b734-f66b06c08ca0\" class=\"colab-df-container\">\n",
              "    <div>\n",
              "<style scoped>\n",
              "    .dataframe tbody tr th:only-of-type {\n",
              "        vertical-align: middle;\n",
              "    }\n",
              "\n",
              "    .dataframe tbody tr th {\n",
              "        vertical-align: top;\n",
              "    }\n",
              "\n",
              "    .dataframe thead th {\n",
              "        text-align: right;\n",
              "    }\n",
              "</style>\n",
              "<table border=\"1\" class=\"dataframe\">\n",
              "  <thead>\n",
              "    <tr style=\"text-align: right;\">\n",
              "      <th></th>\n",
              "      <th>lesion_id</th>\n",
              "      <th>image_id</th>\n",
              "      <th>dx</th>\n",
              "      <th>dx_type</th>\n",
              "      <th>age</th>\n",
              "      <th>sex</th>\n",
              "      <th>localization</th>\n",
              "      <th>image_id_ext</th>\n",
              "    </tr>\n",
              "  </thead>\n",
              "  <tbody>\n",
              "    <tr>\n",
              "      <th>0</th>\n",
              "      <td>HAM_0000118</td>\n",
              "      <td>ISIC_0027419</td>\n",
              "      <td>bkl</td>\n",
              "      <td>histo</td>\n",
              "      <td>80.0</td>\n",
              "      <td>male</td>\n",
              "      <td>scalp</td>\n",
              "      <td>ISIC_0027419.jpg</td>\n",
              "    </tr>\n",
              "    <tr>\n",
              "      <th>1</th>\n",
              "      <td>HAM_0000118</td>\n",
              "      <td>ISIC_0025030</td>\n",
              "      <td>bkl</td>\n",
              "      <td>histo</td>\n",
              "      <td>80.0</td>\n",
              "      <td>male</td>\n",
              "      <td>scalp</td>\n",
              "      <td>ISIC_0025030.jpg</td>\n",
              "    </tr>\n",
              "    <tr>\n",
              "      <th>2</th>\n",
              "      <td>HAM_0002730</td>\n",
              "      <td>ISIC_0026769</td>\n",
              "      <td>bkl</td>\n",
              "      <td>histo</td>\n",
              "      <td>80.0</td>\n",
              "      <td>male</td>\n",
              "      <td>scalp</td>\n",
              "      <td>ISIC_0026769.jpg</td>\n",
              "    </tr>\n",
              "    <tr>\n",
              "      <th>3</th>\n",
              "      <td>HAM_0002730</td>\n",
              "      <td>ISIC_0025661</td>\n",
              "      <td>bkl</td>\n",
              "      <td>histo</td>\n",
              "      <td>80.0</td>\n",
              "      <td>male</td>\n",
              "      <td>scalp</td>\n",
              "      <td>ISIC_0025661.jpg</td>\n",
              "    </tr>\n",
              "    <tr>\n",
              "      <th>4</th>\n",
              "      <td>HAM_0001466</td>\n",
              "      <td>ISIC_0031633</td>\n",
              "      <td>bkl</td>\n",
              "      <td>histo</td>\n",
              "      <td>75.0</td>\n",
              "      <td>male</td>\n",
              "      <td>ear</td>\n",
              "      <td>ISIC_0031633.jpg</td>\n",
              "    </tr>\n",
              "    <tr>\n",
              "      <th>...</th>\n",
              "      <td>...</td>\n",
              "      <td>...</td>\n",
              "      <td>...</td>\n",
              "      <td>...</td>\n",
              "      <td>...</td>\n",
              "      <td>...</td>\n",
              "      <td>...</td>\n",
              "      <td>...</td>\n",
              "    </tr>\n",
              "    <tr>\n",
              "      <th>10010</th>\n",
              "      <td>HAM_0002867</td>\n",
              "      <td>ISIC_0033084</td>\n",
              "      <td>akiec</td>\n",
              "      <td>histo</td>\n",
              "      <td>40.0</td>\n",
              "      <td>male</td>\n",
              "      <td>abdomen</td>\n",
              "      <td>ISIC_0033084.jpg</td>\n",
              "    </tr>\n",
              "    <tr>\n",
              "      <th>10011</th>\n",
              "      <td>HAM_0002867</td>\n",
              "      <td>ISIC_0033550</td>\n",
              "      <td>akiec</td>\n",
              "      <td>histo</td>\n",
              "      <td>40.0</td>\n",
              "      <td>male</td>\n",
              "      <td>abdomen</td>\n",
              "      <td>ISIC_0033550.jpg</td>\n",
              "    </tr>\n",
              "    <tr>\n",
              "      <th>10012</th>\n",
              "      <td>HAM_0002867</td>\n",
              "      <td>ISIC_0033536</td>\n",
              "      <td>akiec</td>\n",
              "      <td>histo</td>\n",
              "      <td>40.0</td>\n",
              "      <td>male</td>\n",
              "      <td>abdomen</td>\n",
              "      <td>ISIC_0033536.jpg</td>\n",
              "    </tr>\n",
              "    <tr>\n",
              "      <th>10013</th>\n",
              "      <td>HAM_0000239</td>\n",
              "      <td>ISIC_0032854</td>\n",
              "      <td>akiec</td>\n",
              "      <td>histo</td>\n",
              "      <td>80.0</td>\n",
              "      <td>male</td>\n",
              "      <td>face</td>\n",
              "      <td>ISIC_0032854.jpg</td>\n",
              "    </tr>\n",
              "    <tr>\n",
              "      <th>10014</th>\n",
              "      <td>HAM_0003521</td>\n",
              "      <td>ISIC_0032258</td>\n",
              "      <td>mel</td>\n",
              "      <td>histo</td>\n",
              "      <td>70.0</td>\n",
              "      <td>female</td>\n",
              "      <td>back</td>\n",
              "      <td>ISIC_0032258.jpg</td>\n",
              "    </tr>\n",
              "  </tbody>\n",
              "</table>\n",
              "<p>10015 rows × 8 columns</p>\n",
              "</div>\n",
              "    <div class=\"colab-df-buttons\">\n",
              "\n",
              "  <div class=\"colab-df-container\">\n",
              "    <button class=\"colab-df-convert\" onclick=\"convertToInteractive('df-8e658cde-69e6-46df-b734-f66b06c08ca0')\"\n",
              "            title=\"Convert this dataframe to an interactive table.\"\n",
              "            style=\"display:none;\">\n",
              "\n",
              "  <svg xmlns=\"http://www.w3.org/2000/svg\" height=\"24px\" viewBox=\"0 -960 960 960\">\n",
              "    <path d=\"M120-120v-720h720v720H120Zm60-500h600v-160H180v160Zm220 220h160v-160H400v160Zm0 220h160v-160H400v160ZM180-400h160v-160H180v160Zm440 0h160v-160H620v160ZM180-180h160v-160H180v160Zm440 0h160v-160H620v160Z\"/>\n",
              "  </svg>\n",
              "    </button>\n",
              "\n",
              "  <style>\n",
              "    .colab-df-container {\n",
              "      display:flex;\n",
              "      gap: 12px;\n",
              "    }\n",
              "\n",
              "    .colab-df-convert {\n",
              "      background-color: #E8F0FE;\n",
              "      border: none;\n",
              "      border-radius: 50%;\n",
              "      cursor: pointer;\n",
              "      display: none;\n",
              "      fill: #1967D2;\n",
              "      height: 32px;\n",
              "      padding: 0 0 0 0;\n",
              "      width: 32px;\n",
              "    }\n",
              "\n",
              "    .colab-df-convert:hover {\n",
              "      background-color: #E2EBFA;\n",
              "      box-shadow: 0px 1px 2px rgba(60, 64, 67, 0.3), 0px 1px 3px 1px rgba(60, 64, 67, 0.15);\n",
              "      fill: #174EA6;\n",
              "    }\n",
              "\n",
              "    .colab-df-buttons div {\n",
              "      margin-bottom: 4px;\n",
              "    }\n",
              "\n",
              "    [theme=dark] .colab-df-convert {\n",
              "      background-color: #3B4455;\n",
              "      fill: #D2E3FC;\n",
              "    }\n",
              "\n",
              "    [theme=dark] .colab-df-convert:hover {\n",
              "      background-color: #434B5C;\n",
              "      box-shadow: 0px 1px 3px 1px rgba(0, 0, 0, 0.15);\n",
              "      filter: drop-shadow(0px 1px 2px rgba(0, 0, 0, 0.3));\n",
              "      fill: #FFFFFF;\n",
              "    }\n",
              "  </style>\n",
              "\n",
              "    <script>\n",
              "      const buttonEl =\n",
              "        document.querySelector('#df-8e658cde-69e6-46df-b734-f66b06c08ca0 button.colab-df-convert');\n",
              "      buttonEl.style.display =\n",
              "        google.colab.kernel.accessAllowed ? 'block' : 'none';\n",
              "\n",
              "      async function convertToInteractive(key) {\n",
              "        const element = document.querySelector('#df-8e658cde-69e6-46df-b734-f66b06c08ca0');\n",
              "        const dataTable =\n",
              "          await google.colab.kernel.invokeFunction('convertToInteractive',\n",
              "                                                    [key], {});\n",
              "        if (!dataTable) return;\n",
              "\n",
              "        const docLinkHtml = 'Like what you see? Visit the ' +\n",
              "          '<a target=\"_blank\" href=https://colab.research.google.com/notebooks/data_table.ipynb>data table notebook</a>'\n",
              "          + ' to learn more about interactive tables.';\n",
              "        element.innerHTML = '';\n",
              "        dataTable['output_type'] = 'display_data';\n",
              "        await google.colab.output.renderOutput(dataTable, element);\n",
              "        const docLink = document.createElement('div');\n",
              "        docLink.innerHTML = docLinkHtml;\n",
              "        element.appendChild(docLink);\n",
              "      }\n",
              "    </script>\n",
              "  </div>\n",
              "\n",
              "\n",
              "<div id=\"df-d008ec3d-b50e-4cb2-81e4-e48cc1a58b4a\">\n",
              "  <button class=\"colab-df-quickchart\" onclick=\"quickchart('df-d008ec3d-b50e-4cb2-81e4-e48cc1a58b4a')\"\n",
              "            title=\"Suggest charts.\"\n",
              "            style=\"display:none;\">\n",
              "\n",
              "<svg xmlns=\"http://www.w3.org/2000/svg\" height=\"24px\"viewBox=\"0 0 24 24\"\n",
              "     width=\"24px\">\n",
              "    <g>\n",
              "        <path d=\"M19 3H5c-1.1 0-2 .9-2 2v14c0 1.1.9 2 2 2h14c1.1 0 2-.9 2-2V5c0-1.1-.9-2-2-2zM9 17H7v-7h2v7zm4 0h-2V7h2v10zm4 0h-2v-4h2v4z\"/>\n",
              "    </g>\n",
              "</svg>\n",
              "  </button>\n",
              "\n",
              "<style>\n",
              "  .colab-df-quickchart {\n",
              "      --bg-color: #E8F0FE;\n",
              "      --fill-color: #1967D2;\n",
              "      --hover-bg-color: #E2EBFA;\n",
              "      --hover-fill-color: #174EA6;\n",
              "      --disabled-fill-color: #AAA;\n",
              "      --disabled-bg-color: #DDD;\n",
              "  }\n",
              "\n",
              "  [theme=dark] .colab-df-quickchart {\n",
              "      --bg-color: #3B4455;\n",
              "      --fill-color: #D2E3FC;\n",
              "      --hover-bg-color: #434B5C;\n",
              "      --hover-fill-color: #FFFFFF;\n",
              "      --disabled-bg-color: #3B4455;\n",
              "      --disabled-fill-color: #666;\n",
              "  }\n",
              "\n",
              "  .colab-df-quickchart {\n",
              "    background-color: var(--bg-color);\n",
              "    border: none;\n",
              "    border-radius: 50%;\n",
              "    cursor: pointer;\n",
              "    display: none;\n",
              "    fill: var(--fill-color);\n",
              "    height: 32px;\n",
              "    padding: 0;\n",
              "    width: 32px;\n",
              "  }\n",
              "\n",
              "  .colab-df-quickchart:hover {\n",
              "    background-color: var(--hover-bg-color);\n",
              "    box-shadow: 0 1px 2px rgba(60, 64, 67, 0.3), 0 1px 3px 1px rgba(60, 64, 67, 0.15);\n",
              "    fill: var(--button-hover-fill-color);\n",
              "  }\n",
              "\n",
              "  .colab-df-quickchart-complete:disabled,\n",
              "  .colab-df-quickchart-complete:disabled:hover {\n",
              "    background-color: var(--disabled-bg-color);\n",
              "    fill: var(--disabled-fill-color);\n",
              "    box-shadow: none;\n",
              "  }\n",
              "\n",
              "  .colab-df-spinner {\n",
              "    border: 2px solid var(--fill-color);\n",
              "    border-color: transparent;\n",
              "    border-bottom-color: var(--fill-color);\n",
              "    animation:\n",
              "      spin 1s steps(1) infinite;\n",
              "  }\n",
              "\n",
              "  @keyframes spin {\n",
              "    0% {\n",
              "      border-color: transparent;\n",
              "      border-bottom-color: var(--fill-color);\n",
              "      border-left-color: var(--fill-color);\n",
              "    }\n",
              "    20% {\n",
              "      border-color: transparent;\n",
              "      border-left-color: var(--fill-color);\n",
              "      border-top-color: var(--fill-color);\n",
              "    }\n",
              "    30% {\n",
              "      border-color: transparent;\n",
              "      border-left-color: var(--fill-color);\n",
              "      border-top-color: var(--fill-color);\n",
              "      border-right-color: var(--fill-color);\n",
              "    }\n",
              "    40% {\n",
              "      border-color: transparent;\n",
              "      border-right-color: var(--fill-color);\n",
              "      border-top-color: var(--fill-color);\n",
              "    }\n",
              "    60% {\n",
              "      border-color: transparent;\n",
              "      border-right-color: var(--fill-color);\n",
              "    }\n",
              "    80% {\n",
              "      border-color: transparent;\n",
              "      border-right-color: var(--fill-color);\n",
              "      border-bottom-color: var(--fill-color);\n",
              "    }\n",
              "    90% {\n",
              "      border-color: transparent;\n",
              "      border-bottom-color: var(--fill-color);\n",
              "    }\n",
              "  }\n",
              "</style>\n",
              "\n",
              "  <script>\n",
              "    async function quickchart(key) {\n",
              "      const quickchartButtonEl =\n",
              "        document.querySelector('#' + key + ' button');\n",
              "      quickchartButtonEl.disabled = true;  // To prevent multiple clicks.\n",
              "      quickchartButtonEl.classList.add('colab-df-spinner');\n",
              "      try {\n",
              "        const charts = await google.colab.kernel.invokeFunction(\n",
              "            'suggestCharts', [key], {});\n",
              "      } catch (error) {\n",
              "        console.error('Error during call to suggestCharts:', error);\n",
              "      }\n",
              "      quickchartButtonEl.classList.remove('colab-df-spinner');\n",
              "      quickchartButtonEl.classList.add('colab-df-quickchart-complete');\n",
              "    }\n",
              "    (() => {\n",
              "      let quickchartButtonEl =\n",
              "        document.querySelector('#df-d008ec3d-b50e-4cb2-81e4-e48cc1a58b4a button');\n",
              "      quickchartButtonEl.style.display =\n",
              "        google.colab.kernel.accessAllowed ? 'block' : 'none';\n",
              "    })();\n",
              "  </script>\n",
              "</div>\n",
              "    </div>\n",
              "  </div>\n"
            ]
          },
          "metadata": {},
          "execution_count": 12
        }
      ]
    },
    {
      "cell_type": "code",
      "source": [
        "##Look the data structure\n",
        "data = data.sort_values(by=['image_id'])"
      ],
      "metadata": {
        "id": "JkR6BTpS1pKQ"
      },
      "execution_count": null,
      "outputs": []
    },
    {
      "cell_type": "code",
      "source": [
        "##Transform y categorical to numeric\n",
        "# Handling categorical data\n",
        "encoder = LabelEncoder()\n",
        "data[\"dx_label\"] = encoder.fit_transform(data[\"dx\"])\n",
        "\n",
        "# Print new labels and correspondances\n",
        "print(\"Cancer types and their integer encoding\")\n",
        "print(encoder.classes_)\n",
        "print(encoder.transform(encoder.classes_))"
      ],
      "metadata": {
        "colab": {
          "base_uri": "https://localhost:8080/"
        },
        "id": "5E1HA6QIbu3y",
        "outputId": "71076797-f42e-4454-e14b-5bc33dbe3d46"
      },
      "execution_count": null,
      "outputs": [
        {
          "output_type": "stream",
          "name": "stdout",
          "text": [
            "Cancer types and their integer encoding\n",
            "['akiec' 'bcc' 'bkl' 'df' 'mel' 'nv' 'vasc']\n",
            "[0 1 2 3 4 5 6]\n"
          ]
        }
      ]
    },
    {
      "cell_type": "markdown",
      "source": [
        "DISPLAY ONE IMAGE AND LOOKING FOR SHAPE"
      ],
      "metadata": {
        "id": "n_Q_RxLtYknE"
      }
    },
    {
      "cell_type": "code",
      "source": [
        "##DISPLAY A SINGLE IMAGE\n",
        "##View image\n",
        "from matplotlib import  pyplot as plt\n",
        "import matplotlib.image as mpimg\n",
        "import glob\n",
        "\n",
        "img = mpimg.imread('/content/skin_cancer_dataset/HAM10000_images/ISIC_0024306.jpg')\n",
        "plt.imshow(img, cmap=\"gray\")\n",
        "plt.axis(\"off\")\n",
        "plt.show()"
      ],
      "metadata": {
        "colab": {
          "base_uri": "https://localhost:8080/",
          "height": 406
        },
        "id": "4NifWXR71tKX",
        "outputId": "a223aba1-b1fc-42be-ef98-8e85b1397bbf"
      },
      "execution_count": null,
      "outputs": [
        {
          "output_type": "display_data",
          "data": {
            "text/plain": [
              "<Figure size 640x480 with 1 Axes>"
            ],
            "image/png": "[encoded data removed]"
          },
          "metadata": {}
        }
      ]
    },
    {
      "cell_type": "code",
      "source": [
        "#Check image shape\n",
        "img.shape"
      ],
      "metadata": {
        "colab": {
          "base_uri": "https://localhost:8080/"
        },
        "id": "cqYQkjky_oCh",
        "outputId": "72c4b17f-4f57-4d0f-d744-c8a63ae33d4a"
      },
      "execution_count": null,
      "outputs": [
        {
          "output_type": "execute_result",
          "data": {
            "text/plain": [
              "(450, 600, 3)"
            ]
          },
          "metadata": {},
          "execution_count": 12
        }
      ]
    },
    {
      "cell_type": "markdown",
      "source": [
        "#### IMPORT ALL PICTURES IN A FILE IN FORMAT 28,28,3"
      ],
      "metadata": {
        "id": "XgPWc_c3ZGXs"
      }
    },
    {
      "cell_type": "code",
      "source": [
        "%%time\n",
        "##IMPORT ALL IMAGES IN A FILES and resized them in 28 / 28\n",
        "dataset_directory = '/content/skin_cancer_dataset/HAM10000_images'\n",
        "images = []\n",
        "labels = []\n",
        "flattened_images = []\n",
        "\n",
        "for image_filename in os.listdir(dataset_directory):\n",
        "    image_path = os.path.join(dataset_directory, image_filename)\n",
        "\n",
        "    # Read and preprocess the image (resize 28 28)\n",
        "    img = cv2.imread(image_path)\n",
        "    img = cv2.cvtColor(img, cv2.COLOR_BGR2RGB)  # Convert to RGB format\n",
        "    img = cv2.resize(img, (28, 28))  # Resize the image to a common size\n",
        "    img_scaled = img/255.0\n",
        "\n",
        "    # Extract the label from the filename\n",
        "    label = image_filename.split('.')[0]\n",
        "    flattened_image = img_scaled.reshape(-1)\n",
        "\n",
        "    # Append the image and its label to the lists.\n",
        "    images.append(img)\n",
        "    labels.append(label)\n",
        "    flattened_images.append(flattened_image)\n",
        "\n",
        "flattened_images = np.array(flattened_images)\n",
        "images = np.array(images)\n",
        "labels = np.array(labels)\n",
        "\n",
        "\n"
      ],
      "metadata": {
        "colab": {
          "base_uri": "https://localhost:8080/"
        },
        "id": "bWUacHftM4uM",
        "outputId": "1f841de3-f388-48d4-fe78-a378fe33b2f2"
      },
      "execution_count": null,
      "outputs": [
        {
          "output_type": "stream",
          "name": "stdout",
          "text": [
            "CPU times: user 1min 46s, sys: 7.23 s, total: 1min 53s\n",
            "Wall time: 2min 18s\n"
          ]
        }
      ]
    },
    {
      "cell_type": "code",
      "source": [
        "##Looking at the shape of the created files\n",
        "flattened_images.shape, images.shape, labels.shape"
      ],
      "metadata": {
        "colab": {
          "base_uri": "https://localhost:8080/"
        },
        "id": "PdTsL3EIgElr",
        "outputId": "ca36f441-9737-47e4-c098-ea5482ff8354"
      },
      "execution_count": null,
      "outputs": [
        {
          "output_type": "execute_result",
          "data": {
            "text/plain": [
              "((10015, 2352), (10015, 28, 28, 3), (10015,))"
            ]
          },
          "metadata": {},
          "execution_count": 18
        }
      ]
    },
    {
      "cell_type": "code",
      "source": [
        "###create the y value from csv and labels array\n",
        "# Create a dictionary to map image IDs to dx_labels.\n",
        "image_id_to_dx_label = dict(zip(data['image_id'], data['dx_label']))\n",
        "dx_labels = np.array([image_id_to_dx_label.get(image_id, -1) for image_id in labels])\n",
        "y = dx_labels"
      ],
      "metadata": {
        "id": "eJNQNKXHPOgG",
        "colab": {
          "base_uri": "https://localhost:8080/",
          "height": 252
        },
        "outputId": "b630e753-a41b-4227-d871-af3db8301955"
      },
      "execution_count": null,
      "outputs": [
        {
          "output_type": "error",
          "ename": "KeyError",
          "evalue": "ignored",
          "traceback": [
            "\u001b[0;31m---------------------------------------------------------------------------\u001b[0m",
            "\u001b[0;31mKeyError\u001b[0m                                  Traceback (most recent call last)",
            "\u001b[0;32m<ipython-input-80-f2c067de9223>\u001b[0m in \u001b[0;36m<cell line: 3>\u001b[0;34m()\u001b[0m\n\u001b[1;32m      1\u001b[0m \u001b[0;31m###create the y value from csv and labels array\u001b[0m\u001b[0;34m\u001b[0m\u001b[0;34m\u001b[0m\u001b[0m\n\u001b[1;32m      2\u001b[0m \u001b[0;31m# Create a dictionary to map image IDs to dx_labels.\u001b[0m\u001b[0;34m\u001b[0m\u001b[0;34m\u001b[0m\u001b[0m\n\u001b[0;32m----> 3\u001b[0;31m \u001b[0mimage_id_to_dx_label\u001b[0m \u001b[0;34m=\u001b[0m \u001b[0mdict\u001b[0m\u001b[0;34m(\u001b[0m\u001b[0mzip\u001b[0m\u001b[0;34m(\u001b[0m\u001b[0mdata\u001b[0m\u001b[0;34m[\u001b[0m\u001b[0;34m'image_id'\u001b[0m\u001b[0;34m]\u001b[0m\u001b[0;34m,\u001b[0m \u001b[0mdata\u001b[0m\u001b[0;34m[\u001b[0m\u001b[0;34m'dx_label'\u001b[0m\u001b[0;34m]\u001b[0m\u001b[0;34m)\u001b[0m\u001b[0;34m)\u001b[0m\u001b[0;34m\u001b[0m\u001b[0;34m\u001b[0m\u001b[0m\n\u001b[0m\u001b[1;32m      4\u001b[0m \u001b[0mdx_labels\u001b[0m \u001b[0;34m=\u001b[0m \u001b[0mnp\u001b[0m\u001b[0;34m.\u001b[0m\u001b[0marray\u001b[0m\u001b[0;34m(\u001b[0m\u001b[0;34m[\u001b[0m\u001b[0mimage_id_to_dx_label\u001b[0m\u001b[0;34m.\u001b[0m\u001b[0mget\u001b[0m\u001b[0;34m(\u001b[0m\u001b[0mimage_id\u001b[0m\u001b[0;34m,\u001b[0m \u001b[0;34m-\u001b[0m\u001b[0;36m1\u001b[0m\u001b[0;34m)\u001b[0m \u001b[0;32mfor\u001b[0m \u001b[0mimage_id\u001b[0m \u001b[0;32min\u001b[0m \u001b[0mlabels\u001b[0m\u001b[0;34m]\u001b[0m\u001b[0;34m)\u001b[0m\u001b[0;34m\u001b[0m\u001b[0;34m\u001b[0m\u001b[0m\n\u001b[1;32m      5\u001b[0m \u001b[0my\u001b[0m \u001b[0;34m=\u001b[0m \u001b[0mdx_labels\u001b[0m\u001b[0;34m\u001b[0m\u001b[0;34m\u001b[0m\u001b[0m\n",
            "\u001b[0;31mKeyError\u001b[0m: 'image_id'"
          ]
        }
      ]
    },
    {
      "cell_type": "code",
      "source": [
        "len(y)"
      ],
      "metadata": {
        "colab": {
          "base_uri": "https://localhost:8080/"
        },
        "id": "Cf0qNNUufH3K",
        "outputId": "f0a074a8-bec3-4f56-c9ca-25a20332b6c0"
      },
      "execution_count": null,
      "outputs": [
        {
          "output_type": "execute_result",
          "data": {
            "text/plain": [
              "10015"
            ]
          },
          "metadata": {},
          "execution_count": 20
        }
      ]
    },
    {
      "cell_type": "code",
      "source": [
        "##saved flattened images size 28 * 28\n",
        "df = pd.DataFrame(flattened_images)\n",
        "df[\"y\"] = y\n",
        "df[\"labels_id\"] = labels\n",
        "df.to_csv(\"/content/skin_cancer_dataset/image_scaled_flatten.csv\")\n",
        "\n",
        "from google.colab import files\n",
        "\n",
        "# Download the CSV file\n",
        "#files.download(\"/content/skin_cancer_dataset/image_scaled_flatten.csv\")"
      ],
      "metadata": {
        "id": "Cb0PQnXLPNAJ",
        "colab": {
          "base_uri": "https://localhost:8080/",
          "height": 17
        },
        "outputId": "bb24f253-18c0-4f0d-f758-b9cbc07f680a"
      },
      "execution_count": null,
      "outputs": [
        {
          "output_type": "display_data",
          "data": {
            "text/plain": [
              "<IPython.core.display.Javascript object>"
            ],
            "application/javascript": [
              "\n",
              "    async function download(id, filename, size) {\n",
              "      if (!google.colab.kernel.accessAllowed) {\n",
              "        return;\n",
              "      }\n",
              "      const div = document.createElement('div');\n",
              "      const label = document.createElement('label');\n",
              "      label.textContent = `Downloading \"${filename}\": `;\n",
              "      div.appendChild(label);\n",
              "      const progress = document.createElement('progress');\n",
              "      progress.max = size;\n",
              "      div.appendChild(progress);\n",
              "      document.body.appendChild(div);\n",
              "\n",
              "      const buffers = [];\n",
              "      let downloaded = 0;\n",
              "\n",
              "      const channel = await google.colab.kernel.comms.open(id);\n",
              "      // Send a message to notify the kernel that we're ready.\n",
              "      channel.send({})\n",
              "\n",
              "      for await (const message of channel.messages) {\n",
              "        // Send a message to notify the kernel that we're ready.\n",
              "        channel.send({})\n",
              "        if (message.buffers) {\n",
              "          for (const buffer of message.buffers) {\n",
              "            buffers.push(buffer);\n",
              "            downloaded += buffer.byteLength;\n",
              "            progress.value = downloaded;\n",
              "          }\n",
              "        }\n",
              "      }\n",
              "      const blob = new Blob(buffers, {type: 'application/binary'});\n",
              "      const a = document.createElement('a');\n",
              "      a.href = window.URL.createObjectURL(blob);\n",
              "      a.download = filename;\n",
              "      div.appendChild(a);\n",
              "      a.click();\n",
              "      div.remove();\n",
              "    }\n",
              "  "
            ]
          },
          "metadata": {}
        },
        {
          "output_type": "display_data",
          "data": {
            "text/plain": [
              "<IPython.core.display.Javascript object>"
            ],
            "application/javascript": [
              "download(\"download_f055cccb-0181-492b-9326-1f928aa40f8f\", \"image_scaled_flatten.csv\", 441555435)"
            ]
          },
          "metadata": {}
        }
      ]
    },
    {
      "cell_type": "code",
      "source": [
        "# Download the CSV file\n",
        "!zip /content/skin_cancer_dataset/image_scaled_flatten.zip /content/skin_cancer_dataset/image_scaled_flatten.csv\n",
        "files.download(\"/content/skin_cancer_dataset/image_scaled_flatten.zip\")"
      ],
      "metadata": {
        "colab": {
          "base_uri": "https://localhost:8080/",
          "height": 35
        },
        "id": "aY78yk_SyJcI",
        "outputId": "dafca8c7-4e89-480a-9e88-23933f44a163"
      },
      "execution_count": null,
      "outputs": [
        {
          "output_type": "stream",
          "name": "stdout",
          "text": [
            "  adding: content/skin_cancer_dataset/image_scaled_flatten.csv (deflated 90%)\n"
          ]
        },
        {
          "output_type": "display_data",
          "data": {
            "text/plain": [
              "<IPython.core.display.Javascript object>"
            ],
            "application/javascript": [
              "\n",
              "    async function download(id, filename, size) {\n",
              "      if (!google.colab.kernel.accessAllowed) {\n",
              "        return;\n",
              "      }\n",
              "      const div = document.createElement('div');\n",
              "      const label = document.createElement('label');\n",
              "      label.textContent = `Downloading \"${filename}\": `;\n",
              "      div.appendChild(label);\n",
              "      const progress = document.createElement('progress');\n",
              "      progress.max = size;\n",
              "      div.appendChild(progress);\n",
              "      document.body.appendChild(div);\n",
              "\n",
              "      const buffers = [];\n",
              "      let downloaded = 0;\n",
              "\n",
              "      const channel = await google.colab.kernel.comms.open(id);\n",
              "      // Send a message to notify the kernel that we're ready.\n",
              "      channel.send({})\n",
              "\n",
              "      for await (const message of channel.messages) {\n",
              "        // Send a message to notify the kernel that we're ready.\n",
              "        channel.send({})\n",
              "        if (message.buffers) {\n",
              "          for (const buffer of message.buffers) {\n",
              "            buffers.push(buffer);\n",
              "            downloaded += buffer.byteLength;\n",
              "            progress.value = downloaded;\n",
              "          }\n",
              "        }\n",
              "      }\n",
              "      const blob = new Blob(buffers, {type: 'application/binary'});\n",
              "      const a = document.createElement('a');\n",
              "      a.href = window.URL.createObjectURL(blob);\n",
              "      a.download = filename;\n",
              "      div.appendChild(a);\n",
              "      a.click();\n",
              "      div.remove();\n",
              "    }\n",
              "  "
            ]
          },
          "metadata": {}
        },
        {
          "output_type": "display_data",
          "data": {
            "text/plain": [
              "<IPython.core.display.Javascript object>"
            ],
            "application/javascript": [
              "download(\"download_55a262d5-03cd-43c3-97c4-ab254631c884\", \"image_scaled_flatten.zip\", 42884531)"
            ]
          },
          "metadata": {}
        }
      ]
    },
    {
      "cell_type": "code",
      "source": [
        "df"
      ],
      "metadata": {
        "colab": {
          "base_uri": "https://localhost:8080/",
          "height": 423
        },
        "id": "g1YKtzm6PaYI",
        "outputId": "46464fb2-badb-4711-a984-54c58062d3bc"
      },
      "execution_count": null,
      "outputs": [
        {
          "output_type": "execute_result",
          "data": {
            "text/plain": [
              "              0         1         2         3         4         5         6  \\\n",
              "0      0.870588  0.756863  0.862745  0.909804  0.835294  0.909804  0.929412   \n",
              "1      0.835294  0.752941  0.756863  0.866667  0.800000  0.788235  0.870588   \n",
              "2      0.898039  0.556863  0.686275  0.901961  0.603922  0.686275  0.921569   \n",
              "3      0.796078  0.658824  0.662745  0.800000  0.662745  0.662745  0.831373   \n",
              "4      0.682353  0.643137  0.768627  0.678431  0.627451  0.721569  0.686275   \n",
              "...         ...       ...       ...       ...       ...       ...       ...   \n",
              "10010  0.945098  0.596078  0.639216  0.945098  0.592157  0.658824  0.937255   \n",
              "10011  0.635294  0.427451  0.376471  0.643137  0.415686  0.333333  0.643137   \n",
              "10012  0.960784  0.658824  0.737255  0.960784  0.678431  0.756863  0.952941   \n",
              "10013  0.882353  0.572549  0.600000  0.894118  0.560784  0.592157  0.870588   \n",
              "10014  0.949020  0.600000  0.596078  0.952941  0.623529  0.639216  0.933333   \n",
              "\n",
              "              7         8         9  ...      2344      2345      2346  \\\n",
              "0      0.843137  0.921569  0.921569  ...  0.831373  0.890196  0.874510   \n",
              "1      0.831373  0.870588  0.882353  ...  0.843137  0.862745  0.886275   \n",
              "2      0.631373  0.717647  0.901961  ...  0.517647  0.603922  0.835294   \n",
              "3      0.709804  0.705882  0.815686  ...  0.447059  0.486275  0.596078   \n",
              "4      0.631373  0.701961  0.717647  ...  0.588235  0.603922  0.643137   \n",
              "...         ...       ...       ...  ...       ...       ...       ...   \n",
              "10010  0.592157  0.654902  0.952941  ...  0.666667  0.623529  0.933333   \n",
              "10011  0.364706  0.329412  0.654902  ...  0.435294  0.431373  0.552941   \n",
              "10012  0.635294  0.717647  0.956863  ...  0.627451  0.658824  0.905882   \n",
              "10013  0.568627  0.588235  0.878431  ...  0.533333  0.545098  0.807843   \n",
              "10014  0.607843  0.596078  0.937255  ...  0.517647  0.490196  0.819608   \n",
              "\n",
              "           2347      2348      2349      2350      2351  y     labels_id  \n",
              "0      0.768627  0.854902  0.901961  0.827451  0.909804  2  ISIC_0033629  \n",
              "1      0.827451  0.823529  0.886275  0.839216  0.858824  4  ISIC_0030211  \n",
              "2      0.533333  0.615686  0.827451  0.545098  0.580392  5  ISIC_0024859  \n",
              "3      0.462745  0.513725  0.513725  0.360784  0.372549  1  ISIC_0025530  \n",
              "4      0.576471  0.560784  0.639216  0.576471  0.607843  5  ISIC_0032957  \n",
              "...         ...       ...       ...       ...       ... ..           ...  \n",
              "10010  0.647059  0.623529  0.913725  0.647059  0.607843  5  ISIC_0026495  \n",
              "10011  0.415686  0.403922  0.439216  0.286275  0.223529  1  ISIC_0028323  \n",
              "10012  0.619608  0.639216  0.850980  0.600000  0.615686  5  ISIC_0028501  \n",
              "10013  0.517647  0.513725  0.772549  0.498039  0.478431  5  ISIC_0024533  \n",
              "10014  0.513725  0.490196  0.803922  0.525490  0.498039  5  ISIC_0031509  \n",
              "\n",
              "[10015 rows x 2354 columns]"
            ],
            "text/html": [
              "\n",
              "  <div id=\"df-ceea938f-e320-43ab-95fb-3bad92ae0688\" class=\"colab-df-container\">\n",
              "    <div>\n",
              "<style scoped>\n",
              "    .dataframe tbody tr th:only-of-type {\n",
              "        vertical-align: middle;\n",
              "    }\n",
              "\n",
              "    .dataframe tbody tr th {\n",
              "        vertical-align: top;\n",
              "    }\n",
              "\n",
              "    .dataframe thead th {\n",
              "        text-align: right;\n",
              "    }\n",
              "</style>\n",
              "<table border=\"1\" class=\"dataframe\">\n",
              "  <thead>\n",
              "    <tr style=\"text-align: right;\">\n",
              "      <th></th>\n",
              "      <th>0</th>\n",
              "      <th>1</th>\n",
              "      <th>2</th>\n",
              "      <th>3</th>\n",
              "      <th>4</th>\n",
              "      <th>5</th>\n",
              "      <th>6</th>\n",
              "      <th>7</th>\n",
              "      <th>8</th>\n",
              "      <th>9</th>\n",
              "      <th>...</th>\n",
              "      <th>2344</th>\n",
              "      <th>2345</th>\n",
              "      <th>2346</th>\n",
              "      <th>2347</th>\n",
              "      <th>2348</th>\n",
              "      <th>2349</th>\n",
              "      <th>2350</th>\n",
              "      <th>2351</th>\n",
              "      <th>y</th>\n",
              "      <th>labels_id</th>\n",
              "    </tr>\n",
              "  </thead>\n",
              "  <tbody>\n",
              "    <tr>\n",
              "      <th>0</th>\n",
              "      <td>0.870588</td>\n",
              "      <td>0.756863</td>\n",
              "      <td>0.862745</td>\n",
              "      <td>0.909804</td>\n",
              "      <td>0.835294</td>\n",
              "      <td>0.909804</td>\n",
              "      <td>0.929412</td>\n",
              "      <td>0.843137</td>\n",
              "      <td>0.921569</td>\n",
              "      <td>0.921569</td>\n",
              "      <td>...</td>\n",
              "      <td>0.831373</td>\n",
              "      <td>0.890196</td>\n",
              "      <td>0.874510</td>\n",
              "      <td>0.768627</td>\n",
              "      <td>0.854902</td>\n",
              "      <td>0.901961</td>\n",
              "      <td>0.827451</td>\n",
              "      <td>0.909804</td>\n",
              "      <td>2</td>\n",
              "      <td>ISIC_0033629</td>\n",
              "    </tr>\n",
              "    <tr>\n",
              "      <th>1</th>\n",
              "      <td>0.835294</td>\n",
              "      <td>0.752941</td>\n",
              "      <td>0.756863</td>\n",
              "      <td>0.866667</td>\n",
              "      <td>0.800000</td>\n",
              "      <td>0.788235</td>\n",
              "      <td>0.870588</td>\n",
              "      <td>0.831373</td>\n",
              "      <td>0.870588</td>\n",
              "      <td>0.882353</td>\n",
              "      <td>...</td>\n",
              "      <td>0.843137</td>\n",
              "      <td>0.862745</td>\n",
              "      <td>0.886275</td>\n",
              "      <td>0.827451</td>\n",
              "      <td>0.823529</td>\n",
              "      <td>0.886275</td>\n",
              "      <td>0.839216</td>\n",
              "      <td>0.858824</td>\n",
              "      <td>4</td>\n",
              "      <td>ISIC_0030211</td>\n",
              "    </tr>\n",
              "    <tr>\n",
              "      <th>2</th>\n",
              "      <td>0.898039</td>\n",
              "      <td>0.556863</td>\n",
              "      <td>0.686275</td>\n",
              "      <td>0.901961</td>\n",
              "      <td>0.603922</td>\n",
              "      <td>0.686275</td>\n",
              "      <td>0.921569</td>\n",
              "      <td>0.631373</td>\n",
              "      <td>0.717647</td>\n",
              "      <td>0.901961</td>\n",
              "      <td>...</td>\n",
              "      <td>0.517647</td>\n",
              "      <td>0.603922</td>\n",
              "      <td>0.835294</td>\n",
              "      <td>0.533333</td>\n",
              "      <td>0.615686</td>\n",
              "      <td>0.827451</td>\n",
              "      <td>0.545098</td>\n",
              "      <td>0.580392</td>\n",
              "      <td>5</td>\n",
              "      <td>ISIC_0024859</td>\n",
              "    </tr>\n",
              "    <tr>\n",
              "      <th>3</th>\n",
              "      <td>0.796078</td>\n",
              "      <td>0.658824</td>\n",
              "      <td>0.662745</td>\n",
              "      <td>0.800000</td>\n",
              "      <td>0.662745</td>\n",
              "      <td>0.662745</td>\n",
              "      <td>0.831373</td>\n",
              "      <td>0.709804</td>\n",
              "      <td>0.705882</td>\n",
              "      <td>0.815686</td>\n",
              "      <td>...</td>\n",
              "      <td>0.447059</td>\n",
              "      <td>0.486275</td>\n",
              "      <td>0.596078</td>\n",
              "      <td>0.462745</td>\n",
              "      <td>0.513725</td>\n",
              "      <td>0.513725</td>\n",
              "      <td>0.360784</td>\n",
              "      <td>0.372549</td>\n",
              "      <td>1</td>\n",
              "      <td>ISIC_0025530</td>\n",
              "    </tr>\n",
              "    <tr>\n",
              "      <th>4</th>\n",
              "      <td>0.682353</td>\n",
              "      <td>0.643137</td>\n",
              "      <td>0.768627</td>\n",
              "      <td>0.678431</td>\n",
              "      <td>0.627451</td>\n",
              "      <td>0.721569</td>\n",
              "      <td>0.686275</td>\n",
              "      <td>0.631373</td>\n",
              "      <td>0.701961</td>\n",
              "      <td>0.717647</td>\n",
              "      <td>...</td>\n",
              "      <td>0.588235</td>\n",
              "      <td>0.603922</td>\n",
              "      <td>0.643137</td>\n",
              "      <td>0.576471</td>\n",
              "      <td>0.560784</td>\n",
              "      <td>0.639216</td>\n",
              "      <td>0.576471</td>\n",
              "      <td>0.607843</td>\n",
              "      <td>5</td>\n",
              "      <td>ISIC_0032957</td>\n",
              "    </tr>\n",
              "    <tr>\n",
              "      <th>...</th>\n",
              "      <td>...</td>\n",
              "      <td>...</td>\n",
              "      <td>...</td>\n",
              "      <td>...</td>\n",
              "      <td>...</td>\n",
              "      <td>...</td>\n",
              "      <td>...</td>\n",
              "      <td>...</td>\n",
              "      <td>...</td>\n",
              "      <td>...</td>\n",
              "      <td>...</td>\n",
              "      <td>...</td>\n",
              "      <td>...</td>\n",
              "      <td>...</td>\n",
              "      <td>...</td>\n",
              "      <td>...</td>\n",
              "      <td>...</td>\n",
              "      <td>...</td>\n",
              "      <td>...</td>\n",
              "      <td>...</td>\n",
              "      <td>...</td>\n",
              "    </tr>\n",
              "    <tr>\n",
              "      <th>10010</th>\n",
              "      <td>0.945098</td>\n",
              "      <td>0.596078</td>\n",
              "      <td>0.639216</td>\n",
              "      <td>0.945098</td>\n",
              "      <td>0.592157</td>\n",
              "      <td>0.658824</td>\n",
              "      <td>0.937255</td>\n",
              "      <td>0.592157</td>\n",
              "      <td>0.654902</td>\n",
              "      <td>0.952941</td>\n",
              "      <td>...</td>\n",
              "      <td>0.666667</td>\n",
              "      <td>0.623529</td>\n",
              "      <td>0.933333</td>\n",
              "      <td>0.647059</td>\n",
              "      <td>0.623529</td>\n",
              "      <td>0.913725</td>\n",
              "      <td>0.647059</td>\n",
              "      <td>0.607843</td>\n",
              "      <td>5</td>\n",
              "      <td>ISIC_0026495</td>\n",
              "    </tr>\n",
              "    <tr>\n",
              "      <th>10011</th>\n",
              "      <td>0.635294</td>\n",
              "      <td>0.427451</td>\n",
              "      <td>0.376471</td>\n",
              "      <td>0.643137</td>\n",
              "      <td>0.415686</td>\n",
              "      <td>0.333333</td>\n",
              "      <td>0.643137</td>\n",
              "      <td>0.364706</td>\n",
              "      <td>0.329412</td>\n",
              "      <td>0.654902</td>\n",
              "      <td>...</td>\n",
              "      <td>0.435294</td>\n",
              "      <td>0.431373</td>\n",
              "      <td>0.552941</td>\n",
              "      <td>0.415686</td>\n",
              "      <td>0.403922</td>\n",
              "      <td>0.439216</td>\n",
              "      <td>0.286275</td>\n",
              "      <td>0.223529</td>\n",
              "      <td>1</td>\n",
              "      <td>ISIC_0028323</td>\n",
              "    </tr>\n",
              "    <tr>\n",
              "      <th>10012</th>\n",
              "      <td>0.960784</td>\n",
              "      <td>0.658824</td>\n",
              "      <td>0.737255</td>\n",
              "      <td>0.960784</td>\n",
              "      <td>0.678431</td>\n",
              "      <td>0.756863</td>\n",
              "      <td>0.952941</td>\n",
              "      <td>0.635294</td>\n",
              "      <td>0.717647</td>\n",
              "      <td>0.956863</td>\n",
              "      <td>...</td>\n",
              "      <td>0.627451</td>\n",
              "      <td>0.658824</td>\n",
              "      <td>0.905882</td>\n",
              "      <td>0.619608</td>\n",
              "      <td>0.639216</td>\n",
              "      <td>0.850980</td>\n",
              "      <td>0.600000</td>\n",
              "      <td>0.615686</td>\n",
              "      <td>5</td>\n",
              "      <td>ISIC_0028501</td>\n",
              "    </tr>\n",
              "    <tr>\n",
              "      <th>10013</th>\n",
              "      <td>0.882353</td>\n",
              "      <td>0.572549</td>\n",
              "      <td>0.600000</td>\n",
              "      <td>0.894118</td>\n",
              "      <td>0.560784</td>\n",
              "      <td>0.592157</td>\n",
              "      <td>0.870588</td>\n",
              "      <td>0.568627</td>\n",
              "      <td>0.588235</td>\n",
              "      <td>0.878431</td>\n",
              "      <td>...</td>\n",
              "      <td>0.533333</td>\n",
              "      <td>0.545098</td>\n",
              "      <td>0.807843</td>\n",
              "      <td>0.517647</td>\n",
              "      <td>0.513725</td>\n",
              "      <td>0.772549</td>\n",
              "      <td>0.498039</td>\n",
              "      <td>0.478431</td>\n",
              "      <td>5</td>\n",
              "      <td>ISIC_0024533</td>\n",
              "    </tr>\n",
              "    <tr>\n",
              "      <th>10014</th>\n",
              "      <td>0.949020</td>\n",
              "      <td>0.600000</td>\n",
              "      <td>0.596078</td>\n",
              "      <td>0.952941</td>\n",
              "      <td>0.623529</td>\n",
              "      <td>0.639216</td>\n",
              "      <td>0.933333</td>\n",
              "      <td>0.607843</td>\n",
              "      <td>0.596078</td>\n",
              "      <td>0.937255</td>\n",
              "      <td>...</td>\n",
              "      <td>0.517647</td>\n",
              "      <td>0.490196</td>\n",
              "      <td>0.819608</td>\n",
              "      <td>0.513725</td>\n",
              "      <td>0.490196</td>\n",
              "      <td>0.803922</td>\n",
              "      <td>0.525490</td>\n",
              "      <td>0.498039</td>\n",
              "      <td>5</td>\n",
              "      <td>ISIC_0031509</td>\n",
              "    </tr>\n",
              "  </tbody>\n",
              "</table>\n",
              "<p>10015 rows × 2354 columns</p>\n",
              "</div>\n",
              "    <div class=\"colab-df-buttons\">\n",
              "\n",
              "  <div class=\"colab-df-container\">\n",
              "    <button class=\"colab-df-convert\" onclick=\"convertToInteractive('df-ceea938f-e320-43ab-95fb-3bad92ae0688')\"\n",
              "            title=\"Convert this dataframe to an interactive table.\"\n",
              "            style=\"display:none;\">\n",
              "\n",
              "  <svg xmlns=\"http://www.w3.org/2000/svg\" height=\"24px\" viewBox=\"0 -960 960 960\">\n",
              "    <path d=\"M120-120v-720h720v720H120Zm60-500h600v-160H180v160Zm220 220h160v-160H400v160Zm0 220h160v-160H400v160ZM180-400h160v-160H180v160Zm440 0h160v-160H620v160ZM180-180h160v-160H180v160Zm440 0h160v-160H620v160Z\"/>\n",
              "  </svg>\n",
              "    </button>\n",
              "\n",
              "  <style>\n",
              "    .colab-df-container {\n",
              "      display:flex;\n",
              "      gap: 12px;\n",
              "    }\n",
              "\n",
              "    .colab-df-convert {\n",
              "      background-color: #E8F0FE;\n",
              "      border: none;\n",
              "      border-radius: 50%;\n",
              "      cursor: pointer;\n",
              "      display: none;\n",
              "      fill: #1967D2;\n",
              "      height: 32px;\n",
              "      padding: 0 0 0 0;\n",
              "      width: 32px;\n",
              "    }\n",
              "\n",
              "    .colab-df-convert:hover {\n",
              "      background-color: #E2EBFA;\n",
              "      box-shadow: 0px 1px 2px rgba(60, 64, 67, 0.3), 0px 1px 3px 1px rgba(60, 64, 67, 0.15);\n",
              "      fill: #174EA6;\n",
              "    }\n",
              "\n",
              "    .colab-df-buttons div {\n",
              "      margin-bottom: 4px;\n",
              "    }\n",
              "\n",
              "    [theme=dark] .colab-df-convert {\n",
              "      background-color: #3B4455;\n",
              "      fill: #D2E3FC;\n",
              "    }\n",
              "\n",
              "    [theme=dark] .colab-df-convert:hover {\n",
              "      background-color: #434B5C;\n",
              "      box-shadow: 0px 1px 3px 1px rgba(0, 0, 0, 0.15);\n",
              "      filter: drop-shadow(0px 1px 2px rgba(0, 0, 0, 0.3));\n",
              "      fill: #FFFFFF;\n",
              "    }\n",
              "  </style>\n",
              "\n",
              "    <script>\n",
              "      const buttonEl =\n",
              "        document.querySelector('#df-ceea938f-e320-43ab-95fb-3bad92ae0688 button.colab-df-convert');\n",
              "      buttonEl.style.display =\n",
              "        google.colab.kernel.accessAllowed ? 'block' : 'none';\n",
              "\n",
              "      async function convertToInteractive(key) {\n",
              "        const element = document.querySelector('#df-ceea938f-e320-43ab-95fb-3bad92ae0688');\n",
              "        const dataTable =\n",
              "          await google.colab.kernel.invokeFunction('convertToInteractive',\n",
              "                                                    [key], {});\n",
              "        if (!dataTable) return;\n",
              "\n",
              "        const docLinkHtml = 'Like what you see? Visit the ' +\n",
              "          '<a target=\"_blank\" href=https://colab.research.google.com/notebooks/data_table.ipynb>data table notebook</a>'\n",
              "          + ' to learn more about interactive tables.';\n",
              "        element.innerHTML = '';\n",
              "        dataTable['output_type'] = 'display_data';\n",
              "        await google.colab.output.renderOutput(dataTable, element);\n",
              "        const docLink = document.createElement('div');\n",
              "        docLink.innerHTML = docLinkHtml;\n",
              "        element.appendChild(docLink);\n",
              "      }\n",
              "    </script>\n",
              "  </div>\n",
              "\n",
              "\n",
              "<div id=\"df-56763b26-a59e-48e5-9941-9adc6ccc7274\">\n",
              "  <button class=\"colab-df-quickchart\" onclick=\"quickchart('df-56763b26-a59e-48e5-9941-9adc6ccc7274')\"\n",
              "            title=\"Suggest charts.\"\n",
              "            style=\"display:none;\">\n",
              "\n",
              "<svg xmlns=\"http://www.w3.org/2000/svg\" height=\"24px\"viewBox=\"0 0 24 24\"\n",
              "     width=\"24px\">\n",
              "    <g>\n",
              "        <path d=\"M19 3H5c-1.1 0-2 .9-2 2v14c0 1.1.9 2 2 2h14c1.1 0 2-.9 2-2V5c0-1.1-.9-2-2-2zM9 17H7v-7h2v7zm4 0h-2V7h2v10zm4 0h-2v-4h2v4z\"/>\n",
              "    </g>\n",
              "</svg>\n",
              "  </button>\n",
              "\n",
              "<style>\n",
              "  .colab-df-quickchart {\n",
              "      --bg-color: #E8F0FE;\n",
              "      --fill-color: #1967D2;\n",
              "      --hover-bg-color: #E2EBFA;\n",
              "      --hover-fill-color: #174EA6;\n",
              "      --disabled-fill-color: #AAA;\n",
              "      --disabled-bg-color: #DDD;\n",
              "  }\n",
              "\n",
              "  [theme=dark] .colab-df-quickchart {\n",
              "      --bg-color: #3B4455;\n",
              "      --fill-color: #D2E3FC;\n",
              "      --hover-bg-color: #434B5C;\n",
              "      --hover-fill-color: #FFFFFF;\n",
              "      --disabled-bg-color: #3B4455;\n",
              "      --disabled-fill-color: #666;\n",
              "  }\n",
              "\n",
              "  .colab-df-quickchart {\n",
              "    background-color: var(--bg-color);\n",
              "    border: none;\n",
              "    border-radius: 50%;\n",
              "    cursor: pointer;\n",
              "    display: none;\n",
              "    fill: var(--fill-color);\n",
              "    height: 32px;\n",
              "    padding: 0;\n",
              "    width: 32px;\n",
              "  }\n",
              "\n",
              "  .colab-df-quickchart:hover {\n",
              "    background-color: var(--hover-bg-color);\n",
              "    box-shadow: 0 1px 2px rgba(60, 64, 67, 0.3), 0 1px 3px 1px rgba(60, 64, 67, 0.15);\n",
              "    fill: var(--button-hover-fill-color);\n",
              "  }\n",
              "\n",
              "  .colab-df-quickchart-complete:disabled,\n",
              "  .colab-df-quickchart-complete:disabled:hover {\n",
              "    background-color: var(--disabled-bg-color);\n",
              "    fill: var(--disabled-fill-color);\n",
              "    box-shadow: none;\n",
              "  }\n",
              "\n",
              "  .colab-df-spinner {\n",
              "    border: 2px solid var(--fill-color);\n",
              "    border-color: transparent;\n",
              "    border-bottom-color: var(--fill-color);\n",
              "    animation:\n",
              "      spin 1s steps(1) infinite;\n",
              "  }\n",
              "\n",
              "  @keyframes spin {\n",
              "    0% {\n",
              "      border-color: transparent;\n",
              "      border-bottom-color: var(--fill-color);\n",
              "      border-left-color: var(--fill-color);\n",
              "    }\n",
              "    20% {\n",
              "      border-color: transparent;\n",
              "      border-left-color: var(--fill-color);\n",
              "      border-top-color: var(--fill-color);\n",
              "    }\n",
              "    30% {\n",
              "      border-color: transparent;\n",
              "      border-left-color: var(--fill-color);\n",
              "      border-top-color: var(--fill-color);\n",
              "      border-right-color: var(--fill-color);\n",
              "    }\n",
              "    40% {\n",
              "      border-color: transparent;\n",
              "      border-right-color: var(--fill-color);\n",
              "      border-top-color: var(--fill-color);\n",
              "    }\n",
              "    60% {\n",
              "      border-color: transparent;\n",
              "      border-right-color: var(--fill-color);\n",
              "    }\n",
              "    80% {\n",
              "      border-color: transparent;\n",
              "      border-right-color: var(--fill-color);\n",
              "      border-bottom-color: var(--fill-color);\n",
              "    }\n",
              "    90% {\n",
              "      border-color: transparent;\n",
              "      border-bottom-color: var(--fill-color);\n",
              "    }\n",
              "  }\n",
              "</style>\n",
              "\n",
              "  <script>\n",
              "    async function quickchart(key) {\n",
              "      const quickchartButtonEl =\n",
              "        document.querySelector('#' + key + ' button');\n",
              "      quickchartButtonEl.disabled = true;  // To prevent multiple clicks.\n",
              "      quickchartButtonEl.classList.add('colab-df-spinner');\n",
              "      try {\n",
              "        const charts = await google.colab.kernel.invokeFunction(\n",
              "            'suggestCharts', [key], {});\n",
              "      } catch (error) {\n",
              "        console.error('Error during call to suggestCharts:', error);\n",
              "      }\n",
              "      quickchartButtonEl.classList.remove('colab-df-spinner');\n",
              "      quickchartButtonEl.classList.add('colab-df-quickchart-complete');\n",
              "    }\n",
              "    (() => {\n",
              "      let quickchartButtonEl =\n",
              "        document.querySelector('#df-56763b26-a59e-48e5-9941-9adc6ccc7274 button');\n",
              "      quickchartButtonEl.style.display =\n",
              "        google.colab.kernel.accessAllowed ? 'block' : 'none';\n",
              "    })();\n",
              "  </script>\n",
              "</div>\n",
              "    </div>\n",
              "  </div>\n"
            ]
          },
          "metadata": {},
          "execution_count": 45
        }
      ]
    },
    {
      "cell_type": "markdown",
      "source": [
        "###1.2 RESTART FROM IMAGES FLATTEN CSV FILE"
      ],
      "metadata": {
        "id": "ogivzVvrl43H"
      }
    },
    {
      "cell_type": "code",
      "source": [
        "!unzip /content/skin_cancer_dataset/image_scaled_flatten.zip\n",
        "!mv /content/skin_cancer_dataset/content/skin_cancer_dataset/image_scaled_flatten.csv /content/skin_cancer_dataset/"
      ],
      "metadata": {
        "colab": {
          "base_uri": "https://localhost:8080/"
        },
        "id": "ClZWN2lAx0rb",
        "outputId": "4d51ad61-82d6-49fb-9871-9ffd9a939b41"
      },
      "execution_count": null,
      "outputs": [
        {
          "output_type": "stream",
          "name": "stdout",
          "text": [
            "Archive:  /content/skin_cancer_dataset/image_scaled_flatten.zip\n",
            "replace content/skin_cancer_dataset/image_scaled_flatten.csv? [y]es, [n]o, [A]ll, [N]one, [r]ename: "
          ]
        }
      ]
    },
    {
      "cell_type": "code",
      "source": [
        "#!mv /content/content/skin_cancer_dataset/image_scaled_flatten.csv /content/skin_cancer_dataset/\n",
        "#!rm -r /content/content\n",
        "!rm -r /content/skin_cancer_dataset/content/"
      ],
      "metadata": {
        "id": "gGnftrLO1aeP"
      },
      "execution_count": null,
      "outputs": []
    },
    {
      "cell_type": "code",
      "source": [
        "###IF WE WANT TO RESTART FROM THE FLATTEN CSV FILE\n",
        "# Load the CSV file containing flattened image data and labels.\n",
        "df.to_csv('/content/skin_cancer_dataset/image_scaled_flatten.csv', encoding='utf-8', index=False, lineterminator='\\n')\n",
        "\n",
        "#df = pd.read_csv('/content/image_scaled_flatten.csv')\n",
        "\n",
        "# Extract flattened image data and labels.\n",
        "y = np.array(df[\"y\"])\n",
        "labels = np.array(df[\"labels_id\"])\n",
        "df = df.drop('labels_id', axis=1)\n",
        "df = df.drop('y', axis=1)\n",
        "\n",
        "# Reshape flattened image data back to original dimensions (assuming 224x224x3).\n",
        "\n",
        "original_shape = (len(df), 28, 28, 3)\n",
        "array_data = df.to_numpy()\n",
        "images_from_csv = array_data.reshape(original_shape)\n",
        "images_from_csv.shape, y.shape, labels.shape, df.shape\n"
      ],
      "metadata": {
        "id": "5EutaDN5P7EE",
        "colab": {
          "base_uri": "https://localhost:8080/"
        },
        "outputId": "92f12a49-68dc-449b-88ea-b71ec503ecfd"
      },
      "execution_count": null,
      "outputs": [
        {
          "output_type": "execute_result",
          "data": {
            "text/plain": [
              "((10015, 28, 28, 3), (10015,), (10015,), (10015, 2352))"
            ]
          },
          "metadata": {},
          "execution_count": 37
        }
      ]
    },
    {
      "cell_type": "code",
      "source": [
        "df"
      ],
      "metadata": {
        "colab": {
          "base_uri": "https://localhost:8080/",
          "height": 423
        },
        "id": "nVNsF6QJu6TA",
        "outputId": "c9df50c0-26d1-434a-8ea9-079375fe8372"
      },
      "execution_count": null,
      "outputs": [
        {
          "output_type": "execute_result",
          "data": {
            "text/plain": [
              "           0         1         2         3         4         5         6     \\\n",
              "0      0.647059  0.423529  0.349020  0.682353  0.458824  0.450980  0.682353   \n",
              "1      0.878431  0.552941  0.654902  0.886275  0.572549  0.674510  0.866667   \n",
              "2      0.623529  0.501961  0.513725  0.611765  0.466667  0.490196  0.619608   \n",
              "3      0.737255  0.639216  0.788235  0.764706  0.658824  0.800000  0.749020   \n",
              "4      0.737255  0.737255  0.737255  0.760784  0.760784  0.780392  0.784314   \n",
              "...         ...       ...       ...       ...       ...       ...       ...   \n",
              "10010  0.478431  0.396078  0.419608  0.478431  0.388235  0.427451  0.498039   \n",
              "10011  0.921569  0.607843  0.662745  0.937255  0.623529  0.698039  0.929412   \n",
              "10012  0.949020  0.600000  0.596078  0.949020  0.592157  0.607843  0.937255   \n",
              "10013  0.698039  0.403922  0.482353  0.788235  0.482353  0.564706  0.819608   \n",
              "10014  0.796078  0.784314  0.835294  0.803922  0.796078  0.850980  0.807843   \n",
              "\n",
              "           7         8         9     ...      2342      2343      2344  \\\n",
              "0      0.482353  0.490196  0.678431  ...  0.152941  0.560784  0.364706   \n",
              "1      0.537255  0.650980  0.870588  ...  0.596078  0.815686  0.537255   \n",
              "2      0.486275  0.482353  0.627451  ...  0.549020  0.615686  0.470588   \n",
              "3      0.650980  0.807843  0.764706  ...  0.760784  0.749020  0.607843   \n",
              "4      0.780392  0.792157  0.788235  ...  0.737255  0.749020  0.713725   \n",
              "...         ...       ...       ...  ...       ...       ...       ...   \n",
              "10010  0.407843  0.454902  0.533333  ...  0.509804  0.505882  0.443137   \n",
              "10011  0.619608  0.694118  0.941176  ...  0.560784  0.850980  0.576471   \n",
              "10012  0.584314  0.560784  0.960784  ...  0.580392  0.933333  0.650980   \n",
              "10013  0.533333  0.611765  0.815686  ...  0.611765  0.772549  0.443137   \n",
              "10014  0.796078  0.850980  0.811765  ...  0.862745  0.811765  0.796078   \n",
              "\n",
              "           2345      2346      2347      2348      2349      2350      2351  \n",
              "0      0.321569  0.388235  0.239216  0.258824  0.541176  0.352941  0.352941  \n",
              "1      0.572549  0.796078  0.529412  0.568627  0.792157  0.509804  0.556863  \n",
              "2      0.474510  0.627451  0.494118  0.529412  0.631373  0.494118  0.517647  \n",
              "3      0.752941  0.741176  0.580392  0.749020  0.737255  0.592157  0.752941  \n",
              "4      0.737255  0.749020  0.705882  0.756863  0.725490  0.690196  0.733333  \n",
              "...         ...       ...       ...       ...       ...       ...       ...  \n",
              "10010  0.478431  0.501961  0.435294  0.478431  0.498039  0.431373  0.474510  \n",
              "10011  0.588235  0.843137  0.568627  0.572549  0.811765  0.545098  0.552941  \n",
              "10012  0.607843  0.937255  0.654902  0.603922  0.945098  0.654902  0.588235  \n",
              "10013  0.568627  0.745098  0.458824  0.576471  0.698039  0.466667  0.494118  \n",
              "10014  0.854902  0.792157  0.780392  0.839216  0.788235  0.772549  0.831373  \n",
              "\n",
              "[10015 rows x 2352 columns]"
            ],
            "text/html": [
              "\n",
              "  <div id=\"df-dffa54e1-d88c-4c22-ac6d-769b2c24a90e\" class=\"colab-df-container\">\n",
              "    <div>\n",
              "<style scoped>\n",
              "    .dataframe tbody tr th:only-of-type {\n",
              "        vertical-align: middle;\n",
              "    }\n",
              "\n",
              "    .dataframe tbody tr th {\n",
              "        vertical-align: top;\n",
              "    }\n",
              "\n",
              "    .dataframe thead th {\n",
              "        text-align: right;\n",
              "    }\n",
              "</style>\n",
              "<table border=\"1\" class=\"dataframe\">\n",
              "  <thead>\n",
              "    <tr style=\"text-align: right;\">\n",
              "      <th></th>\n",
              "      <th>0</th>\n",
              "      <th>1</th>\n",
              "      <th>2</th>\n",
              "      <th>3</th>\n",
              "      <th>4</th>\n",
              "      <th>5</th>\n",
              "      <th>6</th>\n",
              "      <th>7</th>\n",
              "      <th>8</th>\n",
              "      <th>9</th>\n",
              "      <th>...</th>\n",
              "      <th>2342</th>\n",
              "      <th>2343</th>\n",
              "      <th>2344</th>\n",
              "      <th>2345</th>\n",
              "      <th>2346</th>\n",
              "      <th>2347</th>\n",
              "      <th>2348</th>\n",
              "      <th>2349</th>\n",
              "      <th>2350</th>\n",
              "      <th>2351</th>\n",
              "    </tr>\n",
              "  </thead>\n",
              "  <tbody>\n",
              "    <tr>\n",
              "      <th>0</th>\n",
              "      <td>0.647059</td>\n",
              "      <td>0.423529</td>\n",
              "      <td>0.349020</td>\n",
              "      <td>0.682353</td>\n",
              "      <td>0.458824</td>\n",
              "      <td>0.450980</td>\n",
              "      <td>0.682353</td>\n",
              "      <td>0.482353</td>\n",
              "      <td>0.490196</td>\n",
              "      <td>0.678431</td>\n",
              "      <td>...</td>\n",
              "      <td>0.152941</td>\n",
              "      <td>0.560784</td>\n",
              "      <td>0.364706</td>\n",
              "      <td>0.321569</td>\n",
              "      <td>0.388235</td>\n",
              "      <td>0.239216</td>\n",
              "      <td>0.258824</td>\n",
              "      <td>0.541176</td>\n",
              "      <td>0.352941</td>\n",
              "      <td>0.352941</td>\n",
              "    </tr>\n",
              "    <tr>\n",
              "      <th>1</th>\n",
              "      <td>0.878431</td>\n",
              "      <td>0.552941</td>\n",
              "      <td>0.654902</td>\n",
              "      <td>0.886275</td>\n",
              "      <td>0.572549</td>\n",
              "      <td>0.674510</td>\n",
              "      <td>0.866667</td>\n",
              "      <td>0.537255</td>\n",
              "      <td>0.650980</td>\n",
              "      <td>0.870588</td>\n",
              "      <td>...</td>\n",
              "      <td>0.596078</td>\n",
              "      <td>0.815686</td>\n",
              "      <td>0.537255</td>\n",
              "      <td>0.572549</td>\n",
              "      <td>0.796078</td>\n",
              "      <td>0.529412</td>\n",
              "      <td>0.568627</td>\n",
              "      <td>0.792157</td>\n",
              "      <td>0.509804</td>\n",
              "      <td>0.556863</td>\n",
              "    </tr>\n",
              "    <tr>\n",
              "      <th>2</th>\n",
              "      <td>0.623529</td>\n",
              "      <td>0.501961</td>\n",
              "      <td>0.513725</td>\n",
              "      <td>0.611765</td>\n",
              "      <td>0.466667</td>\n",
              "      <td>0.490196</td>\n",
              "      <td>0.619608</td>\n",
              "      <td>0.486275</td>\n",
              "      <td>0.482353</td>\n",
              "      <td>0.627451</td>\n",
              "      <td>...</td>\n",
              "      <td>0.549020</td>\n",
              "      <td>0.615686</td>\n",
              "      <td>0.470588</td>\n",
              "      <td>0.474510</td>\n",
              "      <td>0.627451</td>\n",
              "      <td>0.494118</td>\n",
              "      <td>0.529412</td>\n",
              "      <td>0.631373</td>\n",
              "      <td>0.494118</td>\n",
              "      <td>0.517647</td>\n",
              "    </tr>\n",
              "    <tr>\n",
              "      <th>3</th>\n",
              "      <td>0.737255</td>\n",
              "      <td>0.639216</td>\n",
              "      <td>0.788235</td>\n",
              "      <td>0.764706</td>\n",
              "      <td>0.658824</td>\n",
              "      <td>0.800000</td>\n",
              "      <td>0.749020</td>\n",
              "      <td>0.650980</td>\n",
              "      <td>0.807843</td>\n",
              "      <td>0.764706</td>\n",
              "      <td>...</td>\n",
              "      <td>0.760784</td>\n",
              "      <td>0.749020</td>\n",
              "      <td>0.607843</td>\n",
              "      <td>0.752941</td>\n",
              "      <td>0.741176</td>\n",
              "      <td>0.580392</td>\n",
              "      <td>0.749020</td>\n",
              "      <td>0.737255</td>\n",
              "      <td>0.592157</td>\n",
              "      <td>0.752941</td>\n",
              "    </tr>\n",
              "    <tr>\n",
              "      <th>4</th>\n",
              "      <td>0.737255</td>\n",
              "      <td>0.737255</td>\n",
              "      <td>0.737255</td>\n",
              "      <td>0.760784</td>\n",
              "      <td>0.760784</td>\n",
              "      <td>0.780392</td>\n",
              "      <td>0.784314</td>\n",
              "      <td>0.780392</td>\n",
              "      <td>0.792157</td>\n",
              "      <td>0.788235</td>\n",
              "      <td>...</td>\n",
              "      <td>0.737255</td>\n",
              "      <td>0.749020</td>\n",
              "      <td>0.713725</td>\n",
              "      <td>0.737255</td>\n",
              "      <td>0.749020</td>\n",
              "      <td>0.705882</td>\n",
              "      <td>0.756863</td>\n",
              "      <td>0.725490</td>\n",
              "      <td>0.690196</td>\n",
              "      <td>0.733333</td>\n",
              "    </tr>\n",
              "    <tr>\n",
              "      <th>...</th>\n",
              "      <td>...</td>\n",
              "      <td>...</td>\n",
              "      <td>...</td>\n",
              "      <td>...</td>\n",
              "      <td>...</td>\n",
              "      <td>...</td>\n",
              "      <td>...</td>\n",
              "      <td>...</td>\n",
              "      <td>...</td>\n",
              "      <td>...</td>\n",
              "      <td>...</td>\n",
              "      <td>...</td>\n",
              "      <td>...</td>\n",
              "      <td>...</td>\n",
              "      <td>...</td>\n",
              "      <td>...</td>\n",
              "      <td>...</td>\n",
              "      <td>...</td>\n",
              "      <td>...</td>\n",
              "      <td>...</td>\n",
              "      <td>...</td>\n",
              "    </tr>\n",
              "    <tr>\n",
              "      <th>10010</th>\n",
              "      <td>0.478431</td>\n",
              "      <td>0.396078</td>\n",
              "      <td>0.419608</td>\n",
              "      <td>0.478431</td>\n",
              "      <td>0.388235</td>\n",
              "      <td>0.427451</td>\n",
              "      <td>0.498039</td>\n",
              "      <td>0.407843</td>\n",
              "      <td>0.454902</td>\n",
              "      <td>0.533333</td>\n",
              "      <td>...</td>\n",
              "      <td>0.509804</td>\n",
              "      <td>0.505882</td>\n",
              "      <td>0.443137</td>\n",
              "      <td>0.478431</td>\n",
              "      <td>0.501961</td>\n",
              "      <td>0.435294</td>\n",
              "      <td>0.478431</td>\n",
              "      <td>0.498039</td>\n",
              "      <td>0.431373</td>\n",
              "      <td>0.474510</td>\n",
              "    </tr>\n",
              "    <tr>\n",
              "      <th>10011</th>\n",
              "      <td>0.921569</td>\n",
              "      <td>0.607843</td>\n",
              "      <td>0.662745</td>\n",
              "      <td>0.937255</td>\n",
              "      <td>0.623529</td>\n",
              "      <td>0.698039</td>\n",
              "      <td>0.929412</td>\n",
              "      <td>0.619608</td>\n",
              "      <td>0.694118</td>\n",
              "      <td>0.941176</td>\n",
              "      <td>...</td>\n",
              "      <td>0.560784</td>\n",
              "      <td>0.850980</td>\n",
              "      <td>0.576471</td>\n",
              "      <td>0.588235</td>\n",
              "      <td>0.843137</td>\n",
              "      <td>0.568627</td>\n",
              "      <td>0.572549</td>\n",
              "      <td>0.811765</td>\n",
              "      <td>0.545098</td>\n",
              "      <td>0.552941</td>\n",
              "    </tr>\n",
              "    <tr>\n",
              "      <th>10012</th>\n",
              "      <td>0.949020</td>\n",
              "      <td>0.600000</td>\n",
              "      <td>0.596078</td>\n",
              "      <td>0.949020</td>\n",
              "      <td>0.592157</td>\n",
              "      <td>0.607843</td>\n",
              "      <td>0.937255</td>\n",
              "      <td>0.584314</td>\n",
              "      <td>0.560784</td>\n",
              "      <td>0.960784</td>\n",
              "      <td>...</td>\n",
              "      <td>0.580392</td>\n",
              "      <td>0.933333</td>\n",
              "      <td>0.650980</td>\n",
              "      <td>0.607843</td>\n",
              "      <td>0.937255</td>\n",
              "      <td>0.654902</td>\n",
              "      <td>0.603922</td>\n",
              "      <td>0.945098</td>\n",
              "      <td>0.654902</td>\n",
              "      <td>0.588235</td>\n",
              "    </tr>\n",
              "    <tr>\n",
              "      <th>10013</th>\n",
              "      <td>0.698039</td>\n",
              "      <td>0.403922</td>\n",
              "      <td>0.482353</td>\n",
              "      <td>0.788235</td>\n",
              "      <td>0.482353</td>\n",
              "      <td>0.564706</td>\n",
              "      <td>0.819608</td>\n",
              "      <td>0.533333</td>\n",
              "      <td>0.611765</td>\n",
              "      <td>0.815686</td>\n",
              "      <td>...</td>\n",
              "      <td>0.611765</td>\n",
              "      <td>0.772549</td>\n",
              "      <td>0.443137</td>\n",
              "      <td>0.568627</td>\n",
              "      <td>0.745098</td>\n",
              "      <td>0.458824</td>\n",
              "      <td>0.576471</td>\n",
              "      <td>0.698039</td>\n",
              "      <td>0.466667</td>\n",
              "      <td>0.494118</td>\n",
              "    </tr>\n",
              "    <tr>\n",
              "      <th>10014</th>\n",
              "      <td>0.796078</td>\n",
              "      <td>0.784314</td>\n",
              "      <td>0.835294</td>\n",
              "      <td>0.803922</td>\n",
              "      <td>0.796078</td>\n",
              "      <td>0.850980</td>\n",
              "      <td>0.807843</td>\n",
              "      <td>0.796078</td>\n",
              "      <td>0.850980</td>\n",
              "      <td>0.811765</td>\n",
              "      <td>...</td>\n",
              "      <td>0.862745</td>\n",
              "      <td>0.811765</td>\n",
              "      <td>0.796078</td>\n",
              "      <td>0.854902</td>\n",
              "      <td>0.792157</td>\n",
              "      <td>0.780392</td>\n",
              "      <td>0.839216</td>\n",
              "      <td>0.788235</td>\n",
              "      <td>0.772549</td>\n",
              "      <td>0.831373</td>\n",
              "    </tr>\n",
              "  </tbody>\n",
              "</table>\n",
              "<p>10015 rows × 2352 columns</p>\n",
              "</div>\n",
              "    <div class=\"colab-df-buttons\">\n",
              "\n",
              "  <div class=\"colab-df-container\">\n",
              "    <button class=\"colab-df-convert\" onclick=\"convertToInteractive('df-dffa54e1-d88c-4c22-ac6d-769b2c24a90e')\"\n",
              "            title=\"Convert this dataframe to an interactive table.\"\n",
              "            style=\"display:none;\">\n",
              "\n",
              "  <svg xmlns=\"http://www.w3.org/2000/svg\" height=\"24px\" viewBox=\"0 -960 960 960\">\n",
              "    <path d=\"M120-120v-720h720v720H120Zm60-500h600v-160H180v160Zm220 220h160v-160H400v160Zm0 220h160v-160H400v160ZM180-400h160v-160H180v160Zm440 0h160v-160H620v160ZM180-180h160v-160H180v160Zm440 0h160v-160H620v160Z\"/>\n",
              "  </svg>\n",
              "    </button>\n",
              "\n",
              "  <style>\n",
              "    .colab-df-container {\n",
              "      display:flex;\n",
              "      gap: 12px;\n",
              "    }\n",
              "\n",
              "    .colab-df-convert {\n",
              "      background-color: #E8F0FE;\n",
              "      border: none;\n",
              "      border-radius: 50%;\n",
              "      cursor: pointer;\n",
              "      display: none;\n",
              "      fill: #1967D2;\n",
              "      height: 32px;\n",
              "      padding: 0 0 0 0;\n",
              "      width: 32px;\n",
              "    }\n",
              "\n",
              "    .colab-df-convert:hover {\n",
              "      background-color: #E2EBFA;\n",
              "      box-shadow: 0px 1px 2px rgba(60, 64, 67, 0.3), 0px 1px 3px 1px rgba(60, 64, 67, 0.15);\n",
              "      fill: #174EA6;\n",
              "    }\n",
              "\n",
              "    .colab-df-buttons div {\n",
              "      margin-bottom: 4px;\n",
              "    }\n",
              "\n",
              "    [theme=dark] .colab-df-convert {\n",
              "      background-color: #3B4455;\n",
              "      fill: #D2E3FC;\n",
              "    }\n",
              "\n",
              "    [theme=dark] .colab-df-convert:hover {\n",
              "      background-color: #434B5C;\n",
              "      box-shadow: 0px 1px 3px 1px rgba(0, 0, 0, 0.15);\n",
              "      filter: drop-shadow(0px 1px 2px rgba(0, 0, 0, 0.3));\n",
              "      fill: #FFFFFF;\n",
              "    }\n",
              "  </style>\n",
              "\n",
              "    <script>\n",
              "      const buttonEl =\n",
              "        document.querySelector('#df-dffa54e1-d88c-4c22-ac6d-769b2c24a90e button.colab-df-convert');\n",
              "      buttonEl.style.display =\n",
              "        google.colab.kernel.accessAllowed ? 'block' : 'none';\n",
              "\n",
              "      async function convertToInteractive(key) {\n",
              "        const element = document.querySelector('#df-dffa54e1-d88c-4c22-ac6d-769b2c24a90e');\n",
              "        const dataTable =\n",
              "          await google.colab.kernel.invokeFunction('convertToInteractive',\n",
              "                                                    [key], {});\n",
              "        if (!dataTable) return;\n",
              "\n",
              "        const docLinkHtml = 'Like what you see? Visit the ' +\n",
              "          '<a target=\"_blank\" href=https://colab.research.google.com/notebooks/data_table.ipynb>data table notebook</a>'\n",
              "          + ' to learn more about interactive tables.';\n",
              "        element.innerHTML = '';\n",
              "        dataTable['output_type'] = 'display_data';\n",
              "        await google.colab.output.renderOutput(dataTable, element);\n",
              "        const docLink = document.createElement('div');\n",
              "        docLink.innerHTML = docLinkHtml;\n",
              "        element.appendChild(docLink);\n",
              "      }\n",
              "    </script>\n",
              "  </div>\n",
              "\n",
              "\n",
              "<div id=\"df-8bf89902-5186-4d48-b0ee-642943eedcdd\">\n",
              "  <button class=\"colab-df-quickchart\" onclick=\"quickchart('df-8bf89902-5186-4d48-b0ee-642943eedcdd')\"\n",
              "            title=\"Suggest charts.\"\n",
              "            style=\"display:none;\">\n",
              "\n",
              "<svg xmlns=\"http://www.w3.org/2000/svg\" height=\"24px\"viewBox=\"0 0 24 24\"\n",
              "     width=\"24px\">\n",
              "    <g>\n",
              "        <path d=\"M19 3H5c-1.1 0-2 .9-2 2v14c0 1.1.9 2 2 2h14c1.1 0 2-.9 2-2V5c0-1.1-.9-2-2-2zM9 17H7v-7h2v7zm4 0h-2V7h2v10zm4 0h-2v-4h2v4z\"/>\n",
              "    </g>\n",
              "</svg>\n",
              "  </button>\n",
              "\n",
              "<style>\n",
              "  .colab-df-quickchart {\n",
              "      --bg-color: #E8F0FE;\n",
              "      --fill-color: #1967D2;\n",
              "      --hover-bg-color: #E2EBFA;\n",
              "      --hover-fill-color: #174EA6;\n",
              "      --disabled-fill-color: #AAA;\n",
              "      --disabled-bg-color: #DDD;\n",
              "  }\n",
              "\n",
              "  [theme=dark] .colab-df-quickchart {\n",
              "      --bg-color: #3B4455;\n",
              "      --fill-color: #D2E3FC;\n",
              "      --hover-bg-color: #434B5C;\n",
              "      --hover-fill-color: #FFFFFF;\n",
              "      --disabled-bg-color: #3B4455;\n",
              "      --disabled-fill-color: #666;\n",
              "  }\n",
              "\n",
              "  .colab-df-quickchart {\n",
              "    background-color: var(--bg-color);\n",
              "    border: none;\n",
              "    border-radius: 50%;\n",
              "    cursor: pointer;\n",
              "    display: none;\n",
              "    fill: var(--fill-color);\n",
              "    height: 32px;\n",
              "    padding: 0;\n",
              "    width: 32px;\n",
              "  }\n",
              "\n",
              "  .colab-df-quickchart:hover {\n",
              "    background-color: var(--hover-bg-color);\n",
              "    box-shadow: 0 1px 2px rgba(60, 64, 67, 0.3), 0 1px 3px 1px rgba(60, 64, 67, 0.15);\n",
              "    fill: var(--button-hover-fill-color);\n",
              "  }\n",
              "\n",
              "  .colab-df-quickchart-complete:disabled,\n",
              "  .colab-df-quickchart-complete:disabled:hover {\n",
              "    background-color: var(--disabled-bg-color);\n",
              "    fill: var(--disabled-fill-color);\n",
              "    box-shadow: none;\n",
              "  }\n",
              "\n",
              "  .colab-df-spinner {\n",
              "    border: 2px solid var(--fill-color);\n",
              "    border-color: transparent;\n",
              "    border-bottom-color: var(--fill-color);\n",
              "    animation:\n",
              "      spin 1s steps(1) infinite;\n",
              "  }\n",
              "\n",
              "  @keyframes spin {\n",
              "    0% {\n",
              "      border-color: transparent;\n",
              "      border-bottom-color: var(--fill-color);\n",
              "      border-left-color: var(--fill-color);\n",
              "    }\n",
              "    20% {\n",
              "      border-color: transparent;\n",
              "      border-left-color: var(--fill-color);\n",
              "      border-top-color: var(--fill-color);\n",
              "    }\n",
              "    30% {\n",
              "      border-color: transparent;\n",
              "      border-left-color: var(--fill-color);\n",
              "      border-top-color: var(--fill-color);\n",
              "      border-right-color: var(--fill-color);\n",
              "    }\n",
              "    40% {\n",
              "      border-color: transparent;\n",
              "      border-right-color: var(--fill-color);\n",
              "      border-top-color: var(--fill-color);\n",
              "    }\n",
              "    60% {\n",
              "      border-color: transparent;\n",
              "      border-right-color: var(--fill-color);\n",
              "    }\n",
              "    80% {\n",
              "      border-color: transparent;\n",
              "      border-right-color: var(--fill-color);\n",
              "      border-bottom-color: var(--fill-color);\n",
              "    }\n",
              "    90% {\n",
              "      border-color: transparent;\n",
              "      border-bottom-color: var(--fill-color);\n",
              "    }\n",
              "  }\n",
              "</style>\n",
              "\n",
              "  <script>\n",
              "    async function quickchart(key) {\n",
              "      const quickchartButtonEl =\n",
              "        document.querySelector('#' + key + ' button');\n",
              "      quickchartButtonEl.disabled = true;  // To prevent multiple clicks.\n",
              "      quickchartButtonEl.classList.add('colab-df-spinner');\n",
              "      try {\n",
              "        const charts = await google.colab.kernel.invokeFunction(\n",
              "            'suggestCharts', [key], {});\n",
              "      } catch (error) {\n",
              "        console.error('Error during call to suggestCharts:', error);\n",
              "      }\n",
              "      quickchartButtonEl.classList.remove('colab-df-spinner');\n",
              "      quickchartButtonEl.classList.add('colab-df-quickchart-complete');\n",
              "    }\n",
              "    (() => {\n",
              "      let quickchartButtonEl =\n",
              "        document.querySelector('#df-8bf89902-5186-4d48-b0ee-642943eedcdd button');\n",
              "      quickchartButtonEl.style.display =\n",
              "        google.colab.kernel.accessAllowed ? 'block' : 'none';\n",
              "    })();\n",
              "  </script>\n",
              "</div>\n",
              "    </div>\n",
              "  </div>\n"
            ]
          },
          "metadata": {},
          "execution_count": 38
        }
      ]
    },
    {
      "cell_type": "markdown",
      "source": [],
      "metadata": {
        "id": "2mgtNOBbu5-z"
      }
    },
    {
      "cell_type": "code",
      "source": [
        "##Look out the shape for the two files\n",
        "images= images_from_csv\n",
        "\n",
        "print(f'Images downloaded shape : {images.shape}\\n Labels shape : {labels.shape}\\n Flatten images scaled shae : {df.shape}')"
      ],
      "metadata": {
        "colab": {
          "base_uri": "https://localhost:8080/"
        },
        "id": "ABlM3kY0bsGp",
        "outputId": "19f616ff-8808-42d1-eaec-ba9769cffa1f"
      },
      "execution_count": null,
      "outputs": [
        {
          "output_type": "stream",
          "name": "stdout",
          "text": [
            "Images downloaded shape : (10015, 28, 28, 3)\n",
            " Labels shape : (10015,)\n",
            " Flatten images scaled shae : (10015, 2352)\n"
          ]
        }
      ]
    },
    {
      "cell_type": "markdown",
      "source": [
        "##2. CNN DATA ANALYSIS\n"
      ],
      "metadata": {
        "id": "v1b8--toacZR"
      }
    },
    {
      "cell_type": "markdown",
      "source": [
        "###2.1 VISUALIZATION OF THE 7 CLASSES OF SKIN DISEASES"
      ],
      "metadata": {
        "id": "vmox3U_TmKNx"
      }
    },
    {
      "cell_type": "code",
      "source": [
        "# Create a dictionary to store two random image filenames from each category.\n",
        "category_images = {}\n",
        "num_categories = 5  # Assuming you have 7 categories.\n",
        "image_dir = '/content/skin_cancer_dataset/HAM10000_images'\n",
        "# Collect two random image filenames from each category.\n",
        "# Create a dictionary to store two random image filenames from each category.\n",
        "category_images = {}\n",
        "num_categories = 7  # Assuming you have 7 categories.\n",
        "\n",
        "# Collect two random image filenames from each category.\n",
        "for category in range(num_categories):\n",
        "    category_data = data[data['dx_label'] == category]\n",
        "    image_filenames = category_data['image_id_ext'].tolist()\n",
        "\n",
        "    # Shuffle the image filenames to get random samples.\n",
        "    random.shuffle(image_filenames)\n",
        "\n",
        "    # Get the first two images from each category.\n",
        "    random_images = image_filenames[:3]\n",
        "    category_images[category] = random_images\n",
        "\n",
        "# Get the corresponding category names for plotting.\n",
        "category_names = {\n",
        "    0: 'Pictures of Actinic keratoses and intraepithelial carcinoma (akiec, cat 0) ',\n",
        "    1: 'Pictures of basal cell carcinoma (bcc, cat 1)',\n",
        "    2: 'Pictures of benign keratosis-like lesions (bkl, cat 2)',\n",
        "    3: 'Pictures of dermatofibroma (df, cat 3)',\n",
        "    4: 'Pictures of melanoma (mel, cat 4)',\n",
        "    5: 'Pictures of melanocytic nevi (nv, cat 5)',\n",
        "    6: 'Pictures of vascular lesions (vasc, cat 6)'\n",
        "}\n",
        "\n",
        "# Plot the two images from each category.\n",
        "fig, axes = plt.subplots(num_categories, 3, figsize=(8, 2 * num_categories))\n",
        "\n",
        "for i, category in enumerate(range(num_categories)):\n",
        "    for j in range(3):\n",
        "        image_filename = category_images[category][j]\n",
        "        image_path = os.path.join(image_dir, image_filename)\n",
        "        img = cv2.imread(image_path)\n",
        "        img = cv2.cvtColor(img, cv2.COLOR_BGR2RGB)  # Convert to RGB format\n",
        "        axes[i, j].imshow(img)\n",
        "        #axes[i, j].set_title(f'{category}: {category_names[category]}')\n",
        "        axes[i, j].axis('off')\n",
        "\n",
        "    axes[i, 1].set_title(f'{category_names[category]}', fontsize=14)\n",
        "\n",
        "\n",
        "plt.tight_layout()\n",
        "plt.show()\n",
        "plt.savefig('Skin_diseases.jpg', format='jpg')"
      ],
      "metadata": {
        "colab": {
          "base_uri": "https://localhost:8080/",
          "height": 252
        },
        "id": "GM241Mh_of3K",
        "outputId": "f860af8c-bc20-4968-ab24-19826ce0610c"
      },
      "execution_count": null,
      "outputs": [
        {
          "output_type": "error",
          "ename": "KeyError",
          "evalue": "ignored",
          "traceback": [
            "\u001b[0;31m---------------------------------------------------------------------------\u001b[0m",
            "\u001b[0;31mKeyError\u001b[0m                                  Traceback (most recent call last)",
            "\u001b[0;32m<ipython-input-79-e3270a2952d9>\u001b[0m in \u001b[0;36m<cell line: 11>\u001b[0;34m()\u001b[0m\n\u001b[1;32m     10\u001b[0m \u001b[0;31m# Collect two random image filenames from each category.\u001b[0m\u001b[0;34m\u001b[0m\u001b[0;34m\u001b[0m\u001b[0m\n\u001b[1;32m     11\u001b[0m \u001b[0;32mfor\u001b[0m \u001b[0mcategory\u001b[0m \u001b[0;32min\u001b[0m \u001b[0mrange\u001b[0m\u001b[0;34m(\u001b[0m\u001b[0mnum_categories\u001b[0m\u001b[0;34m)\u001b[0m\u001b[0;34m:\u001b[0m\u001b[0;34m\u001b[0m\u001b[0;34m\u001b[0m\u001b[0m\n\u001b[0;32m---> 12\u001b[0;31m     \u001b[0mcategory_data\u001b[0m \u001b[0;34m=\u001b[0m \u001b[0mdata\u001b[0m\u001b[0;34m[\u001b[0m\u001b[0mdata\u001b[0m\u001b[0;34m[\u001b[0m\u001b[0;34m'dx_label'\u001b[0m\u001b[0;34m]\u001b[0m \u001b[0;34m==\u001b[0m \u001b[0mcategory\u001b[0m\u001b[0;34m]\u001b[0m\u001b[0;34m\u001b[0m\u001b[0;34m\u001b[0m\u001b[0m\n\u001b[0m\u001b[1;32m     13\u001b[0m     \u001b[0mimage_filenames\u001b[0m \u001b[0;34m=\u001b[0m \u001b[0mcategory_data\u001b[0m\u001b[0;34m[\u001b[0m\u001b[0;34m'image_id_ext'\u001b[0m\u001b[0;34m]\u001b[0m\u001b[0;34m.\u001b[0m\u001b[0mtolist\u001b[0m\u001b[0;34m(\u001b[0m\u001b[0;34m)\u001b[0m\u001b[0;34m\u001b[0m\u001b[0;34m\u001b[0m\u001b[0m\n\u001b[1;32m     14\u001b[0m \u001b[0;34m\u001b[0m\u001b[0m\n",
            "\u001b[0;31mKeyError\u001b[0m: 'dx_label'"
          ]
        }
      ]
    },
    {
      "cell_type": "code",
      "source": [
        "###download file\n",
        "from google.colab import files\n",
        "files.download('/content/skin_cancer_dataset/image_scaled_flatten.csv')\n"
      ],
      "metadata": {
        "colab": {
          "base_uri": "https://localhost:8080/",
          "height": 17
        },
        "id": "Mb9HBU34JhSh",
        "outputId": "ab7423a3-16c2-4961-eaad-1eba9ec6100d"
      },
      "execution_count": null,
      "outputs": [
        {
          "output_type": "display_data",
          "data": {
            "text/plain": [
              "<IPython.core.display.Javascript object>"
            ],
            "application/javascript": [
              "\n",
              "    async function download(id, filename, size) {\n",
              "      if (!google.colab.kernel.accessAllowed) {\n",
              "        return;\n",
              "      }\n",
              "      const div = document.createElement('div');\n",
              "      const label = document.createElement('label');\n",
              "      label.textContent = `Downloading \"${filename}\": `;\n",
              "      div.appendChild(label);\n",
              "      const progress = document.createElement('progress');\n",
              "      progress.max = size;\n",
              "      div.appendChild(progress);\n",
              "      document.body.appendChild(div);\n",
              "\n",
              "      const buffers = [];\n",
              "      let downloaded = 0;\n",
              "\n",
              "      const channel = await google.colab.kernel.comms.open(id);\n",
              "      // Send a message to notify the kernel that we're ready.\n",
              "      channel.send({})\n",
              "\n",
              "      for await (const message of channel.messages) {\n",
              "        // Send a message to notify the kernel that we're ready.\n",
              "        channel.send({})\n",
              "        if (message.buffers) {\n",
              "          for (const buffer of message.buffers) {\n",
              "            buffers.push(buffer);\n",
              "            downloaded += buffer.byteLength;\n",
              "            progress.value = downloaded;\n",
              "          }\n",
              "        }\n",
              "      }\n",
              "      const blob = new Blob(buffers, {type: 'application/binary'});\n",
              "      const a = document.createElement('a');\n",
              "      a.href = window.URL.createObjectURL(blob);\n",
              "      a.download = filename;\n",
              "      div.appendChild(a);\n",
              "      a.click();\n",
              "      div.remove();\n",
              "    }\n",
              "  "
            ]
          },
          "metadata": {}
        },
        {
          "output_type": "display_data",
          "data": {
            "text/plain": [
              "<IPython.core.display.Javascript object>"
            ],
            "application/javascript": [
              "download(\"download_7c8a67cb-5890-49c1-a4d4-be317e9552d6\", \"image_scaled_flatten.csv\", 441555435)"
            ]
          },
          "metadata": {}
        }
      ]
    },
    {
      "cell_type": "code",
      "source": [
        "##check if we have the same values by categories in y & data\n",
        "unique_labels, label_counts = np.unique(y, return_counts=True)\n",
        "label_count_dict = dict(zip(unique_labels, label_counts))\n",
        "\n",
        "# Print the counts for each unique label.\n",
        "for label, count in label_count_dict.items():\n",
        "    print(f\"Label: {label}, Count: {count}\")\n",
        "print(data[\"dx_label\"].value_counts())"
      ],
      "metadata": {
        "colab": {
          "base_uri": "https://localhost:8080/"
        },
        "id": "K78JzayIwkAI",
        "outputId": "ad3ce064-9fbf-4a15-8c6f-bab4a4d5fb79"
      },
      "execution_count": null,
      "outputs": [
        {
          "output_type": "stream",
          "name": "stdout",
          "text": [
            "Label: 0, Count: 327\n",
            "Label: 1, Count: 514\n",
            "Label: 2, Count: 1099\n",
            "Label: 3, Count: 115\n",
            "Label: 4, Count: 1113\n",
            "Label: 5, Count: 6705\n",
            "Label: 6, Count: 142\n",
            "5    6705\n",
            "4    1113\n",
            "2    1099\n",
            "1     514\n",
            "0     327\n",
            "6     142\n",
            "3     115\n",
            "Name: dx_label, dtype: int64\n"
          ]
        }
      ]
    },
    {
      "cell_type": "markdown",
      "source": [
        "###2.2 Prepare Dataset for CNN"
      ],
      "metadata": {
        "id": "gRtLjbXLmtvH"
      }
    },
    {
      "cell_type": "code",
      "source": [
        "##Scale the images\n",
        "##Image in dimension 224, 224,3 with pixel value from 1 to 255\n",
        "images_scaled =  images/255"
      ],
      "metadata": {
        "id": "uYIUfuICxNEg"
      },
      "execution_count": null,
      "outputs": []
    },
    {
      "cell_type": "code",
      "source": [
        "##SPLIT DATASET IN TRAIN & TEST\n",
        "# Step 2: Split the Data into Training and Testing Sets\n",
        "X_train, X_test, y_train, y_test = train_test_split(images_from_csv, y, stratify= y, test_size=0.2, random_state=42)\n",
        "X_train.shape, y_train.shape, X_test.shape, y_test.shape"
      ],
      "metadata": {
        "id": "X6CEE8igoATf",
        "colab": {
          "base_uri": "https://localhost:8080/"
        },
        "outputId": "3595b595-6ecb-47e7-843e-ee82fd55f167"
      },
      "execution_count": null,
      "outputs": [
        {
          "output_type": "execute_result",
          "data": {
            "text/plain": [
              "((8012, 28, 28, 3), (8012,), (2003, 28, 28, 3), (2003,))"
            ]
          },
          "metadata": {},
          "execution_count": 44
        }
      ]
    },
    {
      "cell_type": "code",
      "source": [
        "##look for ratio categorical in train & test\n",
        "# Calculate the unique labels and their counts in training data.\n",
        "unique_labels_train, counts_train = np.unique(y_train, return_counts=True)\n",
        "\n",
        "# Calculate the unique labels and their counts in testing data.\n",
        "unique_labels_test, counts_test = np.unique(y_test, return_counts=True)\n",
        "\n",
        "# Create dictionaries to store label counts.\n",
        "label_counts_train = dict(zip(unique_labels_train, counts_train))\n",
        "label_counts_test = dict(zip(unique_labels_test, counts_test))\n",
        "\n",
        "# Print the label counts for training and testing data.\n",
        "print(\"Label Counts in Training Data:\")\n",
        "for label, count in label_counts_train.items():\n",
        "    print(f\"Label {label}: {float(count/8012*100):.2f} % samples\")\n",
        "\n",
        "print(\"\\nLabel Counts in Testing Data:\")\n",
        "for label, count in label_counts_test.items():\n",
        "    print(f\"Label {label}: {float(count/2003*100):.2f} % samples\")\n"
      ],
      "metadata": {
        "colab": {
          "base_uri": "https://localhost:8080/"
        },
        "id": "B_qMTB36TrvG",
        "outputId": "4a73a414-5585-4320-df5a-dce3cbb28bd8"
      },
      "execution_count": null,
      "outputs": [
        {
          "output_type": "stream",
          "name": "stdout",
          "text": [
            "Label Counts in Training Data:\n",
            "Label 0: 3.27 % samples\n",
            "Label 1: 5.13 % samples\n",
            "Label 2: 10.97 % samples\n",
            "Label 3: 1.15 % samples\n",
            "Label 4: 11.11 % samples\n",
            "Label 5: 66.95 % samples\n",
            "Label 6: 1.42 % samples\n",
            "\n",
            "Label Counts in Testing Data:\n",
            "Label 0: 3.25 % samples\n",
            "Label 1: 5.14 % samples\n",
            "Label 2: 10.98 % samples\n",
            "Label 3: 1.15 % samples\n",
            "Label 4: 11.13 % samples\n",
            "Label 5: 66.95 % samples\n",
            "Label 6: 1.40 % samples\n"
          ]
        }
      ]
    },
    {
      "cell_type": "markdown",
      "source": [
        "###2.3 CNN Modelling\n",
        "\n",
        "\n"
      ],
      "metadata": {
        "id": "-Lup3927e2ab"
      }
    },
    {
      "cell_type": "code",
      "source": [
        "##Transform y to categorical data\n",
        "y_train = to_categorical(y_train, num_classes=7)\n",
        "y_test = to_categorical(y_test, num_classes=7)\n",
        "y_train.shape, y_test.shape"
      ],
      "metadata": {
        "colab": {
          "base_uri": "https://localhost:8080/"
        },
        "id": "Cf68IIbDVaBv",
        "outputId": "c458d708-7819-4912-c877-d49f53cd9cf5"
      },
      "execution_count": null,
      "outputs": [
        {
          "output_type": "execute_result",
          "data": {
            "text/plain": [
              "((8012, 7), (2003, 7))"
            ]
          },
          "metadata": {},
          "execution_count": 46
        }
      ]
    },
    {
      "cell_type": "markdown",
      "source": [
        "\n",
        "\n",
        "####FIRST CNN CLASSICAL MODEL\n",
        "#####**Model description:**\n",
        "Model sequential\n",
        "\n",
        "- Conv2D layer with 32 kernels of size (3,3) & input shape 28,28,3, activation function ReLu\n",
        "- Maxpooling 2D 2,2\n",
        "- Conv2D with 64 kernels sized (3,3), activation function ReLu\n",
        "- Maxpooling 2D 2,2\n",
        "- Conv2D with 64 kernels sized (3,3), activation function ReLu\n",
        "- Flatten images\n",
        "- Dense layers 64 units, ReLu activation function\n",
        "- Dense layer 7 units, ReLu activation function\n",
        "- Output Dense Layers, with 7 units for the 7 skin cancers categories and Softmax activation\n",
        "#####**Model compilation:**\n",
        "- Compile with adam optimizer, and categorical crossentropy loss, accuracy measured\n",
        "- early stopping defines with patience 10 on accuracy score\n",
        "#####**Model run:**\n",
        "Model ran with batch = 202, 25 epochs\n"
      ],
      "metadata": {
        "id": "nJnLrKvffKcE"
      }
    },
    {
      "cell_type": "code",
      "source": [
        "##Build CNN models\n",
        "def model1():\n",
        "  model1 = Sequential()\n",
        "  model1.add(Conv2D(filters=32, kernel_size=(3,3), activation='relu', input_shape=(28,28,3)))\n",
        "  model1.add(MaxPooling2D(pool_size=(2, 2)))\n",
        "  model1.add(Conv2D(filters=64, kernel_size=(3,3), activation='relu'))\n",
        "  model1.add(MaxPooling2D(pool_size=(2, 2)))\n",
        "  model1.add(Conv2D(filters=64, kernel_size=(3, 3), activation='relu'))\n",
        "  model1.add(Flatten())\n",
        "  model1.add(Dense(84, activation='relu'))\n",
        "  model1.add(Dense(7, activation='softmax'))\n",
        "  return model1\n",
        "\n",
        "model_1 = model1()"
      ],
      "metadata": {
        "id": "VI2uKAt5oJ94"
      },
      "execution_count": null,
      "outputs": []
    },
    {
      "cell_type": "code",
      "source": [
        "##Compile the model\n",
        "# Compile the model.\n",
        "model_1.compile(optimizer='adam',\n",
        "              loss='categorical_crossentropy',  # Use categorical cross-entropy for multi-class classification\n",
        "              metrics=['accuracy'])\n",
        "# TODO: Compile and fit your model\n",
        "callback = [EarlyStopping(monitor='accuracy', patience=10)]\n",
        "\n"
      ],
      "metadata": {
        "id": "kNP2W43XoMWv"
      },
      "execution_count": null,
      "outputs": []
    },
    {
      "cell_type": "code",
      "source": [
        "##Model summary\n",
        "model_1.summary()"
      ],
      "metadata": {
        "colab": {
          "base_uri": "https://localhost:8080/"
        },
        "id": "KFK_2AlNaYas",
        "outputId": "95ff6676-9803-4b1b-875b-b52c7b2e5ee0"
      },
      "execution_count": null,
      "outputs": [
        {
          "output_type": "stream",
          "name": "stdout",
          "text": [
            "Model: \"sequential\"\n",
            "_________________________________________________________________\n",
            " Layer (type)                Output Shape              Param #   \n",
            "=================================================================\n",
            " conv2d (Conv2D)             (None, 26, 26, 32)        896       \n",
            "                                                                 \n",
            " max_pooling2d (MaxPooling2D  (None, 13, 13, 32)       0         \n",
            " )                                                               \n",
            "                                                                 \n",
            " conv2d_1 (Conv2D)           (None, 11, 11, 64)        18496     \n",
            "                                                                 \n",
            " max_pooling2d_1 (MaxPooling  (None, 5, 5, 64)         0         \n",
            " 2D)                                                             \n",
            "                                                                 \n",
            " conv2d_2 (Conv2D)           (None, 3, 3, 64)          36928     \n",
            "                                                                 \n",
            " flatten (Flatten)           (None, 576)               0         \n",
            "                                                                 \n",
            " dense (Dense)               (None, 84)                48468     \n",
            "                                                                 \n",
            " dense_1 (Dense)             (None, 7)                 595       \n",
            "                                                                 \n",
            "=================================================================\n",
            "Total params: 105,383\n",
            "Trainable params: 105,383\n",
            "Non-trainable params: 0\n",
            "_________________________________________________________________\n"
          ]
        }
      ]
    },
    {
      "cell_type": "code",
      "source": [
        "##Run model\n",
        "history = model_1.fit(X_train,y_train,\n",
        "                            validation_data=(X_test,y_test),\n",
        "                            batch_size = 202,\n",
        "                            epochs = 25,\n",
        "                            callbacks = callback)"
      ],
      "metadata": {
        "id": "F188mzeOoOCH",
        "colab": {
          "base_uri": "https://localhost:8080/"
        },
        "outputId": "80dce710-5176-4dfc-d0c2-319a2b99d6e1"
      },
      "execution_count": null,
      "outputs": [
        {
          "output_type": "stream",
          "name": "stdout",
          "text": [
            "Epoch 1/25\n",
            "40/40 [==============================] - 12s 248ms/step - loss: 1.1746 - accuracy: 0.6565 - val_loss: 1.0215 - val_accuracy: 0.6695\n",
            "Epoch 2/25\n",
            "40/40 [==============================] - 11s 274ms/step - loss: 0.9884 - accuracy: 0.6695 - val_loss: 0.9807 - val_accuracy: 0.6695\n",
            "Epoch 3/25\n",
            "40/40 [==============================] - 12s 292ms/step - loss: 0.9314 - accuracy: 0.6719 - val_loss: 0.9095 - val_accuracy: 0.6760\n",
            "Epoch 4/25\n",
            "40/40 [==============================] - 8s 205ms/step - loss: 0.8867 - accuracy: 0.6824 - val_loss: 0.8740 - val_accuracy: 0.6800\n",
            "Epoch 5/25\n",
            "40/40 [==============================] - 9s 237ms/step - loss: 0.8574 - accuracy: 0.6885 - val_loss: 0.8738 - val_accuracy: 0.6900\n",
            "Epoch 6/25\n",
            "40/40 [==============================] - 10s 242ms/step - loss: 0.8418 - accuracy: 0.6952 - val_loss: 0.8636 - val_accuracy: 0.6965\n",
            "Epoch 7/25\n",
            "40/40 [==============================] - 9s 236ms/step - loss: 0.8175 - accuracy: 0.7033 - val_loss: 0.8142 - val_accuracy: 0.6965\n",
            "Epoch 8/25\n",
            "40/40 [==============================] - 10s 235ms/step - loss: 0.8028 - accuracy: 0.7052 - val_loss: 0.8058 - val_accuracy: 0.7049\n",
            "Epoch 9/25\n",
            "40/40 [==============================] - 10s 240ms/step - loss: 0.7944 - accuracy: 0.7097 - val_loss: 0.7900 - val_accuracy: 0.7114\n",
            "Epoch 10/25\n",
            "40/40 [==============================] - 9s 222ms/step - loss: 0.7812 - accuracy: 0.7124 - val_loss: 0.7869 - val_accuracy: 0.7199\n",
            "Epoch 11/25\n",
            "40/40 [==============================] - 9s 215ms/step - loss: 0.7672 - accuracy: 0.7133 - val_loss: 0.7671 - val_accuracy: 0.7089\n",
            "Epoch 12/25\n",
            "40/40 [==============================] - 9s 238ms/step - loss: 0.7443 - accuracy: 0.7164 - val_loss: 0.7641 - val_accuracy: 0.7229\n",
            "Epoch 13/25\n",
            "40/40 [==============================] - 11s 273ms/step - loss: 0.7283 - accuracy: 0.7270 - val_loss: 0.7658 - val_accuracy: 0.7039\n",
            "Epoch 14/25\n",
            "40/40 [==============================] - 8s 206ms/step - loss: 0.7257 - accuracy: 0.7224 - val_loss: 0.7712 - val_accuracy: 0.7139\n",
            "Epoch 15/25\n",
            "40/40 [==============================] - 10s 242ms/step - loss: 0.7252 - accuracy: 0.7198 - val_loss: 0.7431 - val_accuracy: 0.7299\n",
            "Epoch 16/25\n",
            "40/40 [==============================] - 10s 245ms/step - loss: 0.7021 - accuracy: 0.7324 - val_loss: 0.7213 - val_accuracy: 0.7314\n",
            "Epoch 17/25\n",
            "40/40 [==============================] - 8s 206ms/step - loss: 0.7014 - accuracy: 0.7364 - val_loss: 0.7129 - val_accuracy: 0.7329\n",
            "Epoch 18/25\n",
            "40/40 [==============================] - 10s 235ms/step - loss: 0.6995 - accuracy: 0.7353 - val_loss: 0.7950 - val_accuracy: 0.7124\n",
            "Epoch 19/25\n",
            "40/40 [==============================] - 10s 246ms/step - loss: 0.7111 - accuracy: 0.7355 - val_loss: 0.7209 - val_accuracy: 0.7354\n",
            "Epoch 20/25\n",
            "40/40 [==============================] - 10s 245ms/step - loss: 0.6722 - accuracy: 0.7440 - val_loss: 0.7172 - val_accuracy: 0.7174\n",
            "Epoch 21/25\n",
            "40/40 [==============================] - 8s 205ms/step - loss: 0.6684 - accuracy: 0.7485 - val_loss: 0.7197 - val_accuracy: 0.7314\n",
            "Epoch 22/25\n",
            "40/40 [==============================] - 9s 238ms/step - loss: 0.6735 - accuracy: 0.7468 - val_loss: 0.7314 - val_accuracy: 0.7239\n",
            "Epoch 23/25\n",
            "40/40 [==============================] - 10s 248ms/step - loss: 0.6643 - accuracy: 0.7469 - val_loss: 0.7117 - val_accuracy: 0.7289\n",
            "Epoch 24/25\n",
            "40/40 [==============================] - 8s 208ms/step - loss: 0.6526 - accuracy: 0.7530 - val_loss: 0.7008 - val_accuracy: 0.7454\n",
            "Epoch 25/25\n",
            "40/40 [==============================] - 11s 266ms/step - loss: 0.6279 - accuracy: 0.7630 - val_loss: 0.7150 - val_accuracy: 0.7279\n"
          ]
        }
      ]
    },
    {
      "cell_type": "code",
      "source": [
        "##Saving the model 1\n",
        "# Assuming 'model' is your trained CNN model\n",
        "with open('cnn_model1.pkl', 'wb') as model_file:\n",
        "    pickle.dump(model_1, model_file)\n",
        "\n",
        "# Assuming 'model' is your trained CNN model\n",
        "model_1.save('cnn_mode1.h5')"
      ],
      "metadata": {
        "id": "LmE3JqO_NxRB"
      },
      "execution_count": null,
      "outputs": []
    },
    {
      "cell_type": "code",
      "source": [
        "###To reimport model\n",
        "\n",
        "# Load the saved model\n",
        "with open('cnn_model.pkl', 'rb') as model_file:\n",
        "    loaded_model = pickle.load(model_file)\n",
        "\n",
        "# Use the loaded model for prediction\n",
        "predictions = loaded_model.predict(your_input_data)"
      ],
      "metadata": {
        "id": "HR85N6PBPOYY"
      },
      "execution_count": null,
      "outputs": []
    },
    {
      "cell_type": "code",
      "source": [
        "from tensorflow.keras.models import load_model\n",
        "\n",
        "# Load the saved model\n",
        "loaded_model = load_model('cnn_model.h5')\n",
        "\n",
        "# Use the loaded model for prediction\n",
        "predictions = loaded_model.predict(your_input_data)"
      ],
      "metadata": {
        "id": "AUFYYq9gPddw"
      },
      "execution_count": null,
      "outputs": []
    },
    {
      "cell_type": "markdown",
      "source": [
        "\n",
        "####LENET MODEL\n",
        "####LeNet5 CNN CLASSICAL MODEL\n",
        "#####**Model description:**\n",
        "Model sequential\n",
        "- Conv2D layer with 6 kernels of size (5,5) & input shape 28,28,3, activation function ReLu\n",
        "- Maxpooling 2D 2,2\n",
        "- Conv2D with 16 kernels sized (5,5), activation function ReLu\n",
        "- Maxpooling 2D 2,2\n",
        "- Flatten images\n",
        "- Dense layers 120 units, ReLu activation function\n",
        "- Dense layer 84 units, ReLu activation function\n",
        "- Output Dense Layers, with 7 units for the 7 skin cancers categories and Softmax activation\n",
        "#####**Model compilation:**\n",
        "- Compile with adam optimizer, and categorical crossentropy loss, accuracy measured\n",
        "- early stopping defines with patience 10 on accuracy score\n",
        "#####**Model run:**\n",
        "Model ran with batch = 202, 25 epochs\n"
      ],
      "metadata": {
        "id": "GOeuO1rWfRho"
      }
    },
    {
      "cell_type": "code",
      "source": [
        "##trying LeNet model\n",
        "##built the model\n",
        "def lenet():\n",
        "    # Create the Sequential object\n",
        "    model_LeNet5 = Sequential()\n",
        "    #1: Convulsion Layer C1\n",
        "    model_LeNet5.add(Conv2D(filters=6, kernel_size=(5,5), activation='relu', input_shape=(28,28,3), padding='same'))\n",
        "    #2: Subsampling layer S2 / Maxpooling\n",
        "    model_LeNet5.add(MaxPooling2D(pool_size=(2, 2)))\n",
        "    #3: Convultion layer C3\n",
        "    model_LeNet5.add(Conv2D(filters=16, kernel_size=(5,5), activation='relu'))\n",
        "    #4: Subsampling layer S4 / Maxpooling\n",
        "    model_LeNet5.add(MaxPooling2D(pool_size=(2, 2)))\n",
        "    ##flatten\n",
        "    model_LeNet5.add(Flatten())\n",
        "    #5: Dense Layer C5\n",
        "    model_LeNet5.add(Dense(120, activation='relu', name='LAYER_C5'))\n",
        "    #6: Full connection layer with Gaussia, kernel\n",
        "    model_LeNet5.add(Dense(84, activation='relu', name='LAYER_F6'))\n",
        "    #last neuron with 10 unit because 10y values\n",
        "    model_LeNet5.add(Dense(7, activation='softmax', name='output_layer'))\n",
        "    #return created model\n",
        "    return model_LeNet5\n",
        "model_LeNet5 = lenet()"
      ],
      "metadata": {
        "id": "7Mjn0uH8b2Xs"
      },
      "execution_count": null,
      "outputs": []
    },
    {
      "cell_type": "code",
      "source": [
        "##compile LeNet model\n",
        "# TODO: Compile and fit your model\n",
        "from tensorflow.keras.callbacks import EarlyStopping\n",
        "callback = [EarlyStopping(monitor='accuracy', patience=10)]\n",
        "model_LeNet5.summary()\n",
        "model_LeNet5.compile(optimizer='adam',loss = 'categorical_crossentropy',metrics = ['accuracy'])\n"
      ],
      "metadata": {
        "colab": {
          "base_uri": "https://localhost:8080/"
        },
        "id": "XHW8ymRqcEVx",
        "outputId": "8da18d96-76c3-443b-c927-5b135045c493"
      },
      "execution_count": null,
      "outputs": [
        {
          "output_type": "stream",
          "name": "stdout",
          "text": [
            "Model: \"sequential_6\"\n",
            "_________________________________________________________________\n",
            " Layer (type)                Output Shape              Param #   \n",
            "=================================================================\n",
            " conv2d_15 (Conv2D)          (None, 28, 28, 6)         456       \n",
            "                                                                 \n",
            " max_pooling2d_12 (MaxPoolin  (None, 14, 14, 6)        0         \n",
            " g2D)                                                            \n",
            "                                                                 \n",
            " conv2d_16 (Conv2D)          (None, 10, 10, 16)        2416      \n",
            "                                                                 \n",
            " max_pooling2d_13 (MaxPoolin  (None, 5, 5, 16)         0         \n",
            " g2D)                                                            \n",
            "                                                                 \n",
            " flatten_6 (Flatten)         (None, 400)               0         \n",
            "                                                                 \n",
            " LAYER_C5 (Dense)            (None, 120)               48120     \n",
            "                                                                 \n",
            " LAYER_F6 (Dense)            (None, 84)                10164     \n",
            "                                                                 \n",
            " output_layer (Dense)        (None, 7)                 595       \n",
            "                                                                 \n",
            "=================================================================\n",
            "Total params: 61,751\n",
            "Trainable params: 61,751\n",
            "Non-trainable params: 0\n",
            "_________________________________________________________________\n"
          ]
        }
      ]
    },
    {
      "cell_type": "code",
      "source": [
        "##Try LeNet model\n",
        "##fit the model\n",
        "history2 = model_LeNet5.fit(X_train,y_train,\n",
        "                            validation_data=(X_test,y_test),\n",
        "                            batch_size = 202,\n",
        "                            epochs = 25,\n",
        "                            callbacks = callback)"
      ],
      "metadata": {
        "id": "l98Bmf9NcxTw"
      },
      "execution_count": null,
      "outputs": []
    },
    {
      "cell_type": "code",
      "source": [
        "###Saving LeNet5 model\n",
        "# Assuming 'model' is your trained CNN model\n",
        "with open('cnn_LeNet5.pkl', 'wb') as model_file:\n",
        "    pickle.dump(model_LeNet5, model_file)\n",
        "\n",
        "# Assuming 'model' is your trained CNN model\n",
        "model_LeNet5.save('cnn_LeNet5.h5')"
      ],
      "metadata": {
        "id": "uzcIaOCJP37q"
      },
      "execution_count": null,
      "outputs": []
    },
    {
      "cell_type": "markdown",
      "source": [
        "####Third Model\n",
        "#####**Model description:**\n",
        "Model sequential\n",
        "\n",
        "- Conv2D layer with 6 kernels of size 5 & input shape 28,28,3, activation function ReLu\n",
        "- Maxpooling 2D 2,2\n",
        "- Conv2D with 16 kernels sized 5, activation function ReLu\n",
        "- Maxpooling 2D 2,2\n",
        "- Flatten images\n",
        "- Dense layers 120 units, ReLu activation function\n",
        "- Dense layer 84 units, ReLu activation function\n",
        "- Output Dense Layers, with 7 units for the 7 skin cancers categories and Softmax activation\n",
        "kernel_regularization l2 added for each Conv2D and Dense layer.\n",
        "#####**Model compilation:**\n",
        "- Compile with adam optimizer, and categorical crossentropy loss, accuracy measured\n",
        "- early stopping defines with patience 10 on accuracy score\n",
        "#####**Model run:**\n",
        "Model ran with batch = 202, 25 epochs\n"
      ],
      "metadata": {
        "id": "bIELnzql5V2c"
      }
    },
    {
      "cell_type": "code",
      "source": [
        "# TODO: Build your model\n",
        "from tensorflow.keras.layers import Dense, Conv2D, MaxPooling2D, Flatten, Dropout\n",
        "from tensorflow.keras.models import Sequential\n",
        "from tensorflow.keras.regularizers import l2\n",
        "\n",
        "def model3(input_shape, regul, dropout):\n",
        "  model3 = Sequential()\n",
        "\n",
        "  model3.add(Conv2D(6, kernel_size=5, activation='relu', kernel_regularizer=l2(regul),input_shape=input_shape))\n",
        "  model3.add(MaxPooling2D(2))\n",
        "\n",
        "  model3.add(Conv2D(16, kernel_size=5, activation='relu', kernel_regularizer=l2(regul)))\n",
        "  model3.add(MaxPooling2D(2))\n",
        "\n",
        "  model3.add(Flatten())\n",
        "  model3.add(Dense(120, activation='relu', kernel_regularizer=l2(regul)))\n",
        "  model3.add(Dropout(dropout))\n",
        "\n",
        "  model3.add(Dense(84, activation='relu', kernel_regularizer=l2(regul)))\n",
        "  model3.add(Dropout(dropout))\n",
        "\n",
        "  model3.add(Dense(7, activation='softmax', kernel_regularizer=l2(regul)))\n",
        "\n",
        "  return model3\n",
        "\n",
        "model3 = model3((28, 28, 3), regul=0.0, dropout=0.25)\n",
        "model3.summary()"
      ],
      "metadata": {
        "colab": {
          "base_uri": "https://localhost:8080/"
        },
        "id": "EVJTEBwx5YKr",
        "outputId": "39d87ba5-3e7b-4fcc-e419-cfb7a541c9d8"
      },
      "execution_count": null,
      "outputs": [
        {
          "output_type": "stream",
          "name": "stdout",
          "text": [
            "Model: \"sequential_13\"\n",
            "_________________________________________________________________\n",
            " Layer (type)                Output Shape              Param #   \n",
            "=================================================================\n",
            " conv2d_31 (Conv2D)          (None, 24, 24, 6)         456       \n",
            "                                                                 \n",
            " max_pooling2d_26 (MaxPoolin  (None, 12, 12, 6)        0         \n",
            " g2D)                                                            \n",
            "                                                                 \n",
            " conv2d_32 (Conv2D)          (None, 8, 8, 16)          2416      \n",
            "                                                                 \n",
            " max_pooling2d_27 (MaxPoolin  (None, 4, 4, 16)         0         \n",
            " g2D)                                                            \n",
            "                                                                 \n",
            " flatten_13 (Flatten)        (None, 256)               0         \n",
            "                                                                 \n",
            " dense_25 (Dense)            (None, 120)               30840     \n",
            "                                                                 \n",
            " dropout_10 (Dropout)        (None, 120)               0         \n",
            "                                                                 \n",
            " dense_26 (Dense)            (None, 84)                10164     \n",
            "                                                                 \n",
            " dropout_11 (Dropout)        (None, 84)                0         \n",
            "                                                                 \n",
            " dense_27 (Dense)            (None, 7)                 595       \n",
            "                                                                 \n",
            "=================================================================\n",
            "Total params: 44,471\n",
            "Trainable params: 44,471\n",
            "Non-trainable params: 0\n",
            "_________________________________________________________________\n"
          ]
        }
      ]
    },
    {
      "cell_type": "code",
      "source": [
        "##Model 3 compile\n",
        "model3.compile(optimizer='adam', loss='categorical_crossentropy', metrics=['accuracy'])\n",
        "\n"
      ],
      "metadata": {
        "id": "MzFrmZYo5fk5"
      },
      "execution_count": null,
      "outputs": []
    },
    {
      "cell_type": "code",
      "source": [
        "##Model 3 fit\n",
        "callback = [EarlyStopping(monitor='accuracy', patience=10)]\n",
        "\n",
        "history3 = model3.fit(X_train,y_train,\n",
        "                            validation_data=(X_test,y_test),\n",
        "                            batch_size = 202,\n",
        "                            epochs = 25,\n",
        "                            callbacks = callback)"
      ],
      "metadata": {
        "id": "SqYkY0w-5pbA"
      },
      "execution_count": null,
      "outputs": []
    },
    {
      "cell_type": "code",
      "source": [
        "##Saving model3\n",
        "###Saving LeNet5 model\n",
        "# Assuming 'model' is your trained CNN model\n",
        "with open('cnn_model3.pkl', 'wb') as model_file:\n",
        "    pickle.dump(model3, model_file)\n",
        "\n",
        "# Assuming 'model' is your trained CNN model\n",
        "model3.save('cnn_model3.h5')"
      ],
      "metadata": {
        "id": "9BPnkoX1QsgW"
      },
      "execution_count": null,
      "outputs": []
    },
    {
      "cell_type": "markdown",
      "source": [
        "####PLOT CNN MODELS RESULTS"
      ],
      "metadata": {
        "id": "b7hn7uVijsmi"
      }
    },
    {
      "cell_type": "code",
      "source": [
        "##Plot the two models results\n",
        "# TODO: Compute the accuracy of your model\n",
        "##\n",
        "loss_model1 = history.history['accuracy']\n",
        "val_model1 = history.history['val_accuracy']\n",
        "##LeNet model\n",
        "loss_LeNet = history2.history['accuracy']\n",
        "val_LeNet = history2.history['val_accuracy']\n",
        "##LeNet model\n",
        "loss_model3 = history3.history['accuracy']\n",
        "val_model3 = history3.history['val_accuracy']\n",
        "\n",
        "import matplotlib.pyplot as plt\n",
        "plt.figure(figsize=(8, 6))\n",
        "plt.subplot(1, 3, 1)\n",
        "plt.plot(loss_model1,label = 'Train accuracy Model1')\n",
        "plt.plot(val_model1, label = 'Val accuracy Model1')\n",
        "plt.title(\"Model 1\")\n",
        "\n",
        "plt.xlabel('Epochs')\n",
        "plt.ylabel('Valeur de la Loss')\n",
        "plt.subplot(1, 3, 2)\n",
        "plt.plot(loss_LeNet,label = 'Train accuracy LeNet')\n",
        "plt.plot(val_LeNet, label = 'Val accuracy LeNet')\n",
        "plt.title(\"LeNet5\")\n",
        "plt.xlabel('Epochs')\n",
        "plt.ylabel('')\n",
        "plt.subplot(1, 3, 3)\n",
        "plt.plot(loss_model3,label = 'Train accuracy LeNet')\n",
        "plt.plot(val_model3, label = 'Val accuracy LeNet')\n",
        "plt.title(\"Model 3\")\n",
        "plt.legend(loc='center left', bbox_to_anchor=(1, 0.5))\n",
        "plt.xlabel('Epochs')\n",
        "plt.ylabel('')\n",
        "plt.savefig('Results_CNN_models.jpg', format='jpg')"
      ],
      "metadata": {
        "id": "a0l0lkdNoPNv",
        "colab": {
          "base_uri": "https://localhost:8080/",
          "height": 564
        },
        "outputId": "3a1eec2d-64f0-4a55-83c7-504a9464ff8e"
      },
      "execution_count": null,
      "outputs": [
        {
          "output_type": "display_data",
          "data": {
            "text/plain": [
              "<Figure size 800x600 with 3 Axes>"
            ],
            "image/png": "[encoded data removed]"
          },
          "metadata": {}
        }
      ]
    },
    {
      "cell_type": "markdown",
      "source": [
        "###2.4 DATA AUGMENTATION WITH IMAGE DATAGENERATOR\n",
        "\n",
        "\n",
        "\n",
        "\n",
        "\n"
      ],
      "metadata": {
        "id": "7L8z5xz59lgA"
      }
    },
    {
      "cell_type": "code",
      "source": [
        "##DATA AUGMENTATION\n",
        "from tensorflow.keras.preprocessing.image import ImageDataGenerator\n",
        "\n",
        "datagen = ImageDataGenerator(\n",
        "    rotation_range=40,\n",
        "    width_shift_range=0.2,\n",
        "    height_shift_range=0.2,\n",
        "    shear_range=0.2,\n",
        "    zoom_range=0.2,\n",
        "    brightness_range=(0.5, 1.5),  # Adjust brightness\n",
        ")\n",
        "\n"
      ],
      "metadata": {
        "id": "UHAdytgYoQ4A"
      },
      "execution_count": null,
      "outputs": []
    },
    {
      "cell_type": "code",
      "source": [
        "# Fit ImageDataGenerator object\n",
        "datagen.fit(X_train)\n",
        "batch_size = 32\n",
        "model_1.compile(optimizer='adam',\n",
        "              loss='categorical_crossentropy',  # Use categorical cross-entropy for multi-class classification\n",
        "              metrics=['accuracy'])\n",
        "##Create a train_generator model\n",
        "train_generator = datagen.flow(X_train, y_train, batch_size=batch_size)"
      ],
      "metadata": {
        "id": "ibYYohbg98BM"
      },
      "execution_count": null,
      "outputs": []
    },
    {
      "cell_type": "markdown",
      "source": [
        "####Test the three models with Data augmentation"
      ],
      "metadata": {
        "id": "RO1fs2obj_h9"
      }
    },
    {
      "cell_type": "code",
      "source": [
        "###Trying the three model with X_train modifyed with ImageGenerator\n",
        "##Model1\n",
        "model1_aug = model1()\n",
        "\n",
        "model1_aug.compile(optimizer='adam',\n",
        "              loss='categorical_crossentropy',  # Use categorical cross-entropy for multi-class classification\n",
        "              metrics=['accuracy'])\n",
        "# TODO: Compile and fit your model\n",
        "callback = [EarlyStopping(monitor='accuracy', patience=10)]\n",
        "\n",
        "history_1_aug = model1_aug.fit(train_generator,\n",
        "                            validation_data=(X_test,y_test),\n",
        "                            batch_size = 202,\n",
        "                            epochs = 25,\n",
        "                            callbacks = callback)\n",
        "\n"
      ],
      "metadata": {
        "id": "p2O1xaKpoWgH"
      },
      "execution_count": null,
      "outputs": []
    },
    {
      "cell_type": "code",
      "source": [
        "##Saving model\n",
        "##Saving the model 1\n",
        "# Assuming 'model' is your trained CNN model\n",
        "with open('cnn_model1_aug.pkl', 'wb') as model_file:\n",
        "    pickle.dump(model1_aug, model_file)\n",
        "\n",
        "# Assuming 'model' is your trained CNN model\n",
        "model1_aug.save('cnn_mode1_aug.h5')"
      ],
      "metadata": {
        "id": "obNdaEIMSoxv"
      },
      "execution_count": null,
      "outputs": []
    },
    {
      "cell_type": "code",
      "source": [
        "###Trying the three model with X_train modifyed with ImageGenerator\n",
        "##Model2 /LeNet\n",
        "lenet_aug = lenet()\n",
        "\n",
        "##compile\n",
        "lenet_aug.compile(optimizer='adam',\n",
        "              loss='categorical_crossentropy',  # Use categorical cross-entropy for multi-class classification\n",
        "              metrics=['accuracy'])\n",
        "# TODO: Compile and fit your model\n",
        "callback = [EarlyStopping(monitor='accuracy', patience=10)]\n",
        "\n",
        "history_2_aug = lenet_aug.fit(train_generator,\n",
        "                            validation_data=(X_test,y_test),\n",
        "                            batch_size = 202,\n",
        "                            epochs = 25,\n",
        "                            callbacks = callback)\n"
      ],
      "metadata": {
        "colab": {
          "base_uri": "https://localhost:8080/"
        },
        "id": "ndLSdE69_nlF",
        "outputId": "c66138c9-d9de-4ebc-c95d-3fe5b5aac6eb"
      },
      "execution_count": null,
      "outputs": [
        {
          "output_type": "stream",
          "name": "stdout",
          "text": [
            "Epoch 1/25\n",
            "1174/1174 [==============================] - 70s 59ms/step - loss: 1.9461 - accuracy: 0.1435 - val_loss: 4.3371 - val_accuracy: 0.6695\n",
            "Epoch 2/25\n",
            "1174/1174 [==============================] - 74s 63ms/step - loss: 1.9458 - accuracy: 0.1410 - val_loss: 4.3723 - val_accuracy: 0.6695\n",
            "Epoch 3/25\n",
            "1174/1174 [==============================] - 65s 56ms/step - loss: 1.9455 - accuracy: 0.1448 - val_loss: 1.2770 - val_accuracy: 0.6695\n",
            "Epoch 4/25\n",
            "1174/1174 [==============================] - 69s 59ms/step - loss: 1.9451 - accuracy: 0.1408 - val_loss: 1.2473 - val_accuracy: 0.6695\n",
            "Epoch 5/25\n",
            "1174/1174 [==============================] - 64s 54ms/step - loss: 1.9455 - accuracy: 0.1413 - val_loss: 1.6958 - val_accuracy: 0.6640\n",
            "Epoch 6/25\n",
            "1174/1174 [==============================] - 65s 55ms/step - loss: 1.9453 - accuracy: 0.1428 - val_loss: 1.8239 - val_accuracy: 0.6345\n",
            "Epoch 7/25\n",
            "1174/1174 [==============================] - 65s 55ms/step - loss: 1.9451 - accuracy: 0.1416 - val_loss: 1.2277 - val_accuracy: 0.6695\n",
            "Epoch 8/25\n",
            "1174/1174 [==============================] - 65s 55ms/step - loss: 1.9454 - accuracy: 0.1463 - val_loss: 1.8146 - val_accuracy: 0.6350\n",
            "Epoch 9/25\n",
            "1174/1174 [==============================] - 66s 56ms/step - loss: 1.9449 - accuracy: 0.1421 - val_loss: 1.8181 - val_accuracy: 0.6695\n",
            "Epoch 10/25\n",
            "1174/1174 [==============================] - 65s 55ms/step - loss: 1.9452 - accuracy: 0.1401 - val_loss: 1.1847 - val_accuracy: 0.6695\n",
            "Epoch 11/25\n",
            "1174/1174 [==============================] - 65s 55ms/step - loss: 1.9455 - accuracy: 0.1408 - val_loss: 1.6632 - val_accuracy: 0.6670\n",
            "Epoch 12/25\n",
            "1174/1174 [==============================] - 65s 55ms/step - loss: 1.9451 - accuracy: 0.1401 - val_loss: 1.9379 - val_accuracy: 0.3645\n",
            "Epoch 13/25\n",
            "1174/1174 [==============================] - 65s 55ms/step - loss: 1.9454 - accuracy: 0.1434 - val_loss: 1.9568 - val_accuracy: 0.0514\n",
            "Epoch 14/25\n",
            "1174/1174 [==============================] - 64s 55ms/step - loss: 1.9449 - accuracy: 0.1415 - val_loss: 1.9462 - val_accuracy: 0.0115\n",
            "Epoch 15/25\n",
            " 189/1174 [===>..........................] - ETA: 54s - loss: 1.9457 - accuracy: 0.1424"
          ]
        }
      ]
    },
    {
      "cell_type": "code",
      "source": [
        "##Saving model\n",
        "##Saving the model 1\n",
        "# Assuming 'model' is your trained CNN model\n",
        "with open('cnn_lenet_aug.pkl', 'wb') as model_file:\n",
        "    pickle.dump(lenet_aug, model_file)\n",
        "\n",
        "# Assuming 'model' is your trained CNN model\n",
        "lenet_aug.save('cnn_lenet_aug.h5')"
      ],
      "metadata": {
        "id": "t28M8LuHSzln"
      },
      "execution_count": null,
      "outputs": []
    },
    {
      "cell_type": "code",
      "source": [
        "###Trying the three model with X_train modifyed with ImageGenerator\n",
        "##Model3\n",
        "\n",
        "model3 = model3((28, 28, 3), regul=0.0, dropout=0.25)\n",
        "model3aug.summary()\n",
        "\n",
        "##model3aug\n",
        "model3aug.compile(optimizer='adam',\n",
        "              loss='categorical_crossentropy',  # Use categorical cross-entropy for multi-class classification\n",
        "              metrics=['accuracy'])\n",
        "# TODO: Compile and fit your model\n",
        "\n",
        "callback = [EarlyStopping(monitor='accuracy', patience=10)]\n",
        "\n",
        "history_3_aug = model3aug.fit(train_generator,\n",
        "                            validation_data=(X_test,y_test),\n",
        "                            batch_size = 202,\n",
        "                            epochs = 25,\n",
        "                            callbacks = callback)"
      ],
      "metadata": {
        "colab": {
          "base_uri": "https://localhost:8080/",
          "height": 403
        },
        "id": "Uz4mXdSg_wCg",
        "outputId": "4753b636-972a-46c3-b1e9-4fee5b4a3353"
      },
      "execution_count": null,
      "outputs": [
        {
          "output_type": "error",
          "ename": "ValueError",
          "evalue": "ignored",
          "traceback": [
            "\u001b[0;31m---------------------------------------------------------------------------\u001b[0m",
            "\u001b[0;31mValueError\u001b[0m                                Traceback (most recent call last)",
            "\u001b[0;32m<ipython-input-169-5d2bc8550915>\u001b[0m in \u001b[0;36m<cell line: 4>\u001b[0;34m()\u001b[0m\n\u001b[1;32m      2\u001b[0m \u001b[0;31m##Model3\u001b[0m\u001b[0;34m\u001b[0m\u001b[0;34m\u001b[0m\u001b[0m\n\u001b[1;32m      3\u001b[0m \u001b[0;34m\u001b[0m\u001b[0m\n\u001b[0;32m----> 4\u001b[0;31m \u001b[0mmodel3\u001b[0m \u001b[0;34m=\u001b[0m \u001b[0mmodel3\u001b[0m\u001b[0;34m(\u001b[0m\u001b[0;34m(\u001b[0m\u001b[0;36m28\u001b[0m\u001b[0;34m,\u001b[0m \u001b[0;36m28\u001b[0m\u001b[0;34m,\u001b[0m \u001b[0;36m3\u001b[0m\u001b[0;34m)\u001b[0m\u001b[0;34m,\u001b[0m \u001b[0mregul\u001b[0m\u001b[0;34m=\u001b[0m\u001b[0;36m0.0\u001b[0m\u001b[0;34m,\u001b[0m \u001b[0mdropout\u001b[0m\u001b[0;34m=\u001b[0m\u001b[0;36m0.25\u001b[0m\u001b[0;34m)\u001b[0m\u001b[0;34m\u001b[0m\u001b[0;34m\u001b[0m\u001b[0m\n\u001b[0m\u001b[1;32m      5\u001b[0m \u001b[0mmodel3aug\u001b[0m\u001b[0;34m.\u001b[0m\u001b[0msummary\u001b[0m\u001b[0;34m(\u001b[0m\u001b[0;34m)\u001b[0m\u001b[0;34m\u001b[0m\u001b[0;34m\u001b[0m\u001b[0m\n\u001b[1;32m      6\u001b[0m \u001b[0;34m\u001b[0m\u001b[0m\n",
            "\u001b[0;32m/usr/local/lib/python3.10/dist-packages/keras/utils/traceback_utils.py\u001b[0m in \u001b[0;36merror_handler\u001b[0;34m(*args, **kwargs)\u001b[0m\n\u001b[1;32m     68\u001b[0m             \u001b[0;31m# To get the full stack trace, call:\u001b[0m\u001b[0;34m\u001b[0m\u001b[0;34m\u001b[0m\u001b[0m\n\u001b[1;32m     69\u001b[0m             \u001b[0;31m# `tf.debugging.disable_traceback_filtering()`\u001b[0m\u001b[0;34m\u001b[0m\u001b[0;34m\u001b[0m\u001b[0m\n\u001b[0;32m---> 70\u001b[0;31m             \u001b[0;32mraise\u001b[0m \u001b[0me\u001b[0m\u001b[0;34m.\u001b[0m\u001b[0mwith_traceback\u001b[0m\u001b[0;34m(\u001b[0m\u001b[0mfiltered_tb\u001b[0m\u001b[0;34m)\u001b[0m \u001b[0;32mfrom\u001b[0m \u001b[0;32mNone\u001b[0m\u001b[0;34m\u001b[0m\u001b[0;34m\u001b[0m\u001b[0m\n\u001b[0m\u001b[1;32m     71\u001b[0m         \u001b[0;32mfinally\u001b[0m\u001b[0;34m:\u001b[0m\u001b[0;34m\u001b[0m\u001b[0;34m\u001b[0m\u001b[0m\n\u001b[1;32m     72\u001b[0m             \u001b[0;32mdel\u001b[0m \u001b[0mfiltered_tb\u001b[0m\u001b[0;34m\u001b[0m\u001b[0;34m\u001b[0m\u001b[0m\n",
            "\u001b[0;32m/usr/local/lib/python3.10/dist-packages/keras/engine/input_spec.py\u001b[0m in \u001b[0;36massert_input_compatibility\u001b[0;34m(input_spec, inputs, layer_name)\u001b[0m\n\u001b[1;32m    217\u001b[0m \u001b[0;34m\u001b[0m\u001b[0m\n\u001b[1;32m    218\u001b[0m     \u001b[0;32mif\u001b[0m \u001b[0mlen\u001b[0m\u001b[0;34m(\u001b[0m\u001b[0minputs\u001b[0m\u001b[0;34m)\u001b[0m \u001b[0;34m!=\u001b[0m \u001b[0mlen\u001b[0m\u001b[0;34m(\u001b[0m\u001b[0minput_spec\u001b[0m\u001b[0;34m)\u001b[0m\u001b[0;34m:\u001b[0m\u001b[0;34m\u001b[0m\u001b[0;34m\u001b[0m\u001b[0m\n\u001b[0;32m--> 219\u001b[0;31m         raise ValueError(\n\u001b[0m\u001b[1;32m    220\u001b[0m             \u001b[0;34mf'Layer \"{layer_name}\" expects {len(input_spec)} input(s),'\u001b[0m\u001b[0;34m\u001b[0m\u001b[0;34m\u001b[0m\u001b[0m\n\u001b[1;32m    221\u001b[0m             \u001b[0;34mf\" but it received {len(inputs)} input tensors. \"\u001b[0m\u001b[0;34m\u001b[0m\u001b[0;34m\u001b[0m\u001b[0m\n",
            "\u001b[0;31mValueError\u001b[0m: Layer \"sequential_13\" expects 1 input(s), but it received 3 input tensors. Inputs received: [<tf.Tensor: shape=(), dtype=int32, numpy=28>, <tf.Tensor: shape=(), dtype=int32, numpy=28>, <tf.Tensor: shape=(), dtype=int32, numpy=3>]"
          ]
        }
      ]
    },
    {
      "cell_type": "code",
      "source": [
        "##Saving model\n",
        "##Saving the model 3\n",
        "# Assuming 'model' is your trained CNN model\n",
        "with open('cnn_model3_aug.pkl', 'wb') as model_file:\n",
        "    pickle.dump(model3_aug, model_file)\n",
        "\n",
        "# Assuming 'model' is your trained CNN model\n",
        "model3_aug.save('cnn_model3_aug.h5')"
      ],
      "metadata": {
        "id": "b7mjC4_vTlQQ"
      },
      "execution_count": null,
      "outputs": []
    },
    {
      "cell_type": "markdown",
      "source": [
        "####Plot models results with data augmentation"
      ],
      "metadata": {
        "id": "c0yBe_oCkGti"
      }
    },
    {
      "cell_type": "code",
      "source": [
        "##Plot the two models results\n",
        "# TODO: Compute the accuracy of your model\n",
        "##\n",
        "loss_model1 = history_1_aug.history['accuracy']\n",
        "val_model1 = history_1_aug.history['val_accuracy']\n",
        "##LeNet model\n",
        "loss_LeNet = history_2_aug.history['accuracy']\n",
        "val_LeNet = history_2_aug.history['val_accuracy']\n",
        "##LeNet model\n",
        "loss_model3 = history_3_aug.history['accuracy']\n",
        "val_model3 = history_3_aug.history['val_accuracy']\n",
        "\n",
        "import matplotlib.pyplot as plt\n",
        "plt.figure(figsize=(8, 6))\n",
        "plt.subplot(1, 3, 1)\n",
        "plt.plot(loss_model1,label = 'Train accuracy Model1')\n",
        "plt.plot(val_model1, label = 'Val accuracy Model1')\n",
        "plt.title(\"Model 1\")\n",
        "\n",
        "plt.xlabel('Epochs')\n",
        "plt.ylabel('Valeur de la Loss')\n",
        "plt.subplot(1, 3, 2)\n",
        "plt.plot(loss_LeNet,label = 'Train accuracy LeNet')\n",
        "plt.plot(val_LeNet, label = 'Val accuracy LeNet')\n",
        "plt.title(\"LeNet\")\n",
        "plt.xlabel('Epochs')\n",
        "plt.ylabel('')\n",
        "plt.subplot(1, 3, 3)\n",
        "plt.plot(loss_model3,label = 'Train accuracy LeNet')\n",
        "plt.plot(val_model3, label = 'Val accuracy LeNet')\n",
        "plt.title(\"Model3\")\n",
        "plt.legend(loc='center left', bbox_to_anchor=(1, 0.5))\n",
        "plt.xlabel('Epochs')\n",
        "plt.ylabel('')\n",
        "plt.savefig(\"CNN_Results_Data_Augmentation.jpg\", format='jpg')"
      ],
      "metadata": {
        "colab": {
          "base_uri": "https://localhost:8080/",
          "height": 252
        },
        "id": "Gum2rO88APsi",
        "outputId": "42d0236f-323f-4148-c6f3-5d234e02691e"
      },
      "execution_count": null,
      "outputs": [
        {
          "output_type": "error",
          "ename": "NameError",
          "evalue": "ignored",
          "traceback": [
            "\u001b[0;31m---------------------------------------------------------------------------\u001b[0m",
            "\u001b[0;31mNameError\u001b[0m                                 Traceback (most recent call last)",
            "\u001b[0;32m<ipython-input-163-326530c8c05a>\u001b[0m in \u001b[0;36m<cell line: 10>\u001b[0;34m()\u001b[0m\n\u001b[1;32m      8\u001b[0m \u001b[0mval_LeNet\u001b[0m \u001b[0;34m=\u001b[0m \u001b[0mhistory_2_aug\u001b[0m\u001b[0;34m.\u001b[0m\u001b[0mhistory\u001b[0m\u001b[0;34m[\u001b[0m\u001b[0;34m'val_accuracy'\u001b[0m\u001b[0;34m]\u001b[0m\u001b[0;34m\u001b[0m\u001b[0;34m\u001b[0m\u001b[0m\n\u001b[1;32m      9\u001b[0m \u001b[0;31m##LeNet model\u001b[0m\u001b[0;34m\u001b[0m\u001b[0;34m\u001b[0m\u001b[0m\n\u001b[0;32m---> 10\u001b[0;31m \u001b[0mloss_model3\u001b[0m \u001b[0;34m=\u001b[0m \u001b[0mhistory_3_aug\u001b[0m\u001b[0;34m.\u001b[0m\u001b[0mhistory\u001b[0m\u001b[0;34m[\u001b[0m\u001b[0;34m'accuracy'\u001b[0m\u001b[0;34m]\u001b[0m\u001b[0;34m\u001b[0m\u001b[0;34m\u001b[0m\u001b[0m\n\u001b[0m\u001b[1;32m     11\u001b[0m \u001b[0mval_model3\u001b[0m \u001b[0;34m=\u001b[0m \u001b[0mhistory_3_aug\u001b[0m\u001b[0;34m.\u001b[0m\u001b[0mhistory\u001b[0m\u001b[0;34m[\u001b[0m\u001b[0;34m'val_accuracy'\u001b[0m\u001b[0;34m]\u001b[0m\u001b[0;34m\u001b[0m\u001b[0;34m\u001b[0m\u001b[0m\n\u001b[1;32m     12\u001b[0m \u001b[0;34m\u001b[0m\u001b[0m\n",
            "\u001b[0;31mNameError\u001b[0m: name 'history_3_aug' is not defined"
          ]
        }
      ]
    },
    {
      "cell_type": "markdown",
      "source": [
        "###2.5 REBALANCING DATASET"
      ],
      "metadata": {
        "id": "hFKUZu8sGfd7"
      }
    },
    {
      "cell_type": "markdown",
      "source": [
        "####Balanced dataset using SMOTE frome flatten images"
      ],
      "metadata": {
        "id": "GomGcA24sji_"
      }
    },
    {
      "cell_type": "code",
      "source": [
        "# Instantiate the SMOTE resampler\n",
        "from imblearn.over_sampling import SMOTE\n",
        "smote = SMOTE(sampling_strategy='auto', random_state=42)\n",
        "##Smote only work with 2 dimensions\n",
        "X_resampled, y_resampled = smote.fit_resample(X, y)\n",
        "\n",
        "# Check the class distribution after resampling\n",
        "unique, counts = np.unique(y_resampled, return_counts=True)\n",
        "class_distribution = dict(zip(unique, counts))\n",
        "print(\"Class distribution after SMOTE resampling:\", class_distribution)\n"
      ],
      "metadata": {
        "colab": {
          "base_uri": "https://localhost:8080/"
        },
        "id": "1aG6wSB0Givo",
        "outputId": "4e0a53a2-af47-4b75-f0e6-7f3e071ea17a"
      },
      "execution_count": null,
      "outputs": [
        {
          "output_type": "stream",
          "name": "stdout",
          "text": [
            "Class distribution after SMOTE resampling: {0: 6705, 1: 6705, 2: 6705, 3: 6705, 4: 6705, 5: 6705, 6: 6705}\n"
          ]
        }
      ]
    },
    {
      "cell_type": "code",
      "source": [
        "##SHAPE OF X & y\n",
        "X_resampled.shape, y_resampled.shape\n"
      ],
      "metadata": {
        "colab": {
          "base_uri": "https://localhost:8080/"
        },
        "id": "-Q8KPebKHkDc",
        "outputId": "52279ea5-3355-4deb-8e59-314d6d4435b9"
      },
      "execution_count": null,
      "outputs": [
        {
          "output_type": "execute_result",
          "data": {
            "text/plain": [
              "((46935, 2352), (46935,))"
            ]
          },
          "metadata": {},
          "execution_count": 72
        }
      ]
    },
    {
      "cell_type": "markdown",
      "source": [
        "####Prepared balanded data for CNN models"
      ],
      "metadata": {
        "id": "8GaAej6Ispbp"
      }
    },
    {
      "cell_type": "code",
      "source": [
        "##Prepare dataset to CNN\n",
        "##Reshape X to 28,28,3\n",
        "original_shape = (len(X_resampled), 28, 28, 3)\n",
        "X_resampled = X_resampled.to_numpy()\n",
        "X_resampled = X_resampled.reshape(original_shape)\n",
        "y_resampled = to_categorical(y_resampled, num_classes=7)\n",
        "\n",
        "X_resampled.shape, y_resampled.shape"
      ],
      "metadata": {
        "colab": {
          "base_uri": "https://localhost:8080/"
        },
        "id": "MUS0SnLMHseX",
        "outputId": "0afdf6c8-ead0-496b-ae20-b02766fb2da2"
      },
      "execution_count": null,
      "outputs": [
        {
          "output_type": "execute_result",
          "data": {
            "text/plain": [
              "((46935, 28, 28, 3), (46935, 7))"
            ]
          },
          "metadata": {},
          "execution_count": 73
        }
      ]
    },
    {
      "cell_type": "code",
      "source": [
        "##SPlit data\n",
        "X_train_resampled, X_test_resampled, y_train_resampled, y_test_resampled = train_test_split(X_resampled, y_resampled, stratify= y_resampled, test_size=0.2, random_state=42)\n",
        "X_train_resampled.shape, y_train_resampled.shape, X_test_resampled.shape, y_test_resampled.shape"
      ],
      "metadata": {
        "colab": {
          "base_uri": "https://localhost:8080/"
        },
        "id": "zJ0Tx_nxInWC",
        "outputId": "f763a546-3791-48bb-b274-b6d114302d84"
      },
      "execution_count": null,
      "outputs": [
        {
          "output_type": "execute_result",
          "data": {
            "text/plain": [
              "((37548, 28, 28, 3), (37548, 7), (9387, 28, 28, 3), (9387, 7))"
            ]
          },
          "metadata": {},
          "execution_count": 74
        }
      ]
    },
    {
      "cell_type": "markdown",
      "source": [
        "####CNN models on balanced dataset"
      ],
      "metadata": {
        "id": "lnvDsYA8suaq"
      }
    },
    {
      "cell_type": "code",
      "source": [
        "##rerun model 1\n",
        "##Run model\n",
        "model1_balanced = model1()\n",
        "\n",
        "model1_balanced.compile(optimizer='adam',\n",
        "              loss='categorical_crossentropy',  # Use categorical cross-entropy for multi-class classification\n",
        "              metrics=['accuracy'])\n",
        "# TODO: Compile and fit your model\n",
        "callback = [EarlyStopping(monitor='accuracy', patience=10)]\n",
        "\n",
        "history_1_bal = model1_balanced.fit(X_train_resampled,y_train_resampled,\n",
        "                            validation_data=(X_test_resampled,y_test_resampled),\n",
        "                            batch_size = 202,\n",
        "                            epochs = 25,\n",
        "                            callbacks = callback)"
      ],
      "metadata": {
        "colab": {
          "base_uri": "https://localhost:8080/"
        },
        "id": "3cnit6x7JTpC",
        "outputId": "b16f7cc2-0843-42b9-a4b3-fb58fc137546"
      },
      "execution_count": null,
      "outputs": [
        {
          "output_type": "stream",
          "name": "stdout",
          "text": [
            "Epoch 1/25\n",
            "186/186 [==============================] - 47s 246ms/step - loss: 1.3991 - accuracy: 0.4494 - val_loss: 1.1076 - val_accuracy: 0.5824\n",
            "Epoch 2/25\n",
            "186/186 [==============================] - 44s 238ms/step - loss: 1.0251 - accuracy: 0.6118 - val_loss: 0.9456 - val_accuracy: 0.6553\n",
            "Epoch 3/25\n",
            "186/186 [==============================] - 54s 293ms/step - loss: 0.8820 - accuracy: 0.6724 - val_loss: 0.7979 - val_accuracy: 0.7076\n",
            "Epoch 4/25\n",
            "186/186 [==============================] - 43s 231ms/step - loss: 0.7628 - accuracy: 0.7225 - val_loss: 0.7025 - val_accuracy: 0.7513\n",
            "Epoch 5/25\n",
            "186/186 [==============================] - 46s 245ms/step - loss: 0.6800 - accuracy: 0.7527 - val_loss: 0.6636 - val_accuracy: 0.7510\n",
            "Epoch 6/25\n",
            "186/186 [==============================] - 42s 228ms/step - loss: 0.6186 - accuracy: 0.7757 - val_loss: 0.5676 - val_accuracy: 0.7956\n",
            "Epoch 7/25\n",
            "186/186 [==============================] - 41s 222ms/step - loss: 0.5585 - accuracy: 0.7962 - val_loss: 0.5592 - val_accuracy: 0.7896\n",
            "Epoch 8/25\n",
            "186/186 [==============================] - 41s 221ms/step - loss: 0.5161 - accuracy: 0.8142 - val_loss: 0.5339 - val_accuracy: 0.8011\n",
            "Epoch 9/25\n",
            "186/186 [==============================] - 43s 230ms/step - loss: 0.4708 - accuracy: 0.8307 - val_loss: 0.4727 - val_accuracy: 0.8287\n",
            "Epoch 10/25\n",
            "186/186 [==============================] - 42s 227ms/step - loss: 0.4365 - accuracy: 0.8445 - val_loss: 0.4669 - val_accuracy: 0.8332\n",
            "Epoch 11/25\n",
            "186/186 [==============================] - 44s 236ms/step - loss: 0.3996 - accuracy: 0.8586 - val_loss: 0.4110 - val_accuracy: 0.8472\n",
            "Epoch 12/25\n",
            "186/186 [==============================] - 42s 226ms/step - loss: 0.3821 - accuracy: 0.8635 - val_loss: 0.3739 - val_accuracy: 0.8643\n",
            "Epoch 13/25\n",
            "186/186 [==============================] - 43s 230ms/step - loss: 0.3444 - accuracy: 0.8782 - val_loss: 0.3779 - val_accuracy: 0.8680\n",
            "Epoch 14/25\n",
            "186/186 [==============================] - 42s 226ms/step - loss: 0.3240 - accuracy: 0.8866 - val_loss: 0.3387 - val_accuracy: 0.8802\n",
            "Epoch 15/25\n",
            "186/186 [==============================] - 43s 233ms/step - loss: 0.3032 - accuracy: 0.8944 - val_loss: 0.3163 - val_accuracy: 0.8854\n",
            "Epoch 16/25\n",
            "186/186 [==============================] - 45s 240ms/step - loss: 0.2874 - accuracy: 0.9001 - val_loss: 0.2985 - val_accuracy: 0.8928\n",
            "Epoch 17/25\n",
            "186/186 [==============================] - 42s 223ms/step - loss: 0.2597 - accuracy: 0.9085 - val_loss: 0.2804 - val_accuracy: 0.8993\n",
            "Epoch 18/25\n",
            "186/186 [==============================] - 74s 399ms/step - loss: 0.2420 - accuracy: 0.9159 - val_loss: 0.2893 - val_accuracy: 0.8950\n",
            "Epoch 19/25\n",
            "186/186 [==============================] - 65s 349ms/step - loss: 0.2242 - accuracy: 0.9228 - val_loss: 0.2538 - val_accuracy: 0.9099\n",
            "Epoch 20/25\n",
            "186/186 [==============================] - 41s 223ms/step - loss: 0.2087 - accuracy: 0.9284 - val_loss: 0.2691 - val_accuracy: 0.9072\n",
            "Epoch 21/25\n",
            "186/186 [==============================] - 45s 244ms/step - loss: 0.2044 - accuracy: 0.9284 - val_loss: 0.2399 - val_accuracy: 0.9168\n",
            "Epoch 22/25\n",
            "186/186 [==============================] - 42s 224ms/step - loss: 0.1919 - accuracy: 0.9347 - val_loss: 0.2412 - val_accuracy: 0.9175\n",
            "Epoch 23/25\n",
            "186/186 [==============================] - 42s 228ms/step - loss: 0.1723 - accuracy: 0.9399 - val_loss: 0.2332 - val_accuracy: 0.9162\n",
            "Epoch 24/25\n",
            "186/186 [==============================] - 43s 231ms/step - loss: 0.1586 - accuracy: 0.9453 - val_loss: 0.2246 - val_accuracy: 0.9237\n",
            "Epoch 25/25\n",
            "186/186 [==============================] - 45s 243ms/step - loss: 0.1561 - accuracy: 0.9459 - val_loss: 0.2216 - val_accuracy: 0.9247\n"
          ]
        }
      ]
    },
    {
      "cell_type": "code",
      "source": [
        "##Saving the model 1 balanced\n",
        "with open('cnn_model1_bal.pkl', 'wb') as model_file:\n",
        "    pickle.dump(model1_balanced, model_file)\n",
        "\n",
        "model1_balanced.save('cnn_model1_bal.h5')\n",
        "\n",
        "files.download(\"/content/cnn_model1_bal.h5\")\n",
        "files.download(\"/content/cnn_model1_bal.pkl\")"
      ],
      "metadata": {
        "colab": {
          "base_uri": "https://localhost:8080/",
          "height": 17
        },
        "id": "F91poClXUh_n",
        "outputId": "ce4eb7f7-934c-4ac6-8df2-945a1a7ca333"
      },
      "execution_count": null,
      "outputs": [
        {
          "output_type": "display_data",
          "data": {
            "text/plain": [
              "<IPython.core.display.Javascript object>"
            ],
            "application/javascript": [
              "\n",
              "    async function download(id, filename, size) {\n",
              "      if (!google.colab.kernel.accessAllowed) {\n",
              "        return;\n",
              "      }\n",
              "      const div = document.createElement('div');\n",
              "      const label = document.createElement('label');\n",
              "      label.textContent = `Downloading \"${filename}\": `;\n",
              "      div.appendChild(label);\n",
              "      const progress = document.createElement('progress');\n",
              "      progress.max = size;\n",
              "      div.appendChild(progress);\n",
              "      document.body.appendChild(div);\n",
              "\n",
              "      const buffers = [];\n",
              "      let downloaded = 0;\n",
              "\n",
              "      const channel = await google.colab.kernel.comms.open(id);\n",
              "      // Send a message to notify the kernel that we're ready.\n",
              "      channel.send({})\n",
              "\n",
              "      for await (const message of channel.messages) {\n",
              "        // Send a message to notify the kernel that we're ready.\n",
              "        channel.send({})\n",
              "        if (message.buffers) {\n",
              "          for (const buffer of message.buffers) {\n",
              "            buffers.push(buffer);\n",
              "            downloaded += buffer.byteLength;\n",
              "            progress.value = downloaded;\n",
              "          }\n",
              "        }\n",
              "      }\n",
              "      const blob = new Blob(buffers, {type: 'application/binary'});\n",
              "      const a = document.createElement('a');\n",
              "      a.href = window.URL.createObjectURL(blob);\n",
              "      a.download = filename;\n",
              "      div.appendChild(a);\n",
              "      a.click();\n",
              "      div.remove();\n",
              "    }\n",
              "  "
            ]
          },
          "metadata": {}
        },
        {
          "output_type": "display_data",
          "data": {
            "text/plain": [
              "<IPython.core.display.Javascript object>"
            ],
            "application/javascript": [
              "download(\"download_857ec892-9e2a-4f11-a54b-3f3929badad0\", \"cnn_model1_bal.h5\", 1315968)"
            ]
          },
          "metadata": {}
        },
        {
          "output_type": "display_data",
          "data": {
            "text/plain": [
              "<IPython.core.display.Javascript object>"
            ],
            "application/javascript": [
              "\n",
              "    async function download(id, filename, size) {\n",
              "      if (!google.colab.kernel.accessAllowed) {\n",
              "        return;\n",
              "      }\n",
              "      const div = document.createElement('div');\n",
              "      const label = document.createElement('label');\n",
              "      label.textContent = `Downloading \"${filename}\": `;\n",
              "      div.appendChild(label);\n",
              "      const progress = document.createElement('progress');\n",
              "      progress.max = size;\n",
              "      div.appendChild(progress);\n",
              "      document.body.appendChild(div);\n",
              "\n",
              "      const buffers = [];\n",
              "      let downloaded = 0;\n",
              "\n",
              "      const channel = await google.colab.kernel.comms.open(id);\n",
              "      // Send a message to notify the kernel that we're ready.\n",
              "      channel.send({})\n",
              "\n",
              "      for await (const message of channel.messages) {\n",
              "        // Send a message to notify the kernel that we're ready.\n",
              "        channel.send({})\n",
              "        if (message.buffers) {\n",
              "          for (const buffer of message.buffers) {\n",
              "            buffers.push(buffer);\n",
              "            downloaded += buffer.byteLength;\n",
              "            progress.value = downloaded;\n",
              "          }\n",
              "        }\n",
              "      }\n",
              "      const blob = new Blob(buffers, {type: 'application/binary'});\n",
              "      const a = document.createElement('a');\n",
              "      a.href = window.URL.createObjectURL(blob);\n",
              "      a.download = filename;\n",
              "      div.appendChild(a);\n",
              "      a.click();\n",
              "      div.remove();\n",
              "    }\n",
              "  "
            ]
          },
          "metadata": {}
        },
        {
          "output_type": "display_data",
          "data": {
            "text/plain": [
              "<IPython.core.display.Javascript object>"
            ],
            "application/javascript": [
              "download(\"download_e592b0bc-b1e8-41cb-808a-8e30674dcf38\", \"cnn_model1_bal.pkl\", 1305513)"
            ]
          },
          "metadata": {}
        }
      ]
    },
    {
      "cell_type": "code",
      "source": [
        "##rerun model 1\n",
        "##Run model\n",
        "model1_balanced_train = model1()\n",
        "\n",
        "model1_balanced_train.compile(optimizer='adam',\n",
        "              loss='categorical_crossentropy',  # Use categorical cross-entropy for multi-class classification\n",
        "              metrics=['accuracy'])\n",
        "# TODO: Compile and fit your model\n",
        "callback = [EarlyStopping(monitor='accuracy', patience=10)]\n",
        "\n",
        "history_1_bal = model1_balanced_train.fit(X_train_resampled,y_train_resampled,\n",
        "                            validation_data=(X_test,y_test),\n",
        "                            batch_size = 202,\n",
        "                            epochs = 25,\n",
        "                            callbacks = callback)"
      ],
      "metadata": {
        "colab": {
          "base_uri": "https://localhost:8080/"
        },
        "id": "zHmg09JqD9d6",
        "outputId": "f725558e-b5fc-485f-c0de-895d3b0ea5d6"
      },
      "execution_count": null,
      "outputs": [
        {
          "output_type": "stream",
          "name": "stdout",
          "text": [
            "Epoch 1/25\n",
            "186/186 [==============================] - 41s 216ms/step - loss: 1.4434 - accuracy: 0.4221 - val_loss: 1.2136 - val_accuracy: 0.5097\n",
            "Epoch 2/25\n",
            "186/186 [==============================] - 40s 215ms/step - loss: 1.0741 - accuracy: 0.5828 - val_loss: 1.0181 - val_accuracy: 0.5667\n",
            "Epoch 3/25\n",
            "186/186 [==============================] - 41s 220ms/step - loss: 0.9188 - accuracy: 0.6604 - val_loss: 0.8084 - val_accuracy: 0.6580\n",
            "Epoch 4/25\n",
            "186/186 [==============================] - 41s 222ms/step - loss: 0.8160 - accuracy: 0.7011 - val_loss: 0.8779 - val_accuracy: 0.6316\n",
            "Epoch 5/25\n",
            "186/186 [==============================] - 40s 216ms/step - loss: 0.7168 - accuracy: 0.7402 - val_loss: 0.8370 - val_accuracy: 0.6630\n",
            "Epoch 6/25\n",
            "186/186 [==============================] - 40s 215ms/step - loss: 0.6385 - accuracy: 0.7689 - val_loss: 0.8072 - val_accuracy: 0.6610\n",
            "Epoch 7/25\n",
            "186/186 [==============================] - 40s 215ms/step - loss: 0.5794 - accuracy: 0.7894 - val_loss: 0.8315 - val_accuracy: 0.6610\n",
            "Epoch 8/25\n",
            "186/186 [==============================] - 40s 216ms/step - loss: 0.5370 - accuracy: 0.8057 - val_loss: 0.8121 - val_accuracy: 0.6680\n",
            "Epoch 9/25\n",
            "186/186 [==============================] - 40s 216ms/step - loss: 0.4888 - accuracy: 0.8250 - val_loss: 0.7564 - val_accuracy: 0.6730\n",
            "Epoch 10/25\n",
            "186/186 [==============================] - 41s 222ms/step - loss: 0.4556 - accuracy: 0.8359 - val_loss: 0.7453 - val_accuracy: 0.7004\n",
            "Epoch 11/25\n",
            "186/186 [==============================] - 40s 216ms/step - loss: 0.4163 - accuracy: 0.8507 - val_loss: 0.6119 - val_accuracy: 0.7489\n",
            "Epoch 12/25\n",
            "186/186 [==============================] - 40s 215ms/step - loss: 0.3877 - accuracy: 0.8615 - val_loss: 0.6045 - val_accuracy: 0.7454\n",
            "Epoch 13/25\n",
            "186/186 [==============================] - 40s 213ms/step - loss: 0.3611 - accuracy: 0.8720 - val_loss: 0.5804 - val_accuracy: 0.7673\n",
            "Epoch 14/25\n",
            "186/186 [==============================] - 40s 215ms/step - loss: 0.3346 - accuracy: 0.8807 - val_loss: 0.5880 - val_accuracy: 0.7609\n",
            "Epoch 15/25\n",
            "186/186 [==============================] - 41s 217ms/step - loss: 0.3033 - accuracy: 0.8946 - val_loss: 0.5017 - val_accuracy: 0.8078\n",
            "Epoch 16/25\n",
            "186/186 [==============================] - 42s 224ms/step - loss: 0.2914 - accuracy: 0.8971 - val_loss: 0.6039 - val_accuracy: 0.7599\n",
            "Epoch 17/25\n",
            "186/186 [==============================] - 40s 214ms/step - loss: 0.2726 - accuracy: 0.9057 - val_loss: 0.5193 - val_accuracy: 0.7978\n",
            "Epoch 18/25\n",
            "186/186 [==============================] - 40s 214ms/step - loss: 0.2481 - accuracy: 0.9138 - val_loss: 0.5861 - val_accuracy: 0.7713\n",
            "Epoch 19/25\n",
            "186/186 [==============================] - 40s 215ms/step - loss: 0.2309 - accuracy: 0.9194 - val_loss: 0.5665 - val_accuracy: 0.7863\n",
            "Epoch 20/25\n",
            "186/186 [==============================] - 40s 216ms/step - loss: 0.2236 - accuracy: 0.9228 - val_loss: 0.4572 - val_accuracy: 0.8263\n",
            "Epoch 21/25\n",
            "186/186 [==============================] - 41s 218ms/step - loss: 0.1995 - accuracy: 0.9323 - val_loss: 0.4082 - val_accuracy: 0.8422\n",
            "Epoch 22/25\n",
            "186/186 [==============================] - 43s 230ms/step - loss: 0.1933 - accuracy: 0.9327 - val_loss: 0.5526 - val_accuracy: 0.8033\n",
            "Epoch 23/25\n",
            "186/186 [==============================] - 40s 215ms/step - loss: 0.1772 - accuracy: 0.9397 - val_loss: 0.5571 - val_accuracy: 0.7968\n",
            "Epoch 24/25\n",
            "186/186 [==============================] - 39s 211ms/step - loss: 0.1669 - accuracy: 0.9425 - val_loss: 0.3609 - val_accuracy: 0.8702\n",
            "Epoch 25/25\n",
            "186/186 [==============================] - 40s 215ms/step - loss: 0.1603 - accuracy: 0.9457 - val_loss: 0.4664 - val_accuracy: 0.8313\n"
          ]
        }
      ]
    },
    {
      "cell_type": "code",
      "source": [
        "##Saving the model 1 balanced\n",
        "with open('cnn_model1_bal_train.pkl', 'wb') as model_file:\n",
        "    pickle.dump(model1_balanced_train, model_file)\n",
        "\n",
        "model1_balanced_train.save('cnn_model1_bal_train.h5')\n",
        "files.download(\"/content/cnn_model1_bal_train.h5\")\n",
        "files.download(\"/content/cnn_model1_bal_train.pkl\")"
      ],
      "metadata": {
        "colab": {
          "base_uri": "https://localhost:8080/",
          "height": 17
        },
        "id": "QOWTs1deEJpb",
        "outputId": "9e6553c0-be61-4337-cd6d-6a3deb7dcc90"
      },
      "execution_count": null,
      "outputs": [
        {
          "output_type": "display_data",
          "data": {
            "text/plain": [
              "<IPython.core.display.Javascript object>"
            ],
            "application/javascript": [
              "\n",
              "    async function download(id, filename, size) {\n",
              "      if (!google.colab.kernel.accessAllowed) {\n",
              "        return;\n",
              "      }\n",
              "      const div = document.createElement('div');\n",
              "      const label = document.createElement('label');\n",
              "      label.textContent = `Downloading \"${filename}\": `;\n",
              "      div.appendChild(label);\n",
              "      const progress = document.createElement('progress');\n",
              "      progress.max = size;\n",
              "      div.appendChild(progress);\n",
              "      document.body.appendChild(div);\n",
              "\n",
              "      const buffers = [];\n",
              "      let downloaded = 0;\n",
              "\n",
              "      const channel = await google.colab.kernel.comms.open(id);\n",
              "      // Send a message to notify the kernel that we're ready.\n",
              "      channel.send({})\n",
              "\n",
              "      for await (const message of channel.messages) {\n",
              "        // Send a message to notify the kernel that we're ready.\n",
              "        channel.send({})\n",
              "        if (message.buffers) {\n",
              "          for (const buffer of message.buffers) {\n",
              "            buffers.push(buffer);\n",
              "            downloaded += buffer.byteLength;\n",
              "            progress.value = downloaded;\n",
              "          }\n",
              "        }\n",
              "      }\n",
              "      const blob = new Blob(buffers, {type: 'application/binary'});\n",
              "      const a = document.createElement('a');\n",
              "      a.href = window.URL.createObjectURL(blob);\n",
              "      a.download = filename;\n",
              "      div.appendChild(a);\n",
              "      a.click();\n",
              "      div.remove();\n",
              "    }\n",
              "  "
            ]
          },
          "metadata": {}
        },
        {
          "output_type": "display_data",
          "data": {
            "text/plain": [
              "<IPython.core.display.Javascript object>"
            ],
            "application/javascript": [
              "download(\"download_6299c0ac-b308-4e25-84d4-c1d3dd4a6a26\", \"cnn_model1_bal_train.h5\", 1315968)"
            ]
          },
          "metadata": {}
        },
        {
          "output_type": "display_data",
          "data": {
            "text/plain": [
              "<IPython.core.display.Javascript object>"
            ],
            "application/javascript": [
              "\n",
              "    async function download(id, filename, size) {\n",
              "      if (!google.colab.kernel.accessAllowed) {\n",
              "        return;\n",
              "      }\n",
              "      const div = document.createElement('div');\n",
              "      const label = document.createElement('label');\n",
              "      label.textContent = `Downloading \"${filename}\": `;\n",
              "      div.appendChild(label);\n",
              "      const progress = document.createElement('progress');\n",
              "      progress.max = size;\n",
              "      div.appendChild(progress);\n",
              "      document.body.appendChild(div);\n",
              "\n",
              "      const buffers = [];\n",
              "      let downloaded = 0;\n",
              "\n",
              "      const channel = await google.colab.kernel.comms.open(id);\n",
              "      // Send a message to notify the kernel that we're ready.\n",
              "      channel.send({})\n",
              "\n",
              "      for await (const message of channel.messages) {\n",
              "        // Send a message to notify the kernel that we're ready.\n",
              "        channel.send({})\n",
              "        if (message.buffers) {\n",
              "          for (const buffer of message.buffers) {\n",
              "            buffers.push(buffer);\n",
              "            downloaded += buffer.byteLength;\n",
              "            progress.value = downloaded;\n",
              "          }\n",
              "        }\n",
              "      }\n",
              "      const blob = new Blob(buffers, {type: 'application/binary'});\n",
              "      const a = document.createElement('a');\n",
              "      a.href = window.URL.createObjectURL(blob);\n",
              "      a.download = filename;\n",
              "      div.appendChild(a);\n",
              "      a.click();\n",
              "      div.remove();\n",
              "    }\n",
              "  "
            ]
          },
          "metadata": {}
        },
        {
          "output_type": "display_data",
          "data": {
            "text/plain": [
              "<IPython.core.display.Javascript object>"
            ],
            "application/javascript": [
              "download(\"download_e2aa4798-c1fe-44ad-bf85-887084fe4ada\", \"cnn_model1_bal_train.pkl\", 1305513)"
            ]
          },
          "metadata": {}
        }
      ]
    },
    {
      "cell_type": "code",
      "source": [
        "###Balanced data\n",
        "##Model2 /LeNet\n",
        "lenet_bal = lenet()\n",
        "\n",
        "##compile\n",
        "lenet_bal.compile(optimizer='adam',\n",
        "              loss='categorical_crossentropy',  # Use categorical cross-entropy for multi-class classification\n",
        "              metrics=['accuracy'])\n",
        "# TODO: Compile and fit your model\n",
        "callback = [EarlyStopping(monitor='accuracy', patience=10)]\n",
        "\n",
        "history_2_bal = lenet_bal.fit(X_train_resampled,y_train_resampled,\n",
        "                            validation_data=(X_test_resampled,y_test_resampled),\n",
        "                            batch_size = 202,\n",
        "                            epochs = 25,\n",
        "                            callbacks = callback)\n"
      ],
      "metadata": {
        "colab": {
          "base_uri": "https://localhost:8080/"
        },
        "id": "KZDRlUsEygb6",
        "outputId": "4ae4d888-3074-4418-fb79-d9f887951dd6"
      },
      "execution_count": null,
      "outputs": [
        {
          "output_type": "stream",
          "name": "stdout",
          "text": [
            "Epoch 1/25\n",
            "186/186 [==============================] - 49s 250ms/step - loss: 1.6625 - accuracy: 0.3367 - val_loss: 1.3415 - val_accuracy: 0.4781\n",
            "Epoch 2/25\n",
            "186/186 [==============================] - 32s 173ms/step - loss: 1.1705 - accuracy: 0.5588 - val_loss: 1.0815 - val_accuracy: 0.5925\n",
            "Epoch 3/25\n",
            "186/186 [==============================] - 31s 165ms/step - loss: 0.9759 - accuracy: 0.6387 - val_loss: 0.9059 - val_accuracy: 0.6685\n",
            "Epoch 4/25\n",
            "186/186 [==============================] - 33s 178ms/step - loss: 0.8415 - accuracy: 0.6879 - val_loss: 0.7995 - val_accuracy: 0.7001\n",
            "Epoch 5/25\n",
            "186/186 [==============================] - 34s 180ms/step - loss: 0.7419 - accuracy: 0.7258 - val_loss: 0.7333 - val_accuracy: 0.7265\n",
            "Epoch 6/25\n",
            "186/186 [==============================] - 31s 167ms/step - loss: 0.6558 - accuracy: 0.7615 - val_loss: 0.6490 - val_accuracy: 0.7609\n",
            "Epoch 7/25\n",
            "186/186 [==============================] - 32s 172ms/step - loss: 0.6074 - accuracy: 0.7794 - val_loss: 0.6328 - val_accuracy: 0.7633\n",
            "Epoch 8/25\n",
            "186/186 [==============================] - 30s 163ms/step - loss: 0.5547 - accuracy: 0.8019 - val_loss: 0.5790 - val_accuracy: 0.7919\n",
            "Epoch 9/25\n",
            "186/186 [==============================] - 31s 165ms/step - loss: 0.5096 - accuracy: 0.8184 - val_loss: 0.5255 - val_accuracy: 0.8146\n",
            "Epoch 10/25\n",
            "186/186 [==============================] - 34s 185ms/step - loss: 0.4618 - accuracy: 0.8369 - val_loss: 0.4957 - val_accuracy: 0.8209\n",
            "Epoch 11/25\n",
            "186/186 [==============================] - 32s 175ms/step - loss: 0.4478 - accuracy: 0.8404 - val_loss: 0.5008 - val_accuracy: 0.8187\n",
            "Epoch 12/25\n",
            "186/186 [==============================] - 32s 174ms/step - loss: 0.4078 - accuracy: 0.8537 - val_loss: 0.4412 - val_accuracy: 0.8430\n",
            "Epoch 13/25\n",
            "186/186 [==============================] - 31s 166ms/step - loss: 0.3852 - accuracy: 0.8619 - val_loss: 0.4183 - val_accuracy: 0.8551\n",
            "Epoch 14/25\n",
            "186/186 [==============================] - 32s 171ms/step - loss: 0.3571 - accuracy: 0.8726 - val_loss: 0.3972 - val_accuracy: 0.8600\n",
            "Epoch 15/25\n",
            "186/186 [==============================] - 31s 168ms/step - loss: 0.3409 - accuracy: 0.8787 - val_loss: 0.3617 - val_accuracy: 0.8700\n",
            "Epoch 16/25\n",
            "186/186 [==============================] - 30s 164ms/step - loss: 0.3281 - accuracy: 0.8838 - val_loss: 0.3571 - val_accuracy: 0.8743\n",
            "Epoch 17/25\n",
            "186/186 [==============================] - 33s 178ms/step - loss: 0.2944 - accuracy: 0.8945 - val_loss: 0.3183 - val_accuracy: 0.8895\n",
            "Epoch 18/25\n",
            "186/186 [==============================] - 31s 164ms/step - loss: 0.2852 - accuracy: 0.8975 - val_loss: 0.3220 - val_accuracy: 0.8865\n",
            "Epoch 19/25\n",
            "186/186 [==============================] - 33s 178ms/step - loss: 0.2683 - accuracy: 0.9046 - val_loss: 0.3549 - val_accuracy: 0.8756\n",
            "Epoch 20/25\n",
            "186/186 [==============================] - 30s 164ms/step - loss: 0.2519 - accuracy: 0.9112 - val_loss: 0.3067 - val_accuracy: 0.8916\n",
            "Epoch 21/25\n",
            "186/186 [==============================] - 40s 215ms/step - loss: 0.2382 - accuracy: 0.9160 - val_loss: 0.3090 - val_accuracy: 0.8914\n",
            "Epoch 22/25\n",
            "186/186 [==============================] - 55s 295ms/step - loss: 0.2282 - accuracy: 0.9194 - val_loss: 0.2665 - val_accuracy: 0.9087\n",
            "Epoch 23/25\n",
            "186/186 [==============================] - 31s 166ms/step - loss: 0.2198 - accuracy: 0.9231 - val_loss: 0.3449 - val_accuracy: 0.8812\n",
            "Epoch 24/25\n",
            "186/186 [==============================] - 33s 179ms/step - loss: 0.2123 - accuracy: 0.9241 - val_loss: 0.2699 - val_accuracy: 0.9082\n",
            "Epoch 25/25\n",
            "186/186 [==============================] - 34s 180ms/step - loss: 0.1985 - accuracy: 0.9309 - val_loss: 0.2600 - val_accuracy: 0.9115\n"
          ]
        }
      ]
    },
    {
      "cell_type": "code",
      "source": [
        "##Saving the model 2 balanced\n",
        "with open('cnn_lenet_bal.pkl', 'wb') as model_file:\n",
        "    pickle.dump(lenet_bal, model_file)\n",
        "\n",
        "lenet_bal.save('cnn_lenet_bal.h5')"
      ],
      "metadata": {
        "id": "S-CD4CkgU8IH"
      },
      "execution_count": null,
      "outputs": []
    },
    {
      "cell_type": "code",
      "source": [
        "##Balanced data Model 3\n",
        "model3_bal = model3((28,28,3), regul=0.0, dropout=0.25)\n",
        "\n",
        "##compile\n",
        "model3_bal.compile(optimizer='adam',\n",
        "              loss='categorical_crossentropy',  # Use categorical cross-entropy for multi-class classification\n",
        "              metrics=['accuracy'])\n",
        "# TODO: Compile and fit your model\n",
        "callback = [EarlyStopping(monitor='accuracy', patience=10)]\n",
        "\n",
        "history_3_bal = model3_bal.fit(X_train_resampled, y_train_resampled,\n",
        "                            validation_data=(X_test,y_test),\n",
        "                            batch_size = 202,\n",
        "                            epochs = 25,\n",
        "                            callbacks = callback)"
      ],
      "metadata": {
        "colab": {
          "base_uri": "https://localhost:8080/",
          "height": 403
        },
        "id": "IGNiyoc7ymyG",
        "outputId": "cf028cf1-3c4c-43ef-9541-7b08d424166d"
      },
      "execution_count": null,
      "outputs": [
        {
          "output_type": "error",
          "ename": "ValueError",
          "evalue": "ignored",
          "traceback": [
            "\u001b[0;31m---------------------------------------------------------------------------\u001b[0m",
            "\u001b[0;31mValueError\u001b[0m                                Traceback (most recent call last)",
            "\u001b[0;32m<ipython-input-180-7c7878d1fa75>\u001b[0m in \u001b[0;36m<cell line: 2>\u001b[0;34m()\u001b[0m\n\u001b[1;32m      1\u001b[0m \u001b[0;31m##Balanced data Model 3\u001b[0m\u001b[0;34m\u001b[0m\u001b[0;34m\u001b[0m\u001b[0m\n\u001b[0;32m----> 2\u001b[0;31m \u001b[0mmodel3_bal\u001b[0m \u001b[0;34m=\u001b[0m \u001b[0mmodel3\u001b[0m\u001b[0;34m(\u001b[0m\u001b[0;34m(\u001b[0m\u001b[0;36m28\u001b[0m\u001b[0;34m,\u001b[0m\u001b[0;36m28\u001b[0m\u001b[0;34m,\u001b[0m\u001b[0;36m3\u001b[0m\u001b[0;34m)\u001b[0m\u001b[0;34m,\u001b[0m \u001b[0mregul\u001b[0m\u001b[0;34m=\u001b[0m\u001b[0;36m0.0\u001b[0m\u001b[0;34m,\u001b[0m \u001b[0mdropout\u001b[0m\u001b[0;34m=\u001b[0m\u001b[0;36m0.25\u001b[0m\u001b[0;34m)\u001b[0m\u001b[0;34m\u001b[0m\u001b[0;34m\u001b[0m\u001b[0m\n\u001b[0m\u001b[1;32m      3\u001b[0m \u001b[0;34m\u001b[0m\u001b[0m\n\u001b[1;32m      4\u001b[0m \u001b[0;31m##compile\u001b[0m\u001b[0;34m\u001b[0m\u001b[0;34m\u001b[0m\u001b[0m\n\u001b[1;32m      5\u001b[0m model3_bal.compile(optimizer='adam',\n",
            "\u001b[0;32m/usr/local/lib/python3.10/dist-packages/keras/utils/traceback_utils.py\u001b[0m in \u001b[0;36merror_handler\u001b[0;34m(*args, **kwargs)\u001b[0m\n\u001b[1;32m     68\u001b[0m             \u001b[0;31m# To get the full stack trace, call:\u001b[0m\u001b[0;34m\u001b[0m\u001b[0;34m\u001b[0m\u001b[0m\n\u001b[1;32m     69\u001b[0m             \u001b[0;31m# `tf.debugging.disable_traceback_filtering()`\u001b[0m\u001b[0;34m\u001b[0m\u001b[0;34m\u001b[0m\u001b[0m\n\u001b[0;32m---> 70\u001b[0;31m             \u001b[0;32mraise\u001b[0m \u001b[0me\u001b[0m\u001b[0;34m.\u001b[0m\u001b[0mwith_traceback\u001b[0m\u001b[0;34m(\u001b[0m\u001b[0mfiltered_tb\u001b[0m\u001b[0;34m)\u001b[0m \u001b[0;32mfrom\u001b[0m \u001b[0;32mNone\u001b[0m\u001b[0;34m\u001b[0m\u001b[0;34m\u001b[0m\u001b[0m\n\u001b[0m\u001b[1;32m     71\u001b[0m         \u001b[0;32mfinally\u001b[0m\u001b[0;34m:\u001b[0m\u001b[0;34m\u001b[0m\u001b[0;34m\u001b[0m\u001b[0m\n\u001b[1;32m     72\u001b[0m             \u001b[0;32mdel\u001b[0m \u001b[0mfiltered_tb\u001b[0m\u001b[0;34m\u001b[0m\u001b[0;34m\u001b[0m\u001b[0m\n",
            "\u001b[0;32m/usr/local/lib/python3.10/dist-packages/keras/engine/input_spec.py\u001b[0m in \u001b[0;36massert_input_compatibility\u001b[0;34m(input_spec, inputs, layer_name)\u001b[0m\n\u001b[1;32m    217\u001b[0m \u001b[0;34m\u001b[0m\u001b[0m\n\u001b[1;32m    218\u001b[0m     \u001b[0;32mif\u001b[0m \u001b[0mlen\u001b[0m\u001b[0;34m(\u001b[0m\u001b[0minputs\u001b[0m\u001b[0;34m)\u001b[0m \u001b[0;34m!=\u001b[0m \u001b[0mlen\u001b[0m\u001b[0;34m(\u001b[0m\u001b[0minput_spec\u001b[0m\u001b[0;34m)\u001b[0m\u001b[0;34m:\u001b[0m\u001b[0;34m\u001b[0m\u001b[0;34m\u001b[0m\u001b[0m\n\u001b[0;32m--> 219\u001b[0;31m         raise ValueError(\n\u001b[0m\u001b[1;32m    220\u001b[0m             \u001b[0;34mf'Layer \"{layer_name}\" expects {len(input_spec)} input(s),'\u001b[0m\u001b[0;34m\u001b[0m\u001b[0;34m\u001b[0m\u001b[0m\n\u001b[1;32m    221\u001b[0m             \u001b[0;34mf\" but it received {len(inputs)} input tensors. \"\u001b[0m\u001b[0;34m\u001b[0m\u001b[0;34m\u001b[0m\u001b[0m\n",
            "\u001b[0;31mValueError\u001b[0m: Layer \"sequential_13\" expects 1 input(s), but it received 3 input tensors. Inputs received: [<tf.Tensor: shape=(), dtype=int32, numpy=28>, <tf.Tensor: shape=(), dtype=int32, numpy=28>, <tf.Tensor: shape=(), dtype=int32, numpy=3>]"
          ]
        }
      ]
    },
    {
      "cell_type": "code",
      "source": [
        "##Saving the model 3 balanced\n",
        "with open('cnn_model3_bal.pkl', 'wb') as model_file:\n",
        "    pickle.dump(model3_bal, model_file)\n",
        "\n",
        "model3_bal.save('cnn_model3_bal.h5')"
      ],
      "metadata": {
        "id": "p_T9YfiUVWMZ"
      },
      "execution_count": null,
      "outputs": []
    },
    {
      "cell_type": "markdown",
      "source": [
        "#####Plot results of the three models with Balanced data"
      ],
      "metadata": {
        "id": "OHp5zSmvywLF"
      }
    },
    {
      "cell_type": "code",
      "source": [
        "##Plot the two models results\n",
        "# TODO: Compute the accuracy of your model\n",
        "##\n",
        "loss_model1 = history_1_bal.history['accuracy']\n",
        "val_model1 = history_1_bal.history['val_accuracy']\n",
        "##LeNet model\n",
        "loss_LeNet = history_2_bal.history['accuracy']\n",
        "val_LeNet = history_2_bal.history['val_accuracy']\n",
        "##LeNet model\n",
        "#loss_model3 = history_3_bal.history['accuracy']\n",
        "#val_model3 = history_3_bal.history['val_accuracy']\n",
        "\n",
        "import matplotlib.pyplot as plt\n",
        "plt.figure(figsize=(8, 6))\n",
        "plt.subplot(1, 3, 1)\n",
        "plt.plot(loss_model1,label = 'Train accuracy Model1')\n",
        "plt.plot(val_model1, label = 'Val accuracy Model1')\n",
        "plt.title(\"Model 1\")\n",
        "\n",
        "plt.xlabel('Epochs')\n",
        "plt.ylabel('Valeur de la Loss')\n",
        "plt.subplot(1, 3, 2)\n",
        "plt.plot(loss_LeNet,label = 'Train accuracy LeNet')\n",
        "plt.plot(val_LeNet, label = 'Val accuracy LeNet')\n",
        "plt.title(\"LeNet5\")\n",
        "plt.xlabel('Epochs')\n",
        "plt.ylabel('')\n",
        "#plt.subplot(1, 3, 3)\n",
        "#plt.plot(loss_model3,label = 'Train accuracy LeNet')\n",
        "#plt.plot(val_model3, label = 'Val accuracy LeNet')\n",
        "#plt.title(\"Model3\")\n",
        "#plt.legend(loc='center left', bbox_to_anchor=(1, 0.5))\n",
        "#plt.xlabel('Epochs')\n",
        "#plt.ylabel('')\n",
        "plt.savefig(\"CNN_Results_Balanced_data.jpg\", format='jpg')"
      ],
      "metadata": {
        "colab": {
          "base_uri": "https://localhost:8080/",
          "height": 564
        },
        "id": "PD8c3-KLyb6G",
        "outputId": "6692c83a-7b1b-41aa-d65b-7fc1683e543c"
      },
      "execution_count": null,
      "outputs": [
        {
          "output_type": "display_data",
          "data": {
            "text/plain": [
              "<Figure size 800x600 with 2 Axes>"
            ],
            "image/png": "[encoded data removed]"
          },
          "metadata": {}
        }
      ]
    },
    {
      "cell_type": "markdown",
      "source": [
        "###2.6 CNN MODELING WITH BALANCED DATASET AND AUGMENTATION"
      ],
      "metadata": {
        "id": "-8Y9fQzZ941p"
      }
    },
    {
      "cell_type": "code",
      "source": [
        "# Fit ImageDataGenerator object\n",
        "datagen.fit(X_train_resampled)\n",
        "batch_size = 32\n",
        "\n",
        "##Create a train_generator model\n",
        "train_generator = datagen.flow(X_train_resampled, y_train_resampled, batch_size=batch_size)"
      ],
      "metadata": {
        "id": "_Bp9LhEV-B6_"
      },
      "execution_count": null,
      "outputs": []
    },
    {
      "cell_type": "code",
      "source": [
        "##Run on Model1\n",
        "##Model1\n",
        "##Run model\n",
        "model1_aug_bal = model1()\n",
        "\n",
        "model1_aug_bal.compile(optimizer='adam',\n",
        "              loss='categorical_crossentropy',  # Use categorical cross-entropy for multi-class classification\n",
        "              metrics=['accuracy'])\n",
        "# TODO: Compile and fit your model\n",
        "callback = [EarlyStopping(monitor='accuracy', patience=10)]\n",
        "\n",
        "history_1_bal_aug = model1_aug_bal.fit(train_generator,\n",
        "                            validation_data=(X_test,y_test),\n",
        "                            batch_size = 202,\n",
        "                            epochs = 25)\n",
        "\n"
      ],
      "metadata": {
        "colab": {
          "base_uri": "https://localhost:8080/"
        },
        "id": "E729txDm-QHO",
        "outputId": "aca99b5f-d638-4eda-eb83-b783e86a33a9"
      },
      "execution_count": null,
      "outputs": [
        {
          "output_type": "stream",
          "name": "stdout",
          "text": [
            "Epoch 1/25\n",
            "1174/1174 [==============================] - 108s 90ms/step - loss: 1.9477 - accuracy: 0.1395 - val_loss: 1.8498 - val_accuracy: 0.2611\n",
            "Epoch 2/25\n",
            "1174/1174 [==============================] - 76s 65ms/step - loss: 1.9463 - accuracy: 0.1445 - val_loss: 1.2314 - val_accuracy: 0.6695\n",
            "Epoch 3/25\n",
            "1174/1174 [==============================] - 75s 64ms/step - loss: 1.9456 - accuracy: 0.1453 - val_loss: 2.6433 - val_accuracy: 0.6695\n",
            "Epoch 4/25\n",
            "1174/1174 [==============================] - 77s 66ms/step - loss: 1.9458 - accuracy: 0.1399 - val_loss: 1.4244 - val_accuracy: 0.6695\n",
            "Epoch 5/25\n",
            "1174/1174 [==============================] - 76s 65ms/step - loss: 1.9450 - accuracy: 0.1411 - val_loss: 1.8654 - val_accuracy: 0.2931\n",
            "Epoch 6/25\n",
            "1174/1174 [==============================] - 75s 64ms/step - loss: 1.9452 - accuracy: 0.1393 - val_loss: 1.4320 - val_accuracy: 0.6695\n",
            "Epoch 7/25\n",
            "1174/1174 [==============================] - 75s 64ms/step - loss: 1.9455 - accuracy: 0.1413 - val_loss: 3.9030 - val_accuracy: 0.6695\n",
            "Epoch 8/25\n",
            "1174/1174 [==============================] - 73s 62ms/step - loss: 1.9456 - accuracy: 0.1381 - val_loss: 7.7791 - val_accuracy: 0.6695\n",
            "Epoch 9/25\n",
            "1174/1174 [==============================] - 75s 64ms/step - loss: 1.9451 - accuracy: 0.1435 - val_loss: 9.6173 - val_accuracy: 0.6695\n",
            "Epoch 10/25\n",
            "1174/1174 [==============================] - 74s 63ms/step - loss: 1.9456 - accuracy: 0.1419 - val_loss: 5.9828 - val_accuracy: 0.6695\n",
            "Epoch 11/25\n",
            "1174/1174 [==============================] - 73s 63ms/step - loss: 1.9448 - accuracy: 0.1426 - val_loss: 3.6019 - val_accuracy: 0.6695\n",
            "Epoch 12/25\n",
            "1174/1174 [==============================] - 76s 65ms/step - loss: 1.9459 - accuracy: 0.1409 - val_loss: 1.7288 - val_accuracy: 0.4089\n",
            "Epoch 13/25\n",
            "1174/1174 [==============================] - 75s 64ms/step - loss: 1.9454 - accuracy: 0.1438 - val_loss: 1.4872 - val_accuracy: 0.6540\n",
            "Epoch 14/25\n",
            "1174/1174 [==============================] - 74s 63ms/step - loss: 1.9455 - accuracy: 0.1428 - val_loss: 1.9419 - val_accuracy: 0.1238\n",
            "Epoch 15/25\n",
            "1174/1174 [==============================] - 76s 64ms/step - loss: 1.9455 - accuracy: 0.1408 - val_loss: 9.9333 - val_accuracy: 0.6695\n",
            "Epoch 16/25\n",
            "1174/1174 [==============================] - 75s 64ms/step - loss: 1.9454 - accuracy: 0.1427 - val_loss: 11.9293 - val_accuracy: 0.6695\n",
            "Epoch 17/25\n",
            "1174/1174 [==============================] - 75s 64ms/step - loss: 1.9454 - accuracy: 0.1405 - val_loss: 6.0591 - val_accuracy: 0.6695\n",
            "Epoch 18/25\n",
            "1174/1174 [==============================] - 77s 66ms/step - loss: 1.9449 - accuracy: 0.1418 - val_loss: 30.2019 - val_accuracy: 0.6695\n",
            "Epoch 19/25\n",
            "1174/1174 [==============================] - 73s 62ms/step - loss: 1.9452 - accuracy: 0.1452 - val_loss: 7.0192 - val_accuracy: 0.6695\n",
            "Epoch 20/25\n",
            "1174/1174 [==============================] - 75s 63ms/step - loss: 1.9453 - accuracy: 0.1416 - val_loss: 3.5234 - val_accuracy: 0.6695\n",
            "Epoch 21/25\n",
            "1174/1174 [==============================] - 77s 66ms/step - loss: 1.9452 - accuracy: 0.1401 - val_loss: 7.1625 - val_accuracy: 0.6695\n",
            "Epoch 22/25\n",
            "1174/1174 [==============================] - 75s 64ms/step - loss: 1.9451 - accuracy: 0.1417 - val_loss: 4.3312 - val_accuracy: 0.6695\n",
            "Epoch 23/25\n",
            "1174/1174 [==============================] - 75s 64ms/step - loss: 1.9452 - accuracy: 0.1410 - val_loss: 2.4790 - val_accuracy: 0.6316\n",
            "Epoch 24/25\n",
            "1174/1174 [==============================] - 76s 64ms/step - loss: 1.9459 - accuracy: 0.1418 - val_loss: 5.8523 - val_accuracy: 0.6695\n",
            "Epoch 25/25\n",
            "1174/1174 [==============================] - 74s 63ms/step - loss: 1.9449 - accuracy: 0.1417 - val_loss: 58.5709 - val_accuracy: 0.6695\n"
          ]
        }
      ]
    },
    {
      "cell_type": "code",
      "source": [
        "##Saving the model 3 balanced\n",
        "with open('cnn_model1_aug_bal.pkl', 'wb') as model_file:\n",
        "    pickle.dump(model1_aug_bal, model_file)\n",
        "\n",
        "model1_aug_bal.save('cnn_model1_aug_bal.h5')"
      ],
      "metadata": {
        "id": "aswwBhJp6klF"
      },
      "execution_count": null,
      "outputs": []
    },
    {
      "cell_type": "markdown",
      "source": [
        "####2.7 Choosing the right Model\n",
        "Model 1 with data augmented seems the best model for prediction we will plot the confusion matrices for test & train with Model1 without and with data augmentation."
      ],
      "metadata": {
        "id": "PLxyWZm9jilt"
      }
    },
    {
      "cell_type": "markdown",
      "source": [
        "###3.MACHINE LEARNING : SUPERVIZED ML FOR PREDICTION\n",
        "\n",
        "\n",
        "\n",
        "\n",
        "\n"
      ],
      "metadata": {
        "id": "ZcxOX-1IhbLw"
      }
    },
    {
      "cell_type": "markdown",
      "source": [
        "####3.1 Prepare flatten images dataset"
      ],
      "metadata": {
        "id": "RUwoe_Zps-X5"
      }
    },
    {
      "cell_type": "code",
      "source": [
        "###IF WE WANT TO RESTART FROM THE FLATTEN CSV FILE\n",
        "# Load the CSV file containing flattened image data and labels.\n",
        "df = pd.read_csv('/content/image_scaled_flatten.csv')\n",
        "\n",
        "# Extract flattened image data and labels.\n",
        "y = df['y'].values\n",
        "df = df.drop('Unnamed: 0', axis=1)\n",
        "df = df.drop('labels_id', axis=1)\n",
        "X = df"
      ],
      "metadata": {
        "id": "bsCtRi9YhgQl"
      },
      "execution_count": null,
      "outputs": []
    },
    {
      "cell_type": "code",
      "source": [],
      "metadata": {
        "id": "1zYk97Ic8FZu"
      },
      "execution_count": null,
      "outputs": []
    },
    {
      "cell_type": "code",
      "source": [
        "##Train test split\n",
        "X = df\n",
        "X_train_ml, X_test_ml, y_train_ml, y_test_ml = train_test_split(X, y, stratify= y, test_size=0.2, random_state=42)\n",
        "X_train_ml.shape, y_train_ml.shape, X_test_ml.shape, y_test_ml.shape\n"
      ],
      "metadata": {
        "colab": {
          "base_uri": "https://localhost:8080/"
        },
        "id": "rjE6R9kEh49V",
        "outputId": "75a6e184-485d-46cc-cec7-95c2fcdb7cc8"
      },
      "execution_count": null,
      "outputs": [
        {
          "output_type": "execute_result",
          "data": {
            "text/plain": [
              "((8012, 2352), (8012,), (2003, 2352), (2003,))"
            ]
          },
          "metadata": {},
          "execution_count": 51
        }
      ]
    },
    {
      "cell_type": "markdown",
      "source": [
        "####3.2 Run Models"
      ],
      "metadata": {
        "id": "_Jja3InutE49"
      }
    },
    {
      "cell_type": "markdown",
      "source": [
        "####Logistic Regression"
      ],
      "metadata": {
        "id": "gPbqOHBBtJQL"
      }
    },
    {
      "cell_type": "code",
      "source": [
        "##LR\n",
        "lr = LogisticRegression()\n",
        "lr.fit(X_train_ml, y_train_ml)\n",
        "acc_lr= accuracy_score(y_test_ml, lr.predict(X_test_ml))\n",
        "acc_lr"
      ],
      "metadata": {
        "colab": {
          "base_uri": "https://localhost:8080/"
        },
        "id": "tUqT33nThwRY",
        "outputId": "f08793eb-838e-4354-80cf-cee67c481d21"
      },
      "execution_count": null,
      "outputs": [
        {
          "output_type": "stream",
          "name": "stderr",
          "text": [
            "/usr/local/lib/python3.10/dist-packages/sklearn/linear_model/_logistic.py:458: ConvergenceWarning: lbfgs failed to converge (status=1):\n",
            "STOP: TOTAL NO. of ITERATIONS REACHED LIMIT.\n",
            "\n",
            "Increase the number of iterations (max_iter) or scale the data as shown in:\n",
            "    https://scikit-learn.org/stable/modules/preprocessing.html\n",
            "Please also refer to the documentation for alternative solver options:\n",
            "    https://scikit-learn.org/stable/modules/linear_model.html#logistic-regression\n",
            "  n_iter_i = _check_optimize_result(\n"
          ]
        },
        {
          "output_type": "execute_result",
          "data": {
            "text/plain": [
              "0.6959560659011482"
            ]
          },
          "metadata": {},
          "execution_count": 54
        }
      ]
    },
    {
      "cell_type": "markdown",
      "source": [
        "#####K Neighbors classifier"
      ],
      "metadata": {
        "id": "7GhOvo3AtMYq"
      }
    },
    {
      "cell_type": "code",
      "source": [
        "##KNN\n",
        "from sklearn.neighbors import KNeighborsClassifier\n",
        "knn_model = KNeighborsClassifier(n_neighbors=10)\n",
        "knn_model.fit(X_train_ml, y_train_ml)\n",
        "acc_knn= accuracy_score(y_test_ml, knn_model.predict(X_test_ml))\n",
        "acc_knn"
      ],
      "metadata": {
        "colab": {
          "base_uri": "https://localhost:8080/"
        },
        "id": "cTh8Wjc0oKC7",
        "outputId": "4205d193-b8ce-4c66-f295-212d86800cd8"
      },
      "execution_count": null,
      "outputs": [
        {
          "output_type": "execute_result",
          "data": {
            "text/plain": [
              "0.6949575636545182"
            ]
          },
          "metadata": {},
          "execution_count": 55
        }
      ]
    },
    {
      "cell_type": "markdown",
      "source": [
        "####Linear Discriminant Analysis"
      ],
      "metadata": {
        "id": "ooDayqh9tSF0"
      }
    },
    {
      "cell_type": "code",
      "source": [
        "###Linear Discriminant Analysis\n",
        "from sklearn.discriminant_analysis import LinearDiscriminantAnalysis\n",
        "lda_model = LinearDiscriminantAnalysis()\n",
        "lda_model.fit(X_train_ml, y_train_ml)\n",
        "acc_lda= accuracy_score(y_test_ml, lda_model.predict(X_test_ml))\n",
        "acc_lda"
      ],
      "metadata": {
        "colab": {
          "base_uri": "https://localhost:8080/"
        },
        "id": "jIKUXNImpGtn",
        "outputId": "f5e11cd5-bbf2-401d-cbbd-e07507debf0b"
      },
      "execution_count": null,
      "outputs": [
        {
          "output_type": "execute_result",
          "data": {
            "text/plain": [
              "0.6270594108836745"
            ]
          },
          "metadata": {},
          "execution_count": 64
        }
      ]
    },
    {
      "cell_type": "markdown",
      "source": [
        "####SVM"
      ],
      "metadata": {
        "id": "k3hg2AjLtYN3"
      }
    },
    {
      "cell_type": "code",
      "source": [
        "##SVM model\n",
        "from sklearn import svm\n",
        "svm = svm.SVC(kernel='linear')\n",
        "svm.fit(X_train_ml, y_train_ml)\n",
        "acc_svm = accuracy_score(y_test_ml, svm.predict(X_test_ml))\n"
      ],
      "metadata": {
        "id": "5xcj9uEfz4d8"
      },
      "execution_count": null,
      "outputs": []
    },
    {
      "cell_type": "code",
      "source": [
        "acc_svm"
      ],
      "metadata": {
        "colab": {
          "base_uri": "https://localhost:8080/"
        },
        "id": "j13oZzr50kqE",
        "outputId": "dc970135-4060-41c3-8263-ab249cbe6afe"
      },
      "execution_count": null,
      "outputs": [
        {
          "output_type": "execute_result",
          "data": {
            "text/plain": [
              "0.6839740389415876"
            ]
          },
          "metadata": {},
          "execution_count": 53
        }
      ]
    },
    {
      "cell_type": "markdown",
      "source": [
        "####Random forest"
      ],
      "metadata": {
        "id": "T41FbbrxtbXW"
      }
    },
    {
      "cell_type": "code",
      "source": [
        "###Random Forest\n",
        "from sklearn.ensemble import RandomForestClassifier\n",
        "clf = RandomForestClassifier()\n",
        "clf.fit(X_train_ml, y_train_ml)\n",
        "acc_rf = accuracy_score(y_test_ml, clf.predict(X_test_ml))\n",
        "acc_rf"
      ],
      "metadata": {
        "colab": {
          "base_uri": "https://localhost:8080/"
        },
        "id": "az1ECh2w0Lx6",
        "outputId": "96213159-4ed9-4abd-902e-b8aa33439e36"
      },
      "execution_count": null,
      "outputs": [
        {
          "output_type": "execute_result",
          "data": {
            "text/plain": [
              "0.7154268597104343"
            ]
          },
          "metadata": {},
          "execution_count": 56
        }
      ]
    },
    {
      "cell_type": "markdown",
      "source": [
        "###3.3 Results from Linear Models"
      ],
      "metadata": {
        "id": "Bkgqirt4td-_"
      }
    },
    {
      "cell_type": "code",
      "source": [
        "##BARPLOT\n",
        "data = {\n",
        "    'Model': ['Logistic Regression', 'KNeighbors', 'Linear Discriminant Analysis', 'SVM', 'Random Forest'],\n",
        "    'Accuracy': [0.6959, 0.6949, 0.6205, 0.624, 0.7154]\n",
        "}\n",
        "df = pd.DataFrame(data)\n",
        "# Sort the DataFrame by accuracy in descending order\n",
        "df = df.sort_values(by='Accuracy', ascending=False)\n",
        "\n",
        "# Create the bar plot\n",
        "plt.figure(figsize=(10, 6))\n",
        "ax = sns.barplot(x='Model', y='Accuracy', data=df, palette='viridis')\n",
        "\n",
        "# Add data labels\n",
        "for p in ax.patches:\n",
        "    ax.annotate(f'{p.get_height():.2f}', (p.get_x() + p.get_width() / 2., p.get_height()),\n",
        "                ha='center', va='center', fontsize=12, color='black', xytext=(0, 10),\n",
        "                textcoords='offset points')\n",
        "\n",
        "plt.title('Model Accuracy')\n",
        "plt.ylim(0, 1.0)  # Set y-axis limits\n",
        "plt.xticks(rotation=45)  # Rotate x-axis labels for better readability\n",
        "plt.tight_layout()\n",
        "\n",
        "plt.show()\n",
        "plt.savefig(\"Results_ML_images_analysis.jpg\", format='jpg')"
      ],
      "metadata": {
        "colab": {
          "base_uri": "https://localhost:8080/",
          "height": 611
        },
        "id": "4sFkWd2CmBIR",
        "outputId": "aff71f86-34f2-40a5-a071-de92554c7246"
      },
      "execution_count": null,
      "outputs": [
        {
          "output_type": "display_data",
          "data": {
            "text/plain": [
              "<Figure size 1000x600 with 1 Axes>"
            ],
            "image/png": "[encoded data removed]"
          },
          "metadata": {}
        },
        {
          "output_type": "display_data",
          "data": {
            "text/plain": [
              "<Figure size 640x480 with 0 Axes>"
            ]
          },
          "metadata": {}
        }
      ]
    },
    {
      "cell_type": "code",
      "source": [
        "##Plotting confusion test and train matrices from SVM\n",
        "from sklearn.metrics import confusion_matrix\n",
        "\n",
        "# Predictions on the train and test datasets\n",
        "conf_matrix_test_rf = confusion_matrix(y_test_ml, clf.predict(X_test_ml))\n",
        "conf_matrix_test_lr = confusion_matrix(y_test_ml, lr.predict(X_test_ml))\n",
        "\n",
        "class_labels_text =['akiec', 'bcc', 'bkl', 'df', 'mel', 'nv', 'vasc']\n",
        "\n",
        "# Plot the confusion matrix for the training dataset\n",
        "plt.subplot(2, 1, 1)\n",
        "sns.set(font_scale=1.2)\n",
        "sns.heatmap(conf_matrix_test_lr, annot=True, fmt='d', cmap='Blues', xticklabels=class_labels_text, yticklabels=class_labels_text)\n",
        "plt.xlabel(\"Predicted Labels\")\n",
        "plt.ylabel(\"True Labels\")\n",
        "plt.title(\"Confusion Matrix Logistic Regression (Test)\")\n",
        "\n",
        "# Plot the confusion matrix for the test dataset\n",
        "plt.subplot(2, 1, 2)\n",
        "sns.set(font_scale=1.2)\n",
        "sns.heatmap(conf_matrix_test_rf, annot=True, fmt='d', cmap='Blues', xticklabels=class_labels_text, yticklabels=class_labels_text)\n",
        "plt.xlabel(\"Predicted Labels\")\n",
        "plt.ylabel(\"True Labels\")\n",
        "plt.title(\"Confusion Matrix Random Forest (Test)\")\n",
        "\n",
        "plt.tight_layout()\n",
        "plt.show()\n"
      ],
      "metadata": {
        "colab": {
          "base_uri": "https://localhost:8080/",
          "height": 473
        },
        "id": "PXo0MxwUkrXU",
        "outputId": "35c8cf99-ab58-49cd-cdaa-812b319fef21"
      },
      "execution_count": null,
      "outputs": [
        {
          "output_type": "display_data",
          "data": {
            "text/plain": [
              "<Figure size 640x480 with 4 Axes>"
            ],
            "image/png": "[encoded data removed]"
          },
          "metadata": {}
        }
      ]
    },
    {
      "cell_type": "markdown",
      "source": [
        "##3.4. Saving ML models for predictions"
      ],
      "metadata": {
        "id": "2aEl8pgEtw5j"
      }
    },
    {
      "cell_type": "markdown",
      "source": [
        "####Saving ML models"
      ],
      "metadata": {
        "id": "i-KgU67HuU0d"
      }
    },
    {
      "cell_type": "code",
      "source": [
        "##Saving with pickle in .sav\n",
        "import pickle\n",
        "pickle.dump(lr, open(f\"model_lr_Image_Analysis.sav\", \"wb\"))\n",
        "pickle.dump(lda_model, open(f\"model_lda_Image_Analysis.sav\", \"wb\"))\n",
        "pickle.dump(knn_model, open(f\"model_knn_Image_Analysis.sav\", \"wb\"))\n",
        "pickle.dump(clf, open(f\"model_rf_Image_Analysis.sav\", \"wb\"))\n",
        "pickle.dump(svm, open(f\"model_svm_Image_Analysis.sav\", \"wb\"))\n"
      ],
      "metadata": {
        "id": "-vWLb3Uiu7FD"
      },
      "execution_count": null,
      "outputs": []
    },
    {
      "cell_type": "code",
      "source": [
        "###Latter one to predict on a new data\n",
        "# Save the trained model to a file using pickle\n",
        "with open('model_lr_Image_Analysis.pkl', 'wb') as file:\n",
        "    pickle.dump(lr, file)\n",
        "\n",
        "with open('model_lda_Image_Analysis.pkl', 'wb') as file:\n",
        "    pickle.dump(lda_model, file)\n",
        "\n",
        "with open('model_knn_Image_Analysis.pkl', 'wb') as file:\n",
        "    pickle.dump(knn_model, file)\n",
        "\n",
        "with open('model_rf_Image_Analysis.pkl', 'wb') as file:\n",
        "    pickle.dump(clf, file)\n",
        "\n",
        "with open('model_svm_Image_Analysis.pkl', 'wb') as file:\n",
        "    pickle.dump(svm, file)\n"
      ],
      "metadata": {
        "id": "QgvfyeurvsUi"
      },
      "execution_count": null,
      "outputs": []
    },
    {
      "cell_type": "code",
      "source": [
        "##Download models\n",
        "files.download(\"/content/model_lr_Image_Analysis.pkl\")\n",
        "files.download(\"/content/model_lda_Image_Analysis.pkl\")\n",
        "files.download(\"/content/model_knn_Image_Analysis.pkl\")\n",
        "files.download(\"/content/model_rf_Image_Analysis.pkl\")\n",
        "files.download(\"/content/model_svm_Image_Analysis.pkl\")\n",
        "\n",
        "##in sav\n",
        "files.download(\"/content/model_lr_Image_Analysis.sav\")\n",
        "files.download(\"/content/model_lda_Image_Analysis.sav\")\n",
        "files.download(\"/content/model_knn_Image_Analysis.sav\")\n",
        "files.download(\"/content/model_rf_Image_Analysis.sav\")\n",
        "files.download(\"/content/model_svm_Image_Analysis.sav\")"
      ],
      "metadata": {
        "colab": {
          "base_uri": "https://localhost:8080/",
          "height": 17
        },
        "id": "fYRSz53z_e8h",
        "outputId": "507edbaf-385c-45fb-ac3a-e04e3db12f0e"
      },
      "execution_count": null,
      "outputs": [
        {
          "output_type": "display_data",
          "data": {
            "text/plain": [
              "<IPython.core.display.Javascript object>"
            ],
            "application/javascript": [
              "\n",
              "    async function download(id, filename, size) {\n",
              "      if (!google.colab.kernel.accessAllowed) {\n",
              "        return;\n",
              "      }\n",
              "      const div = document.createElement('div');\n",
              "      const label = document.createElement('label');\n",
              "      label.textContent = `Downloading \"${filename}\": `;\n",
              "      div.appendChild(label);\n",
              "      const progress = document.createElement('progress');\n",
              "      progress.max = size;\n",
              "      div.appendChild(progress);\n",
              "      document.body.appendChild(div);\n",
              "\n",
              "      const buffers = [];\n",
              "      let downloaded = 0;\n",
              "\n",
              "      const channel = await google.colab.kernel.comms.open(id);\n",
              "      // Send a message to notify the kernel that we're ready.\n",
              "      channel.send({})\n",
              "\n",
              "      for await (const message of channel.messages) {\n",
              "        // Send a message to notify the kernel that we're ready.\n",
              "        channel.send({})\n",
              "        if (message.buffers) {\n",
              "          for (const buffer of message.buffers) {\n",
              "            buffers.push(buffer);\n",
              "            downloaded += buffer.byteLength;\n",
              "            progress.value = downloaded;\n",
              "          }\n",
              "        }\n",
              "      }\n",
              "      const blob = new Blob(buffers, {type: 'application/binary'});\n",
              "      const a = document.createElement('a');\n",
              "      a.href = window.URL.createObjectURL(blob);\n",
              "      a.download = filename;\n",
              "      div.appendChild(a);\n",
              "      a.click();\n",
              "      div.remove();\n",
              "    }\n",
              "  "
            ]
          },
          "metadata": {}
        },
        {
          "output_type": "display_data",
          "data": {
            "text/plain": [
              "<IPython.core.display.Javascript object>"
            ],
            "application/javascript": [
              "download(\"download_519b3234-6c69-40fe-bc24-fdaa233594f9\", \"model_lr_Image_Analysis.pkl\", 132522)"
            ]
          },
          "metadata": {}
        },
        {
          "output_type": "display_data",
          "data": {
            "text/plain": [
              "<IPython.core.display.Javascript object>"
            ],
            "application/javascript": [
              "\n",
              "    async function download(id, filename, size) {\n",
              "      if (!google.colab.kernel.accessAllowed) {\n",
              "        return;\n",
              "      }\n",
              "      const div = document.createElement('div');\n",
              "      const label = document.createElement('label');\n",
              "      label.textContent = `Downloading \"${filename}\": `;\n",
              "      div.appendChild(label);\n",
              "      const progress = document.createElement('progress');\n",
              "      progress.max = size;\n",
              "      div.appendChild(progress);\n",
              "      document.body.appendChild(div);\n",
              "\n",
              "      const buffers = [];\n",
              "      let downloaded = 0;\n",
              "\n",
              "      const channel = await google.colab.kernel.comms.open(id);\n",
              "      // Send a message to notify the kernel that we're ready.\n",
              "      channel.send({})\n",
              "\n",
              "      for await (const message of channel.messages) {\n",
              "        // Send a message to notify the kernel that we're ready.\n",
              "        channel.send({})\n",
              "        if (message.buffers) {\n",
              "          for (const buffer of message.buffers) {\n",
              "            buffers.push(buffer);\n",
              "            downloaded += buffer.byteLength;\n",
              "            progress.value = downloaded;\n",
              "          }\n",
              "        }\n",
              "      }\n",
              "      const blob = new Blob(buffers, {type: 'application/binary'});\n",
              "      const a = document.createElement('a');\n",
              "      a.href = window.URL.createObjectURL(blob);\n",
              "      a.download = filename;\n",
              "      div.appendChild(a);\n",
              "      a.click();\n",
              "      div.remove();\n",
              "    }\n",
              "  "
            ]
          },
          "metadata": {}
        },
        {
          "output_type": "display_data",
          "data": {
            "text/plain": [
              "<IPython.core.display.Javascript object>"
            ],
            "application/javascript": [
              "download(\"download_2231fd48-77b8-4272-b6ed-dda17aab77f7\", \"model_lda_Image_Analysis.pkl\", 396162)"
            ]
          },
          "metadata": {}
        },
        {
          "output_type": "display_data",
          "data": {
            "text/plain": [
              "<IPython.core.display.Javascript object>"
            ],
            "application/javascript": [
              "\n",
              "    async function download(id, filename, size) {\n",
              "      if (!google.colab.kernel.accessAllowed) {\n",
              "        return;\n",
              "      }\n",
              "      const div = document.createElement('div');\n",
              "      const label = document.createElement('label');\n",
              "      label.textContent = `Downloading \"${filename}\": `;\n",
              "      div.appendChild(label);\n",
              "      const progress = document.createElement('progress');\n",
              "      progress.max = size;\n",
              "      div.appendChild(progress);\n",
              "      document.body.appendChild(div);\n",
              "\n",
              "      const buffers = [];\n",
              "      let downloaded = 0;\n",
              "\n",
              "      const channel = await google.colab.kernel.comms.open(id);\n",
              "      // Send a message to notify the kernel that we're ready.\n",
              "      channel.send({})\n",
              "\n",
              "      for await (const message of channel.messages) {\n",
              "        // Send a message to notify the kernel that we're ready.\n",
              "        channel.send({})\n",
              "        if (message.buffers) {\n",
              "          for (const buffer of message.buffers) {\n",
              "            buffers.push(buffer);\n",
              "            downloaded += buffer.byteLength;\n",
              "            progress.value = downloaded;\n",
              "          }\n",
              "        }\n",
              "      }\n",
              "      const blob = new Blob(buffers, {type: 'application/binary'});\n",
              "      const a = document.createElement('a');\n",
              "      a.href = window.URL.createObjectURL(blob);\n",
              "      a.download = filename;\n",
              "      div.appendChild(a);\n",
              "      a.click();\n",
              "      div.remove();\n",
              "    }\n",
              "  "
            ]
          },
          "metadata": {}
        },
        {
          "output_type": "display_data",
          "data": {
            "text/plain": [
              "<IPython.core.display.Javascript object>"
            ],
            "application/javascript": [
              "download(\"download_cd6334d3-6119-423e-88bf-58bc569410a9\", \"model_knn_Image_Analysis.pkl\", 150818606)"
            ]
          },
          "metadata": {}
        },
        {
          "output_type": "display_data",
          "data": {
            "text/plain": [
              "<IPython.core.display.Javascript object>"
            ],
            "application/javascript": [
              "\n",
              "    async function download(id, filename, size) {\n",
              "      if (!google.colab.kernel.accessAllowed) {\n",
              "        return;\n",
              "      }\n",
              "      const div = document.createElement('div');\n",
              "      const label = document.createElement('label');\n",
              "      label.textContent = `Downloading \"${filename}\": `;\n",
              "      div.appendChild(label);\n",
              "      const progress = document.createElement('progress');\n",
              "      progress.max = size;\n",
              "      div.appendChild(progress);\n",
              "      document.body.appendChild(div);\n",
              "\n",
              "      const buffers = [];\n",
              "      let downloaded = 0;\n",
              "\n",
              "      const channel = await google.colab.kernel.comms.open(id);\n",
              "      // Send a message to notify the kernel that we're ready.\n",
              "      channel.send({})\n",
              "\n",
              "      for await (const message of channel.messages) {\n",
              "        // Send a message to notify the kernel that we're ready.\n",
              "        channel.send({})\n",
              "        if (message.buffers) {\n",
              "          for (const buffer of message.buffers) {\n",
              "            buffers.push(buffer);\n",
              "            downloaded += buffer.byteLength;\n",
              "            progress.value = downloaded;\n",
              "          }\n",
              "        }\n",
              "      }\n",
              "      const blob = new Blob(buffers, {type: 'application/binary'});\n",
              "      const a = document.createElement('a');\n",
              "      a.href = window.URL.createObjectURL(blob);\n",
              "      a.download = filename;\n",
              "      div.appendChild(a);\n",
              "      a.click();\n",
              "      div.remove();\n",
              "    }\n",
              "  "
            ]
          },
          "metadata": {}
        },
        {
          "output_type": "display_data",
          "data": {
            "text/plain": [
              "<IPython.core.display.Javascript object>"
            ],
            "application/javascript": [
              "download(\"download_b5a6fc63-e462-4f5d-867f-265e8c0d7ea6\", \"model_rf_Image_Analysis.pkl\", 22650040)"
            ]
          },
          "metadata": {}
        },
        {
          "output_type": "display_data",
          "data": {
            "text/plain": [
              "<IPython.core.display.Javascript object>"
            ],
            "application/javascript": [
              "\n",
              "    async function download(id, filename, size) {\n",
              "      if (!google.colab.kernel.accessAllowed) {\n",
              "        return;\n",
              "      }\n",
              "      const div = document.createElement('div');\n",
              "      const label = document.createElement('label');\n",
              "      label.textContent = `Downloading \"${filename}\": `;\n",
              "      div.appendChild(label);\n",
              "      const progress = document.createElement('progress');\n",
              "      progress.max = size;\n",
              "      div.appendChild(progress);\n",
              "      document.body.appendChild(div);\n",
              "\n",
              "      const buffers = [];\n",
              "      let downloaded = 0;\n",
              "\n",
              "      const channel = await google.colab.kernel.comms.open(id);\n",
              "      // Send a message to notify the kernel that we're ready.\n",
              "      channel.send({})\n",
              "\n",
              "      for await (const message of channel.messages) {\n",
              "        // Send a message to notify the kernel that we're ready.\n",
              "        channel.send({})\n",
              "        if (message.buffers) {\n",
              "          for (const buffer of message.buffers) {\n",
              "            buffers.push(buffer);\n",
              "            downloaded += buffer.byteLength;\n",
              "            progress.value = downloaded;\n",
              "          }\n",
              "        }\n",
              "      }\n",
              "      const blob = new Blob(buffers, {type: 'application/binary'});\n",
              "      const a = document.createElement('a');\n",
              "      a.href = window.URL.createObjectURL(blob);\n",
              "      a.download = filename;\n",
              "      div.appendChild(a);\n",
              "      a.click();\n",
              "      div.remove();\n",
              "    }\n",
              "  "
            ]
          },
          "metadata": {}
        },
        {
          "output_type": "display_data",
          "data": {
            "text/plain": [
              "<IPython.core.display.Javascript object>"
            ],
            "application/javascript": [
              "download(\"download_f31233fd-6005-4d4c-9b46-9916e8e98fca\", \"model_svm_Image_Analysis.pkl\", 88417169)"
            ]
          },
          "metadata": {}
        },
        {
          "output_type": "display_data",
          "data": {
            "text/plain": [
              "<IPython.core.display.Javascript object>"
            ],
            "application/javascript": [
              "\n",
              "    async function download(id, filename, size) {\n",
              "      if (!google.colab.kernel.accessAllowed) {\n",
              "        return;\n",
              "      }\n",
              "      const div = document.createElement('div');\n",
              "      const label = document.createElement('label');\n",
              "      label.textContent = `Downloading \"${filename}\": `;\n",
              "      div.appendChild(label);\n",
              "      const progress = document.createElement('progress');\n",
              "      progress.max = size;\n",
              "      div.appendChild(progress);\n",
              "      document.body.appendChild(div);\n",
              "\n",
              "      const buffers = [];\n",
              "      let downloaded = 0;\n",
              "\n",
              "      const channel = await google.colab.kernel.comms.open(id);\n",
              "      // Send a message to notify the kernel that we're ready.\n",
              "      channel.send({})\n",
              "\n",
              "      for await (const message of channel.messages) {\n",
              "        // Send a message to notify the kernel that we're ready.\n",
              "        channel.send({})\n",
              "        if (message.buffers) {\n",
              "          for (const buffer of message.buffers) {\n",
              "            buffers.push(buffer);\n",
              "            downloaded += buffer.byteLength;\n",
              "            progress.value = downloaded;\n",
              "          }\n",
              "        }\n",
              "      }\n",
              "      const blob = new Blob(buffers, {type: 'application/binary'});\n",
              "      const a = document.createElement('a');\n",
              "      a.href = window.URL.createObjectURL(blob);\n",
              "      a.download = filename;\n",
              "      div.appendChild(a);\n",
              "      a.click();\n",
              "      div.remove();\n",
              "    }\n",
              "  "
            ]
          },
          "metadata": {}
        },
        {
          "output_type": "display_data",
          "data": {
            "text/plain": [
              "<IPython.core.display.Javascript object>"
            ],
            "application/javascript": [
              "download(\"download_79b62641-08c4-421f-bc6d-552b1a6bbfbc\", \"model_lr_Image_Analysis.sav\", 132522)"
            ]
          },
          "metadata": {}
        },
        {
          "output_type": "display_data",
          "data": {
            "text/plain": [
              "<IPython.core.display.Javascript object>"
            ],
            "application/javascript": [
              "\n",
              "    async function download(id, filename, size) {\n",
              "      if (!google.colab.kernel.accessAllowed) {\n",
              "        return;\n",
              "      }\n",
              "      const div = document.createElement('div');\n",
              "      const label = document.createElement('label');\n",
              "      label.textContent = `Downloading \"${filename}\": `;\n",
              "      div.appendChild(label);\n",
              "      const progress = document.createElement('progress');\n",
              "      progress.max = size;\n",
              "      div.appendChild(progress);\n",
              "      document.body.appendChild(div);\n",
              "\n",
              "      const buffers = [];\n",
              "      let downloaded = 0;\n",
              "\n",
              "      const channel = await google.colab.kernel.comms.open(id);\n",
              "      // Send a message to notify the kernel that we're ready.\n",
              "      channel.send({})\n",
              "\n",
              "      for await (const message of channel.messages) {\n",
              "        // Send a message to notify the kernel that we're ready.\n",
              "        channel.send({})\n",
              "        if (message.buffers) {\n",
              "          for (const buffer of message.buffers) {\n",
              "            buffers.push(buffer);\n",
              "            downloaded += buffer.byteLength;\n",
              "            progress.value = downloaded;\n",
              "          }\n",
              "        }\n",
              "      }\n",
              "      const blob = new Blob(buffers, {type: 'application/binary'});\n",
              "      const a = document.createElement('a');\n",
              "      a.href = window.URL.createObjectURL(blob);\n",
              "      a.download = filename;\n",
              "      div.appendChild(a);\n",
              "      a.click();\n",
              "      div.remove();\n",
              "    }\n",
              "  "
            ]
          },
          "metadata": {}
        },
        {
          "output_type": "display_data",
          "data": {
            "text/plain": [
              "<IPython.core.display.Javascript object>"
            ],
            "application/javascript": [
              "download(\"download_6f3b4a26-ab1e-49aa-8da7-6034e2709b08\", \"model_lda_Image_Analysis.sav\", 396162)"
            ]
          },
          "metadata": {}
        },
        {
          "output_type": "display_data",
          "data": {
            "text/plain": [
              "<IPython.core.display.Javascript object>"
            ],
            "application/javascript": [
              "\n",
              "    async function download(id, filename, size) {\n",
              "      if (!google.colab.kernel.accessAllowed) {\n",
              "        return;\n",
              "      }\n",
              "      const div = document.createElement('div');\n",
              "      const label = document.createElement('label');\n",
              "      label.textContent = `Downloading \"${filename}\": `;\n",
              "      div.appendChild(label);\n",
              "      const progress = document.createElement('progress');\n",
              "      progress.max = size;\n",
              "      div.appendChild(progress);\n",
              "      document.body.appendChild(div);\n",
              "\n",
              "      const buffers = [];\n",
              "      let downloaded = 0;\n",
              "\n",
              "      const channel = await google.colab.kernel.comms.open(id);\n",
              "      // Send a message to notify the kernel that we're ready.\n",
              "      channel.send({})\n",
              "\n",
              "      for await (const message of channel.messages) {\n",
              "        // Send a message to notify the kernel that we're ready.\n",
              "        channel.send({})\n",
              "        if (message.buffers) {\n",
              "          for (const buffer of message.buffers) {\n",
              "            buffers.push(buffer);\n",
              "            downloaded += buffer.byteLength;\n",
              "            progress.value = downloaded;\n",
              "          }\n",
              "        }\n",
              "      }\n",
              "      const blob = new Blob(buffers, {type: 'application/binary'});\n",
              "      const a = document.createElement('a');\n",
              "      a.href = window.URL.createObjectURL(blob);\n",
              "      a.download = filename;\n",
              "      div.appendChild(a);\n",
              "      a.click();\n",
              "      div.remove();\n",
              "    }\n",
              "  "
            ]
          },
          "metadata": {}
        },
        {
          "output_type": "display_data",
          "data": {
            "text/plain": [
              "<IPython.core.display.Javascript object>"
            ],
            "application/javascript": [
              "download(\"download_7012f480-acb2-414d-804d-c687b985a07b\", \"model_knn_Image_Analysis.sav\", 150818606)"
            ]
          },
          "metadata": {}
        },
        {
          "output_type": "display_data",
          "data": {
            "text/plain": [
              "<IPython.core.display.Javascript object>"
            ],
            "application/javascript": [
              "\n",
              "    async function download(id, filename, size) {\n",
              "      if (!google.colab.kernel.accessAllowed) {\n",
              "        return;\n",
              "      }\n",
              "      const div = document.createElement('div');\n",
              "      const label = document.createElement('label');\n",
              "      label.textContent = `Downloading \"${filename}\": `;\n",
              "      div.appendChild(label);\n",
              "      const progress = document.createElement('progress');\n",
              "      progress.max = size;\n",
              "      div.appendChild(progress);\n",
              "      document.body.appendChild(div);\n",
              "\n",
              "      const buffers = [];\n",
              "      let downloaded = 0;\n",
              "\n",
              "      const channel = await google.colab.kernel.comms.open(id);\n",
              "      // Send a message to notify the kernel that we're ready.\n",
              "      channel.send({})\n",
              "\n",
              "      for await (const message of channel.messages) {\n",
              "        // Send a message to notify the kernel that we're ready.\n",
              "        channel.send({})\n",
              "        if (message.buffers) {\n",
              "          for (const buffer of message.buffers) {\n",
              "            buffers.push(buffer);\n",
              "            downloaded += buffer.byteLength;\n",
              "            progress.value = downloaded;\n",
              "          }\n",
              "        }\n",
              "      }\n",
              "      const blob = new Blob(buffers, {type: 'application/binary'});\n",
              "      const a = document.createElement('a');\n",
              "      a.href = window.URL.createObjectURL(blob);\n",
              "      a.download = filename;\n",
              "      div.appendChild(a);\n",
              "      a.click();\n",
              "      div.remove();\n",
              "    }\n",
              "  "
            ]
          },
          "metadata": {}
        },
        {
          "output_type": "display_data",
          "data": {
            "text/plain": [
              "<IPython.core.display.Javascript object>"
            ],
            "application/javascript": [
              "download(\"download_7c2459c1-4dd6-463b-a42e-913dc9a50ea7\", \"model_rf_Image_Analysis.sav\", 22650040)"
            ]
          },
          "metadata": {}
        },
        {
          "output_type": "display_data",
          "data": {
            "text/plain": [
              "<IPython.core.display.Javascript object>"
            ],
            "application/javascript": [
              "\n",
              "    async function download(id, filename, size) {\n",
              "      if (!google.colab.kernel.accessAllowed) {\n",
              "        return;\n",
              "      }\n",
              "      const div = document.createElement('div');\n",
              "      const label = document.createElement('label');\n",
              "      label.textContent = `Downloading \"${filename}\": `;\n",
              "      div.appendChild(label);\n",
              "      const progress = document.createElement('progress');\n",
              "      progress.max = size;\n",
              "      div.appendChild(progress);\n",
              "      document.body.appendChild(div);\n",
              "\n",
              "      const buffers = [];\n",
              "      let downloaded = 0;\n",
              "\n",
              "      const channel = await google.colab.kernel.comms.open(id);\n",
              "      // Send a message to notify the kernel that we're ready.\n",
              "      channel.send({})\n",
              "\n",
              "      for await (const message of channel.messages) {\n",
              "        // Send a message to notify the kernel that we're ready.\n",
              "        channel.send({})\n",
              "        if (message.buffers) {\n",
              "          for (const buffer of message.buffers) {\n",
              "            buffers.push(buffer);\n",
              "            downloaded += buffer.byteLength;\n",
              "            progress.value = downloaded;\n",
              "          }\n",
              "        }\n",
              "      }\n",
              "      const blob = new Blob(buffers, {type: 'application/binary'});\n",
              "      const a = document.createElement('a');\n",
              "      a.href = window.URL.createObjectURL(blob);\n",
              "      a.download = filename;\n",
              "      div.appendChild(a);\n",
              "      a.click();\n",
              "      div.remove();\n",
              "    }\n",
              "  "
            ]
          },
          "metadata": {}
        },
        {
          "output_type": "display_data",
          "data": {
            "text/plain": [
              "<IPython.core.display.Javascript object>"
            ],
            "application/javascript": [
              "download(\"download_655cf48a-d2f0-48b5-b364-9f849e548e1b\", \"model_svm_Image_Analysis.sav\", 88417169)"
            ]
          },
          "metadata": {}
        }
      ]
    },
    {
      "cell_type": "markdown",
      "source": [
        "####Testing ML the model"
      ],
      "metadata": {
        "id": "npeZOlMtIPqh"
      }
    },
    {
      "cell_type": "code",
      "source": [
        "# Later, you can load the model from the file and use it for predictions\n",
        "with open('logistic_regression_model.pkl', 'rb') as file:\n",
        "    loaded_model = pickle.load(file)\n",
        "\n",
        "# Example usage: Make predictions with the loaded model\n",
        "new_data = [[5.1, 3.5, 1.4, 0.2]]  # Replace with your own data\n",
        "predictions = loaded_model.predict(new_data)\n",
        "print(predictions)"
      ],
      "metadata": {
        "id": "7A4vdXOSH-KP"
      },
      "execution_count": null,
      "outputs": []
    },
    {
      "cell_type": "markdown",
      "source": [],
      "metadata": {
        "id": "LxCol6EfuYvc"
      }
    },
    {
      "cell_type": "code",
      "source": [
        "###Function to import pictures and run preduction\n",
        "\n",
        "# Define the class labels for the CNN models\n",
        "cnn_model_labels = ['akiec', 'bcc', 'bkl', 'df', 'mel', 'nv', 'vasc']\n",
        "\n",
        "# Define the class labels for the linear models\n",
        "linear_model_labels = ['Logistic Regression', 'KNeighbors', 'Linear Discriminant Analysis', 'SVM', 'Random Forest']\n",
        "\n",
        "def import_and_predict(image_path):\n",
        "    try:\n",
        "        # Load and preprocess the image\n",
        "        image = cv2.imread(image_path)\n",
        "        image = cv2.resize(image, (28, 28))\n",
        "        image = image / 255.0  # Normalize pixel values (assuming 0-255 scale)\n",
        "        image = np.expand_dims(image, axis=0)  # Add a batch dimension\n",
        "\n",
        "        # Load and predict using the CNN models\n",
        "        cnn_predictions = []\n",
        "        for model_file in ['cnn_model1.pkl', 'cnn_model2.pkl', 'cnn_model3.pkl']:\n",
        "            with open(model_file, 'rb') as file:\n",
        "                cnn_model = pickle.load(file)\n",
        "            cnn_prediction = cnn_model.predict(image)\n",
        "            cnn_predictions.append(cnn_prediction[0])\n",
        "\n",
        "        # Load and predict using the linear models\n",
        "        linear_predictions = []\n",
        "        for model_file in ['logistic_regression_model.pkl', 'kneighbors_model.pkl',\n",
        "                           'lda_model.pkl', 'svm_model.pkl', 'random_forest_model.pkl']:\n",
        "            with open(model_file, 'rb') as file:\n",
        "            image_flattened = image.reshape(1, -1)\n",
        "            linear_prediction = linear_model.predict(image_flattened)\n",
        "            linear_predictions.append(linear_prediction[0])\n",
        "\n",
        "        return cnn_predictions + linear_predictions\n",
        "\n",
        "    except Exception as e:\n",
        "        return str(e)\n",
        "\n",
        "# Example usage:\n",
        "image_path = 'path_to_your_image.jpg'  # Replace with the path to your image\n",
        "results = import_and_predict(image_path)\n",
        "print(\"CNN Model 1 Prediction:\", cnn_model_labels[results[0]])\n",
        "print(\"CNN Model 2 Prediction:\", cnn_model_labels[results[1]])\n",
        "print(\"CNN Model 3 Prediction:\", cnn_model_labels[results[2]])\n",
        "print(\"Logistic Regression Prediction:\", linear_model_labels[results[3]])\n",
        "print(\"KNeighbors Prediction:\", linear_model_labels[results[4]])\n",
        "print(\"Linear Discriminant Analysis Prediction:\", linear_model_labels[results[5]])\n",
        "print(\"SVM Prediction:\", linear_model_labels[results[6]])\n",
        "print(\"Random Forest Prediction:\", linear_model_labels[results[7]])"
      ],
      "metadata": {
        "id": "RBiYLH4ww0B_"
      },
      "execution_count": null,
      "outputs": []
    }
  ]
}